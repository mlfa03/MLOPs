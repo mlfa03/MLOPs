{
  "nbformat": 4,
  "nbformat_minor": 0,
  "metadata": {
    "colab": {
      "provenance": [],
      "toc_visible": true,
      "authorship_tag": "ABX9TyPZ8wygItu4/nTWM7NqNHSX",
      "include_colab_link": true
    },
    "kernelspec": {
      "name": "python3",
      "display_name": "Python 3"
    },
    "language_info": {
      "name": "python"
    }
  },
  "cells": [
    {
      "cell_type": "markdown",
      "metadata": {
        "id": "view-in-github",
        "colab_type": "text"
      },
      "source": [
        "<a href=\"https://colab.research.google.com/github/mlfa03/MLOPs/blob/main/Docker.ipynb\" target=\"_parent\"><img src=\"https://colab.research.google.com/assets/colab-badge.svg\" alt=\"Open In Colab\"/></a>"
      ]
    },
    {
      "cell_type": "markdown",
      "source": [
        "# Docker"
      ],
      "metadata": {
        "id": "EkWH_mopFMBR"
      }
    },
    {
      "cell_type": "markdown",
      "source": [
        "## CheatSheet"
      ],
      "metadata": {
        "id": "JFQc0LwhRyfM"
      }
    },
    {
      "cell_type": "markdown",
      "source": [
        "### Docker CLI"
      ],
      "metadata": {
        "id": "dOZ5oa5JR0v4"
      }
    },
    {
      "cell_type": "markdown",
      "source": [
        "#### Run a new container"
      ],
      "metadata": {
        "id": "Fpwx-IMER5YN"
      }
    },
    {
      "cell_type": "code",
      "source": [
        "docker run IMAGE                                             #Start a new container from an image\n",
        "docker run --name CONTAINER IMAGE                            # assign the container created in the previous step, a name\n",
        "docker run -p HOSTPORT:CONTAINERPORT IMAGE                   # map a port \n",
        "docker run -p IMAGE                                          # map all ports \n",
        "docker run -d IMAGE                                          # run a container in the background \n",
        "docker run --hostname HOSTNAME IMAGE                         # assign it a hostname\n",
        "docker run --add-host HOSTNAME:IP IMAGE                      # add a dns entry \n",
        "docker run -v HOSTDIR:TARGETDIR IMAGE                        # map a local directory into the container \n",
        "docker run -it --entrypoint EXECUTABLE IMAGE                 # but change the entrypoint "
      ],
      "metadata": {
        "id": "Yg_VIQA9SFET"
      },
      "execution_count": null,
      "outputs": []
    },
    {
      "cell_type": "code",
      "source": [
        "#Example of the commands above:\n",
        "docker run nginx\n",
        "docker run --name web nginx\n",
        "docker run -p 8080:80 nginx\n",
        "docker run -p nginx\n",
        "docker run -d nginx \n",
        "docker run --hostname srv nginx \n",
        "docker run --add-host HOSTNAME:IP IMAGE \n",
        "docker run -v ~/:/usr/share/nginx/html nginx \n",
        "docker run -it --entrypoint bash nginx "
      ],
      "metadata": {
        "id": "D3EDmGWbTmoZ"
      },
      "execution_count": null,
      "outputs": []
    },
    {
      "cell_type": "markdown",
      "source": [
        "#### Manage containers"
      ],
      "metadata": {
        "id": "UrYN88rZR8XL"
      }
    },
    {
      "cell_type": "code",
      "source": [
        "docker ps                                                  # show a list of running containers\n",
        "docker ps -a                                               # show a list of all containers\n",
        "docker rm CONTAINER                                        # Delete a container\n",
        "docker rm -f CONTAINER                                     # Delete a running container\n",
        "docker container prune                                     # Delete stopped containers\n",
        "docker start CONTAINER                                     # Start a stopped container\n",
        "docker cp CONTAINER:SOURCE TARGET                          # Copy a file from a container to the host\n",
        "docker cp TARGET CONTAINER:SOURCE                          # Copy a file from a host to a container\n",
        "docker exec -it CONTAINER EXECUTABLE                       # Start a shell inside a running container\n",
        "docker rename OLD_NAME NEW_NAME                            # Rename a container\n",
        "docker commit CONTAINER                                    # Create an image out of a container"
      ],
      "metadata": {
        "id": "IuFirGQqUs9v"
      },
      "execution_count": null,
      "outputs": []
    },
    {
      "cell_type": "code",
      "source": [
        "#Example of the commands above:\n",
        "docker rm web\n",
        "docker rm -f web\n",
        "docker stop web\n",
        "docker start web\n",
        "docker cp web:/index.html index.html\n",
        "docker cp index.html web:/index.html\n",
        "docker exec -it web bash \n",
        "docker rename 096 web\n",
        "docker commit web"
      ],
      "metadata": {
        "id": "qoHUsC2WqblR"
      },
      "execution_count": null,
      "outputs": []
    },
    {
      "cell_type": "markdown",
      "source": [
        "#### Manage Images"
      ],
      "metadata": {
        "id": "Oiik0RfFR-0m"
      }
    },
    {
      "cell_type": "code",
      "source": [
        "docker pull IMAGE[:TAG]                                                # Download an Image\n",
        "docker push IMAGE                                                      # Upload an image to a repository\n",
        "docker rmi IMAGE                                                       # Delete an image\n",
        "docker images                                                          # Show a list of all images\n",
        "docker image prune                                                     # Delete dangling images\n",
        "docker image prune -a                                                  # Delete all unused images\n",
        "docker build DIRECTORY                                                 # Build an image from a dockerfile\n",
        "docker tag IMAGE NEWIMAGE                                              # Tag an image\n",
        "docker build -t IMAGE DIRECTORY                                        # Build and tag an image from a Dockerfile\n",
        "docker save IMAGE > FILE                                               # Save an image to a tar file\n",
        "docker load -i TARFILE                                                 # Load an image from a tar file"
      ],
      "metadata": {
        "id": "QFM-xtmrq4l6"
      },
      "execution_count": null,
      "outputs": []
    },
    {
      "cell_type": "code",
      "source": [
        "#Examples from commands above:\n",
        "docker pull nginx\n",
        "docker push myimage:1 0\n",
        "docker build .\n",
        "docker tag ubuntu ubuntu:18.04\n",
        "docker build -t myimage\n",
        "docker save nginx > nginx.tar\n",
        "docker load -i nginx.tar "
      ],
      "metadata": {
        "id": "mtrtuT8yvmu2"
      },
      "execution_count": null,
      "outputs": []
    },
    {
      "cell_type": "markdown",
      "source": [
        "#### Info & Stats"
      ],
      "metadata": {
        "id": "XCkNy3A_SCHf"
      }
    },
    {
      "cell_type": "code",
      "source": [
        "docker logs CONTAINER                                                   # Show the logs of a container\n",
        "docker stats                                                            # Show stats of running containers\n",
        "docker version                                                          # Show installed docker version \n",
        "docker inspect NAME                                                     # get detailed info about object\n",
        "docker diff CONTAINER                                                   # Show all modified files in container\n",
        "docker port CONTAINER                                                   # Show mapped ports of a container\n"
      ],
      "metadata": {
        "id": "47ay5hw_wDpO"
      },
      "execution_count": null,
      "outputs": []
    },
    {
      "cell_type": "markdown",
      "source": [
        "## Basics"
      ],
      "metadata": {
        "id": "X6ICHOB0FO-Z"
      }
    },
    {
      "cell_type": "markdown",
      "source": [
        "### What is containerization?"
      ],
      "metadata": {
        "id": "8UXC0ExuFQV9"
      }
    },
    {
      "cell_type": "markdown",
      "source": [
        "A runtime instance of a docker image contains 3 things:\n",
        "\n",
        "* A docker image\n",
        "* An execution environment \n",
        "* A standard set of instructions "
      ],
      "metadata": {
        "id": "R4ZFQ7uiFSC-"
      }
    },
    {
      "cell_type": "markdown",
      "source": [
        "**Docker Engine**\n",
        "\n",
        "* Comprised of the runtime and packaging tool \n",
        "* Must be installed on the host that runs docker\n",
        "\n",
        "**Docker Store**\n",
        "* Online cloud service where users can store and share their docker images \n",
        "* Also known as docker hub "
      ],
      "metadata": {
        "id": "xSIk88U6Fv5C"
      }
    },
    {
      "cell_type": "markdown",
      "source": [
        "## Installation and configuration "
      ],
      "metadata": {
        "id": "HujbjvKuGcUh"
      }
    },
    {
      "cell_type": "markdown",
      "source": [
        "### Installation"
      ],
      "metadata": {
        "id": "oaCrLGdjBYRk"
      }
    },
    {
      "cell_type": "code",
      "execution_count": null,
      "metadata": {
        "id": "HjcX8Ar3FJMP"
      },
      "outputs": [],
      "source": [
        "sudo apt-get remove docker docker-engine docker-ce docker.io                                #Uninstall Docker\n",
        "sudo apt-get update                                                                         # Update the apt package index\n",
        "sudo apt-get install \\                                                                      # Allow apt to use a repository over HTTPS\n",
        "    apt-transport-https \\\n",
        "    ca-certificates \\\n",
        "    curl \\\n",
        "    software-properties-common\n",
        "\n",
        "curl -fsSL https://download.docker.com/linux/ubuntu/gpg | sudo apt-key add -                # Add Docker’s official GPG key to apt\n",
        "sudo apt-key fingerprint 0EBFCD88                                                           # Add Docker’s official GPG key to apt\n",
        "sudo add-apt-repository \\                                                                   # Add the Docker repository to apt\n",
        "   \"deb [arch=amd64] https://download.docker.com/linux/ubuntu \\\n",
        "   $(lsb_release -cs) \\\n",
        "   stable\"\n",
        "\n",
        "sudo apt-get update                                                                         # Re-Update the apt package index now that we have the Docker repositories added"
      ]
    },
    {
      "cell_type": "code",
      "source": [
        "sudo apt-get install docker-ce=17.12.0~ce-0~ubuntu                                       # Install a specific version of Docker\n",
        "sudo groupadd docker                                                                     # Make sure that the Docker group is already added\n",
        "sudo usermod -aG docker $USER                                                            # Add your username to the Docker group\n",
        "\n",
        "# Log out and back in\n",
        "\n",
        "# Test Docker with the version command and hello-world\n",
        "docker version\n",
        "docker run hello-world"
      ],
      "metadata": {
        "id": "LOlCvEtiHguT"
      },
      "execution_count": null,
      "outputs": []
    },
    {
      "cell_type": "markdown",
      "source": [
        "### UCP (Universal Control Plane)"
      ],
      "metadata": {
        "id": "QURH8EjUIHXW"
      }
    },
    {
      "cell_type": "markdown",
      "source": [
        "Docker hosts all running the Docker Engine? How do you manage a Docker infrastructure at that type of scale? That's what Docker's Enterprise Edition provides you. It includes the Universal Control Plane and the Docker Trusted Registry"
      ],
      "metadata": {
        "id": "PoD6vZaRMhPY"
      }
    },
    {
      "cell_type": "code",
      "source": [
        "# Install UCP\n",
        "docker container run --rm -it --name ucp \\\n",
        "  -v /var/run/docker.sock:/var/run/docker.sock \\\n",
        "  docker/ucp:2.2.5 install \\\n",
        "  --host-address <node-ip-address> \\\n",
        "  --interactive"
      ],
      "metadata": {
        "id": "ABq_6SuKIIoh"
      },
      "execution_count": null,
      "outputs": []
    },
    {
      "cell_type": "markdown",
      "source": [
        "### Backup UCP"
      ],
      "metadata": {
        "id": "UwbYS09DIjV0"
      }
    },
    {
      "cell_type": "code",
      "source": [
        "# Backup UCP\n",
        "\n",
        "docker container run \\\n",
        "  --log-driver none --rm \\\n",
        "  --interactive \\\n",
        "  --name ucp \\\n",
        "  -v /var/run/docker.sock:/var/run/docker.sock \\\n",
        "  docker/ucp:2.2.6 backup \\\n",
        "  --id <ucp-instance-id> \\\n",
        "  --passphrase \"secret\" > /tmp/backup.tar\n",
        "\n",
        "# Backup registry content data\n",
        "\n",
        "sudo tar -cf backup-images.tar \\ $(dirname $(docker volume inspect --format '{{.Mountpoint}}' dtr-registry-<replica-id>))\n",
        "\n",
        "# Backup DTR metadata\n",
        "\n",
        "read -sp 'ucp password: ' UCP_PASSWORD; \\\n",
        "docker run --log-driver none -i --rm \\ \n",
        "--env UCP_PASSWORD=$UCP_PASSWORD \\\n",
        "docker/dtr:2.3.11 backup \\ \n",
        "--ucp-url <ucp-url> \\\n",
        " --ucp-insecure-tls \\\n",
        " --ucp-username <ucp-username> \\\n",
        " --existing-replica-id <replica-id> > backup-metadata.tar"
      ],
      "metadata": {
        "id": "LhrLQ9_kIgCt"
      },
      "execution_count": null,
      "outputs": []
    },
    {
      "cell_type": "code",
      "source": [
        "docker run -it --rm docker/dtr:2.4.12 install --ucp-insecure-tls"
      ],
      "metadata": {
        "id": "fal82U_OInWC"
      },
      "execution_count": null,
      "outputs": []
    },
    {
      "cell_type": "markdown",
      "source": [
        "### Docker storage"
      ],
      "metadata": {
        "id": "w95KEmEwBrcf"
      }
    },
    {
      "cell_type": "markdown",
      "source": [
        " It's always recommended to store data inside Docker volumes and get that data outside of containers, as those provide better performance and isolation. However, if you have a work load that needs persistent data in the writable layer of your container, you should look at storage drivers"
      ],
      "metadata": {
        "id": "cRI3M1HpBt7o"
      }
    },
    {
      "cell_type": "code",
      "source": [
        "# To find out what storage driver you are using \n",
        "docker info\n"
      ],
      "metadata": {
        "id": "blFQ1mnzB4QQ"
      },
      "execution_count": null,
      "outputs": []
    },
    {
      "cell_type": "markdown",
      "source": [
        "Instructions on how to change storage drivers: https://docs.docker.com/storage/storagedriver/select-storage-driver/"
      ],
      "metadata": {
        "id": "s0hArmRoCaZN"
      }
    },
    {
      "cell_type": "markdown",
      "source": [
        "### Creating a repository and pushing it to docker hub"
      ],
      "metadata": {
        "id": "F-oS4iZjCoFq"
      }
    },
    {
      "cell_type": "markdown",
      "source": [
        "A Docker repository is a collection of related Docker images with the same name but different tags. A registry, on the other hand, is a place where you store your images. A registry can be public, it can be private, and it can have multiple repositories. The most common and default registry for Docker is Docker's own public registry, Docker Hub."
      ],
      "metadata": {
        "id": "8jNmD8V_C0fC"
      }
    },
    {
      "cell_type": "code",
      "source": [
        "docker login                                   #login to docker hub\n",
        "docker pull IMAGE                              #Pulling an image\n",
        "docker images                                  #to see the images information\n",
        "docker tag Xyz my_username/REPO_NAME:my_tag    #Giving a tag to an image and sending to your repository on docker hub (xyz are 3 first letters of image tag)\n",
        "docker push my_username/REPO_NAME              #push to docker hub\n",
        "docker login                                   #login to docker hub"
      ],
      "metadata": {
        "id": "thqAZOzoCsON"
      },
      "execution_count": null,
      "outputs": []
    },
    {
      "cell_type": "markdown",
      "source": [
        "## Orchestration "
      ],
      "metadata": {
        "id": "t0QFja-BJZb2"
      }
    },
    {
      "cell_type": "markdown",
      "source": [
        "### Getting started with docker swarm"
      ],
      "metadata": {
        "id": "PnHgzlcdJbRD"
      }
    },
    {
      "cell_type": "markdown",
      "source": [
        "The swarm cluster is run by what we call managers and the work is done by worker nodes, which run the swarm services. "
      ],
      "metadata": {
        "id": "qiMbhMoUQEne"
      }
    },
    {
      "cell_type": "code",
      "source": [
        "docker swarm init                             #initializing docker swarm\n",
        "docker swarm join --token [xxxxxxx]           #to add a worker to the swarm\n",
        "docker swarm join-token manager \n",
        "\n",
        "#Now the cluster is created, we can check it:\n",
        "docker node ls                                #visualize node in the cluster\n",
        "docker swarm join-token worker                #to see the token of the worker \n",
        "docker swarm join --token [token copied]  \n",
        "#\"this node joined swarm as a worker\" message appears"
      ],
      "metadata": {
        "id": "8v1xte51JavI"
      },
      "execution_count": null,
      "outputs": []
    },
    {
      "cell_type": "markdown",
      "source": [
        "**Nodes**\n",
        "The node is your physical host or could it be a virtual machine in the Cloud that's running docker, the docker engine\n",
        "\n",
        "\n",
        "**Services**\n",
        "They are automatically run across however many nodes are needed based on the number of replicas that you defined\n",
        "\n",
        "**Containers**\n",
        "Runs on one host\n",
        "\n",
        "\n",
        "**Tasks**"
      ],
      "metadata": {
        "id": "CvtzCrVVTtV0"
      }
    },
    {
      "cell_type": "code",
      "source": [
        "docker service create --name name_of_service --replicas=number-of-replicas IMAGE   #creating a service\n",
        "\n",
        "docker service ls                                                                  #checking if the service was created"
      ],
      "metadata": {
        "id": "ohiHOgW9UZ02"
      },
      "execution_count": null,
      "outputs": []
    },
    {
      "cell_type": "markdown",
      "source": [
        " If you're creating a brand new Docker swarm cluster, you can enable autolock when you initialize swarm with this command: docker swarm init --autolock"
      ],
      "metadata": {
        "id": "KpE5zqnrWskJ"
      }
    },
    {
      "cell_type": "code",
      "source": [
        "#Locking a swarm cluster\n",
        "\n",
        "docker swarm init --autolock                            #locking swarm cluster when creating it \n",
        "docker swarm update --autolock=true                     #locking an existent swarm cluster\n",
        "\n",
        "#You need to restart docker before doing this and also need to unlock the cluster\n",
        "sudo systemctl restart docker \n",
        "docker node ls \n",
        "docker swarm unlock"
      ],
      "metadata": {
        "id": "ikMPau0WWkUQ"
      },
      "execution_count": null,
      "outputs": []
    },
    {
      "cell_type": "markdown",
      "source": [
        "### Manage docker swarm "
      ],
      "metadata": {
        "id": "nl35-_UHPCfe"
      }
    },
    {
      "cell_type": "code",
      "source": [
        "docker info | more                                  #get more information on the cluster\n",
        "docker service ls                                   #\n",
        "docker inspect"
      ],
      "metadata": {
        "id": "KFSQ_PlhPEer"
      },
      "execution_count": null,
      "outputs": []
    },
    {
      "cell_type": "code",
      "source": [
        "#Stack files\n",
        "cat docker-stack.yml                                          #visualize yaml stack file \n",
        "docker stack deploy --compose-file docker-stack.yml mystack   #deploying stack file \n",
        "docker stack ls                                               #visualizing\n",
        "\n",
        "\n",
        "#Manipulate running stack of services\n",
        "docker stack ps mystack                                      #visualizing the stack we deployed \n",
        "cat docker-stack.yml #and make modifications directly in the file\n",
        "#rerun docker stack deploy --compose-file docker-stack.yml mystack to update "
      ],
      "metadata": {
        "id": "dlChtNfTbB-z"
      },
      "execution_count": null,
      "outputs": []
    },
    {
      "cell_type": "markdown",
      "source": [
        "### Troubleshooting docker swarm"
      ],
      "metadata": {
        "id": "029yNJibPGsZ"
      }
    },
    {
      "cell_type": "code",
      "source": [
        "docker service logs\n",
        "\n",
        "docker service ls            #see services that are running "
      ],
      "metadata": {
        "id": "BCZWuyAAPGWV"
      },
      "execution_count": null,
      "outputs": []
    },
    {
      "cell_type": "markdown",
      "source": [
        "## Image Creation, Management and Registry "
      ],
      "metadata": {
        "id": "0UTHYd0TJkEH"
      }
    },
    {
      "cell_type": "markdown",
      "source": [
        ", an image is an executable package that includes everything needed to run an application, including the code, a runtime, libraries, environmental variables and configuration files"
      ],
      "metadata": {
        "id": "9n7LwOXG6Xv0"
      }
    },
    {
      "cell_type": "code",
      "source": [],
      "metadata": {
        "id": "8mSj0scYJp3K"
      },
      "execution_count": null,
      "outputs": []
    },
    {
      "cell_type": "markdown",
      "source": [
        "## Storage and Volumes"
      ],
      "metadata": {
        "id": "E7n_koPCKjrx"
      }
    },
    {
      "cell_type": "code",
      "source": [],
      "metadata": {
        "id": "Lta_HGwkKlCF"
      },
      "execution_count": null,
      "outputs": []
    },
    {
      "cell_type": "markdown",
      "source": [
        "## Networking"
      ],
      "metadata": {
        "id": "hU1dyHeZKnix"
      }
    },
    {
      "cell_type": "code",
      "source": [],
      "metadata": {
        "id": "8IJKvse1Ko67"
      },
      "execution_count": null,
      "outputs": []
    },
    {
      "cell_type": "code",
      "source": [],
      "metadata": {
        "id": "11cWSQp9KpqC"
      },
      "execution_count": null,
      "outputs": []
    },
    {
      "cell_type": "markdown",
      "source": [
        "## Security "
      ],
      "metadata": {
        "id": "X7mksO3hKqJY"
      }
    },
    {
      "cell_type": "markdown",
      "source": [
        "**Docker content trust**\n",
        "\n",
        "* Docker notary is an open source project that provides the ability to digitally sign content and is also included with DTR\n",
        "* Enforces a policy that any operations with a remote registry require signed images \n",
        "\n",
        "ENABLED WITH: export DOCKER_CONENT_TRUST=1\n",
        "\n",
        "* Once enabled, the docker push will try to sign an image and the docker pull will only download signed images"
      ],
      "metadata": {
        "id": "nhpTxUrVZ0fq"
      }
    },
    {
      "cell_type": "markdown",
      "source": [
        "### Configuring"
      ],
      "metadata": {
        "id": "loeNq4-wUhrz"
      }
    },
    {
      "cell_type": "markdown",
      "source": [
        "**Docker access control model**\n",
        "* subject (user, team, entire organization, service account)\n",
        "* roles (defines what can be done)\n",
        "* resources (swarm collections, kubernetes namespaces)\n",
        "* grants ("
      ],
      "metadata": {
        "id": "9zylGyg20xYI"
      }
    },
    {
      "cell_type": "code",
      "source": [],
      "metadata": {
        "id": "-eL5sXaYUg4Z"
      },
      "execution_count": null,
      "outputs": []
    },
    {
      "cell_type": "markdown",
      "source": [
        "###"
      ],
      "metadata": {
        "id": "GDiw9FFNUjTa"
      }
    },
    {
      "cell_type": "code",
      "source": [],
      "metadata": {
        "id": "OpkcPbH-UjEV"
      },
      "execution_count": null,
      "outputs": []
    },
    {
      "cell_type": "markdown",
      "source": [
        "### Configure docker networking"
      ],
      "metadata": {
        "id": "HYS9BZBADFbH"
      }
    },
    {
      "cell_type": "code",
      "source": [
        "docker network ls                                       #visualize network id\n",
        "docker network inspect bridge                           # inspect bridge network  (bridge is default network)\n",
        "docker network create                                   #create a user defined network\n",
        "docker network create --driver bridge app-net           #create a user defined network\n",
        "docker network ls                                       #visualize network id"
      ],
      "metadata": {
        "id": "n6N2R4XVKq8b"
      },
      "execution_count": null,
      "outputs": []
    },
    {
      "cell_type": "markdown",
      "source": [
        "### Troubleshooting docker networking\n"
      ],
      "metadata": {
        "id": "bk2L8LT0DHKJ"
      }
    },
    {
      "cell_type": "code",
      "source": [],
      "metadata": {
        "id": "XKL50Z_VDKJQ"
      },
      "execution_count": null,
      "outputs": []
    }
  ]
}
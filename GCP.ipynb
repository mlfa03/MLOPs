{
  "nbformat": 4,
  "nbformat_minor": 0,
  "metadata": {
    "colab": {
      "provenance": [],
      "collapsed_sections": [
        "OHSEUMyZvSLm",
        "7s9_ISWlvYyX",
        "Y9t3A4iUvaNL",
        "c5yqQ15CyJfi",
        "o-AYLVdv4Hgp",
        "P2yj2cgN4M7B"
      ],
      "authorship_tag": "ABX9TyPO1QL/5jWrzG3beaYaH0jT",
      "include_colab_link": true
    },
    "kernelspec": {
      "name": "python3",
      "display_name": "Python 3"
    },
    "language_info": {
      "name": "python"
    }
  },
  "cells": [
    {
      "cell_type": "markdown",
      "metadata": {
        "id": "view-in-github",
        "colab_type": "text"
      },
      "source": [
        "<a href=\"https://colab.research.google.com/github/mlfa03/MLOPs/blob/main/GCP.ipynb\" target=\"_parent\"><img src=\"https://colab.research.google.com/assets/colab-badge.svg\" alt=\"Open In Colab\"/></a>"
      ]
    },
    {
      "cell_type": "markdown",
      "source": [
        "# GCP CheatSheet"
      ],
      "metadata": {
        "id": "e2XFmUDpvLb1"
      }
    },
    {
      "cell_type": "markdown",
      "source": [
        "## Basic commands"
      ],
      "metadata": {
        "id": "OHSEUMyZvSLm"
      }
    },
    {
      "cell_type": "code",
      "execution_count": null,
      "metadata": {
        "id": "iaGAIC2PvIoG"
      },
      "outputs": [],
      "source": [
        "Install gcloud                                                           #Installation\n",
        "gcloud version                                                           #Check version \n",
        "gcloud info                                                              #Get info\n",
        "gcloud components list                                                   #List components\n",
        "gcloud init                                                              #init profile\n",
        "gcloud compute zones list                                                #List all zones\n",
        "gcloud components update                                                 #Updgrade local SDK"
      ]
    },
    {
      "cell_type": "markdown",
      "source": [
        "## Buckets"
      ],
      "metadata": {
        "id": "f31MIn-qvVUL"
      }
    },
    {
      "cell_type": "code",
      "source": [
        "gsutil ls, gsutil ls -lh gs://<bucket-name>                              #List all buckets and files \n",
        "gsutil cp gs://<bucket-name>/<dir-path>/package-1.1.tgz .                #Download file \t\n",
        "gsutil cp <filename> gs://<bucket-name>/<directory>/                     #Upload file \t\n",
        "gsutil cat gs://<bucket-name>/<filepath>/                                #Cat file \n",
        "gsutil rm gs://<bucket-name>/<filepath>                                  #Delete file \t\n",
        "gsutil mv <src-filepath> gs://<bucket-name>/<directory>/<dest-filepath>  #Move file \t\n",
        "gsutil cp -r ./conf gs://<bucket-name>/                                  #Copy folder \t\n",
        "gsutil du -h gs://<bucket-name/<directory>                               #Show disk usage \t\n",
        "gsutil mb gs://<bucket-name>                                             #Create bucket \t\n",
        "gsha1sum syslog-migration-10.0.2.tgz, shasum syslog-migration-10.0.2.tgz #Caculate file sha1sum \t\n",
        "gsutil help, gsutil help cp, gsutil help options                         #Gsutil help \t"
      ],
      "metadata": {
        "id": "vLkQsI8ovWH4"
      },
      "execution_count": null,
      "outputs": []
    },
    {
      "cell_type": "markdown",
      "source": [
        "#### Bucket security"
      ],
      "metadata": {
        "id": "OxB5o4oo39a7"
      }
    },
    {
      "cell_type": "code",
      "source": [
        "Make all files readable \tgsutil -m acl set -R -a public-read gs://<bucket-name>/\n",
        "Config auth \tgsutil config -a\n",
        "Grant bucket access \tgsutil iam ch user:denny@gmail.com:objectCreator,objectViewer gs://<bucket-name>\n",
        "Remove bucket access \tgsutil iam ch -d user:denny@gmail.com:objectCreator,objectViewer gs://<bucket-name>"
      ],
      "metadata": {
        "id": "Ai3b0j1B3_Ry"
      },
      "execution_count": null,
      "outputs": []
    },
    {
      "cell_type": "markdown",
      "source": [
        "## Projects"
      ],
      "metadata": {
        "id": "7s9_ISWlvYyX"
      }
    },
    {
      "cell_type": "code",
      "source": [
        "gcloud config list, gcloud config list project                           #List projects \t\n",
        "gcloud compute project-info describe                                     #Show project info \t\n",
        "gcloud config set project <project-id>                                   #Switch project \t"
      ],
      "metadata": {
        "id": "xYpij9yfvZmx"
      },
      "execution_count": null,
      "outputs": []
    },
    {
      "cell_type": "markdown",
      "source": [
        "## GKE"
      ],
      "metadata": {
        "id": "Y9t3A4iUvaNL"
      }
    },
    {
      "cell_type": "code",
      "source": [
        "gcloud auth list                                                         #Display a list of credentialed accounts \t\n",
        "gcloud config set account <ACCOUNT>                                      #Set the active account \t\n",
        "gcloud container clusters get-credentials <cluster-name>                 #Set kubectl context \t\n",
        "gcloud config set compute/region us-west                                 #Change region \t\n",
        "gcloud config set compute/zone us-west1-b                                #Change zone \t\n",
        "gcloud container clusters list                                           #List all container clusters \t"
      ],
      "metadata": {
        "id": "WMbIDJyBva_A"
      },
      "execution_count": null,
      "outputs": []
    },
    {
      "cell_type": "markdown",
      "source": [
        "## IAM"
      ],
      "metadata": {
        "id": "vEEJtKx6xusU"
      }
    },
    {
      "cell_type": "code",
      "source": [
        "gcloud auth activate-service-account --key-file <key-file>               #Authenticate client \t\n",
        "gcloud auth list                                                         #Display a list of credentialed accounts \t\n",
        "gcloud config set account <ACCOUNT>                                      #Set the active account \t\n",
        "gcloud auth configure-docker                                             #Auth to GCP Container Registry \t\n",
        "gcloud auth print-access-token, gcloud auth print-refresh-token          #Print token for active account \t\n",
        "gcloud auth <application-default> revoke                                 #Revoke previous generated credential \t"
      ],
      "metadata": {
        "id": "-p2jc5Z_xvWy"
      },
      "execution_count": null,
      "outputs": []
    },
    {
      "cell_type": "markdown",
      "source": [
        "## VM"
      ],
      "metadata": {
        "id": "c5yqQ15CyJfi"
      }
    },
    {
      "cell_type": "code",
      "source": [
        "List all instances \tgcloud compute instances list, gcloud compute instance-templates list\n",
        "Show instance info \tgcloud compute instances describe \"<instance-name>\" --project \"<project-name>\" --zone \"us-west2-a\"\n",
        "Stop an instance \tgcloud compute instances stop instance-2\n",
        "Start an instance \tgcloud compute instances start instance-2\n",
        "Create an instance \tgcloud compute instances create vm1 --image image-1 --tags test --zone \"<zone>\" --machine-type f1-micro\n",
        "SSH to instance \tgcloud compute ssh --project \"<project-name>\" --zone \"<zone-name>\" \"<instance-name>\"\n",
        "Download files \tgcloud compute copy-files example-instance:~/REMOTE-DIR ~/LOCAL-DIR --zone us-central1-a\n",
        "Upload files \tgcloud compute copy-files ~/LOCAL-FILE-1 example-instance:~/REMOTE-DIR --zone us-central1-a"
      ],
      "metadata": {
        "id": "Lb1l9uxT4EXM"
      },
      "execution_count": null,
      "outputs": []
    },
    {
      "cell_type": "markdown",
      "source": [
        "## Disks and volumes"
      ],
      "metadata": {
        "id": "o-AYLVdv4Hgp"
      }
    },
    {
      "cell_type": "code",
      "source": [
        "List all disks \tgcloud compute disks list\n",
        "List all disk types \tgcloud compute disk-types list\n",
        "List all snapshots \tgcloud compute snapshots list\n",
        "Create snapshot \tgcloud compute disks snapshot <diskname> --snapshotname <name1> --zone $zone"
      ],
      "metadata": {
        "id": "PJ6XOsND4I-s"
      },
      "execution_count": null,
      "outputs": []
    },
    {
      "cell_type": "markdown",
      "source": [
        "## Network "
      ],
      "metadata": {
        "id": "P2yj2cgN4M7B"
      }
    },
    {
      "cell_type": "code",
      "source": [
        "List all networks \tgcloud compute networks list\n",
        "Detail of one network \tgcloud compute networks describe <network-name> --format json\n",
        "Create network \tgcloud compute networks create <network-name>\n",
        "Create subnet \tgcloud compute networks subnets create subnet1 --network net1 --range 10.5.4.0/24\n",
        "Get a static ip \tgcloud compute addresses create --region us-west2-a vpn-1-static-ip\n",
        "List all ip addresses \tgcloud compute addresses list\n",
        "Describe ip address \tgcloud compute addresses describe <ip-name> --region us-central1\n",
        "List all routes \tgcloud compute routes list"
      ],
      "metadata": {
        "id": "zwc6sXlQ4NsE"
      },
      "execution_count": null,
      "outputs": []
    },
    {
      "cell_type": "markdown",
      "source": [
        "## DNS"
      ],
      "metadata": {
        "id": "jakChuqI4R66"
      }
    },
    {
      "cell_type": "code",
      "source": [
        "List of all record-sets in myzone \tgcloud dns record-sets list --zone my_zone\n",
        "List first 10 DNS records \tgcloud dns record-sets list --zone my_zone --limit=10"
      ],
      "metadata": {
        "id": "_dNKkHYW4Sjo"
      },
      "execution_count": null,
      "outputs": []
    },
    {
      "cell_type": "markdown",
      "source": [
        "## Firewall"
      ],
      "metadata": {
        "id": "9iYa9X6w4TtT"
      }
    },
    {
      "cell_type": "code",
      "source": [
        "List all firewall rules \tgcloud compute firewall-rules list\n",
        "List all forwarding rules \tgcloud compute forwarding-rules list\n",
        "Describe one firewall rule \tgcloud compute firewall-rules describe <rule-name>\n",
        "Create one firewall rule \tgcloud compute firewall-rules create my-rule --network default --allow tcp:9200 tcp:3306\n",
        "Update one firewall rule \tgcloud compute firewall-rules update default --network default --allow tcp:9200 tcp:9300"
      ],
      "metadata": {
        "id": "PD7uKGjp4Xad"
      },
      "execution_count": null,
      "outputs": []
    },
    {
      "cell_type": "markdown",
      "source": [
        "## Images and containers"
      ],
      "metadata": {
        "id": "P14eEduA4Zan"
      }
    },
    {
      "cell_type": "code",
      "source": [
        "List all images \tgcloud compute images list\n",
        "List all container clusters \tgcloud container clusters list\n",
        "Set kubectl context \tgcloud container clusters get-credentials <cluster-name>"
      ],
      "metadata": {
        "id": "IXmEZSn04fPt"
      },
      "execution_count": null,
      "outputs": []
    },
    {
      "cell_type": "markdown",
      "source": [
        "## "
      ],
      "metadata": {
        "id": "SpDs-2fF4gMa"
      }
    }
  ]
}
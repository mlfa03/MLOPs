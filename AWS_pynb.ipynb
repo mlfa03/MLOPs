{
  "nbformat": 4,
  "nbformat_minor": 0,
  "metadata": {
    "colab": {
      "provenance": [],
      "toc_visible": true,
      "authorship_tag": "ABX9TyP9+JyIuKioSR9erv1Wr/I0",
      "include_colab_link": true
    },
    "kernelspec": {
      "name": "python3",
      "display_name": "Python 3"
    },
    "language_info": {
      "name": "python"
    }
  },
  "cells": [
    {
      "cell_type": "markdown",
      "metadata": {
        "id": "view-in-github",
        "colab_type": "text"
      },
      "source": [
        "<a href=\"https://colab.research.google.com/github/mlfa03/MLOPs/blob/main/AWS_pynb.ipynb\" target=\"_parent\"><img src=\"https://colab.research.google.com/assets/colab-badge.svg\" alt=\"Open In Colab\"/></a>"
      ]
    },
    {
      "cell_type": "markdown",
      "source": [
        "# AWS Compute"
      ],
      "metadata": {
        "id": "w6m_KYii4c5e"
      }
    },
    {
      "cell_type": "markdown",
      "source": [
        "## AWS EC2"
      ],
      "metadata": {
        "id": "0E_I5zB72-FE"
      }
    },
    {
      "cell_type": "markdown",
      "source": [
        "A product of AWS compute. Web service with which you can run virtual server \"instances\" in the cloud. "
      ],
      "metadata": {
        "id": "DqZDyPeG37Yy"
      }
    },
    {
      "cell_type": "code",
      "source": [],
      "metadata": {
        "id": "tU_M90wv3CoX"
      },
      "execution_count": null,
      "outputs": []
    },
    {
      "cell_type": "markdown",
      "source": [
        "## AWS ECS"
      ],
      "metadata": {
        "id": "kGJWhFP24KRV"
      }
    },
    {
      "cell_type": "markdown",
      "source": [
        "Another product of AWS compute. It provides highly scalable, high performance container management service that supports Docker containers and allows you to easily run applications on a managed cluster of amazon EC2 instances. \n",
        "\n",
        "* ECS eliminates the need to install, operate and scale your own cluster management infrastructure. \n",
        "\n",
        "There are 2 launch types:\n",
        "* AWS EC2\n",
        "* AWS Fargate\n",
        "\n",
        "**Amazon ECR is integrated with AWS EC2 container service (ECS)**\n",
        "ECR is the Elastic Container Registry - is a managed AWS docker registry service for storing, managing and deploying docker images. "
      ],
      "metadata": {
        "id": "r0AcJsNu4Mwp"
      }
    },
    {
      "cell_type": "markdown",
      "source": [
        "## AWS Lambda"
      ],
      "metadata": {
        "id": "rA4zzb3z5yy7"
      }
    },
    {
      "cell_type": "markdown",
      "source": [
        "Serverless computing technology that allows you to run code without provisioning or managing servers. It executes code only when needed and scales automatically. \n",
        "*you pay only for the compute time you consume*\n",
        "\n",
        "Benefits:\n",
        "* No servers to manage\n",
        "* Continuous scaling \n",
        "* Millisecond billing\n",
        "* Integrates with almost all other AWS services \n",
        "\n",
        "Primary use cases for Lambda:\n",
        "* Data processing \n",
        "* Real-time file processing \n",
        "* Real-time stream processing \n",
        "* Build serverless backends for web, mobile, IOT and 3rd party API requests."
      ],
      "metadata": {
        "id": "VEVgzoDc50Na"
      }
    },
    {
      "cell_type": "markdown",
      "source": [
        "## AWS Lightsail "
      ],
      "metadata": {
        "id": "X4izj4S66aS-"
      }
    },
    {
      "cell_type": "markdown",
      "source": [
        "## AWS EKS"
      ],
      "metadata": {
        "id": "mKeqHDUx27h6"
      }
    },
    {
      "cell_type": "code",
      "source": [],
      "metadata": {
        "id": "dDImZz8h3DDm"
      },
      "execution_count": null,
      "outputs": []
    },
    {
      "cell_type": "markdown",
      "source": [
        "# AWS Machine Learning"
      ],
      "metadata": {
        "id": "YRzX1-296mrC"
      }
    },
    {
      "cell_type": "markdown",
      "source": [
        "## AWS Sagemaker"
      ],
      "metadata": {
        "id": "J_r_otmK25AA"
      }
    },
    {
      "cell_type": "markdown",
      "source": [
        "For ML development activities including:\n",
        "* Data Preparation \n",
        "* Feature engineering \n",
        "* Statistical bias detection \n",
        "* AutoML\n",
        "* Training and tuning \n",
        "* Hosting \n",
        "* Monitoring \n",
        "* Workflows"
      ],
      "metadata": {
        "id": "FcsFu7i-6qla"
      }
    },
    {
      "cell_type": "markdown",
      "source": [
        "**Scalability**\n",
        "\n",
        "* BUILD: connect to other AWS services and transform data in SageMaker Notebooks\n",
        "* TRAINING: use sagemaker's algorithms and frameworks or bring your own , for distributed training. \n",
        "* TUNE: sagemaker automatically tunes your model by adjusting multiple combinations of algorithm parameters. \n",
        "* DEPLOY: once training is completed models can be deployed to sagemaker endpoints for real-time predictions. "
      ],
      "metadata": {
        "id": "p6BkyKl3-I0u"
      }
    },
    {
      "cell_type": "code",
      "source": [
        "#To set up authentication services:\n",
        "\n",
        "from sagemaker import get_execution_role\n",
        "role = get_execution_role()\n",
        "bucket = '<bucket_name>'      #S3 bucket"
      ],
      "metadata": {
        "id": "GTLCRXdTMmVl"
      },
      "execution_count": null,
      "outputs": []
    },
    {
      "cell_type": "code",
      "source": [
        "#Deploying\n",
        "predictor = model.deploy(initial_instance_count=1, \n",
        "                         instance_type='ml.m4.large')"
      ],
      "metadata": {
        "id": "SP3B3lXjCL1t"
      },
      "execution_count": null,
      "outputs": []
    }
  ]
}
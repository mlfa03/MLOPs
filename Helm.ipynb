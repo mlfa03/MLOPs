{
  "nbformat": 4,
  "nbformat_minor": 0,
  "metadata": {
    "colab": {
      "provenance": [],
      "authorship_tag": "ABX9TyNFk87FEJRuuCC4q0dObB0w",
      "include_colab_link": true
    },
    "kernelspec": {
      "name": "python3",
      "display_name": "Python 3"
    },
    "language_info": {
      "name": "python"
    }
  },
  "cells": [
    {
      "cell_type": "markdown",
      "metadata": {
        "id": "view-in-github",
        "colab_type": "text"
      },
      "source": [
        "<a href=\"https://colab.research.google.com/github/mlfa03/MLOPs/blob/main/Helm.ipynb\" target=\"_parent\"><img src=\"https://colab.research.google.com/assets/colab-badge.svg\" alt=\"Open In Colab\"/></a>"
      ]
    },
    {
      "cell_type": "markdown",
      "source": [
        "# Deploying Kubernetes with Helm"
      ],
      "metadata": {
        "id": "w8lmbK_GS1rA"
      }
    },
    {
      "cell_type": "markdown",
      "source": [
        "Helm is called the package manager for Kubernetes. It makes it easier to package and deploy software on a Kubernetes cluster using app definitions called charts.\n",
        "\n",
        "A chart is a package that can be shared and reused, which contains an application’s Kubernetes resource definitions (YAML files) and some templating logic.\n",
        "\n",
        "Helm keeps track of the charts it installs on your Kubernetes cluster by adding labels to the objects created. These labels look like app.kubernetes.io/managed-by=Helm and app.kubernetes.io/instance: myapp."
      ],
      "metadata": {
        "id": "C0_l_pQhTdvE"
      }
    },
    {
      "cell_type": "markdown",
      "source": [
        "**Helm concepts**\n",
        "\n",
        "* Chart is a package in Helm. It has a name, and contains a set of Kubernetes resource definitions that are used to deploy your application.\n",
        "\n",
        "* Repository is an online collection of charts. It has a URL. You can search, download and install charts from a repository.\n",
        "\n",
        "* Release is an instance or a deployment of a chart. When you perform a helm install command, you are creating a new release of that chart on your Kubernetes cluste"
      ],
      "metadata": {
        "id": "yxWFC_btTpFr"
      }
    },
    {
      "cell_type": "markdown",
      "source": [
        "### Finding and viewing charts"
      ],
      "metadata": {
        "id": "MA7KwQ0hXvEy"
      }
    },
    {
      "cell_type": "markdown",
      "source": [
        "**Repositories** often contain many charts, and can be found on an open source repository server like Chartmuseum, or a public chart repository like ArtifactHub. \n"
      ],
      "metadata": {
        "id": "HoFLjJDUUNxn"
      }
    },
    {
      "cell_type": "code",
      "source": [
        "helm repo add [name] [url]                              #Add a remote chart repository\n",
        "helm repo list                                          #list all your repositories\n",
        "helm search hub prometheus                              #search for 'prometheus' chart on Artifact hub\n",
        "helm search repo prometheus                             #search for 'prometheus' chart on all repositories configured on your system "
      ],
      "metadata": {
        "id": "U22dN7F9UFWd"
      },
      "execution_count": null,
      "outputs": []
    },
    {
      "cell_type": "markdown",
      "source": [
        "### Installing charts and managing charts"
      ],
      "metadata": {
        "id": "c0DchEvgV4Pn"
      }
    },
    {
      "cell_type": "markdown",
      "source": [
        "The most common way people make use of Helm is to find and install charts onto a Kubernetes cluster. Here are the main commands you might use when installing charts."
      ],
      "metadata": {
        "id": "8puXUY2cX2OI"
      }
    },
    {
      "cell_type": "code",
      "source": [
        "#View information about a chart:\n",
        "\n",
        "helm repo add concourse https://concourse-charts.storage.googleapis.com/\n",
        "helm show chart concourse/concourse\n",
        "helm show values concourse/concourse\n",
        "\n",
        "#If you have mentioned a dependency in your Chart.yaml, and you need to download it:\n",
        "helm dependency update\n",
        "\n",
        "#To simulate installing a chart without actually installing it, do a dry run:\n",
        "helm install --dry-run ...\n",
        "\n",
        "#This will install a chart from a repository, so you should ensure that you’ve set up the repository first.\n",
        "helm install myapp-instance sourcerepo/myapp\n",
        "\n",
        "#This allows you to specify the URL to the repository when you install (it initializes the repository):\n",
        "helm install --repo http://charts.example.com my-app-instance myapp\n",
        "\n",
        "#Install a chart from a packaged file\n",
        "helm install myapp-instance ./path/to/myappchart.tgz\n",
        "\n",
        "#Install a chart from an unpacked chart directory\n",
        "helm install myapp-instance ./path/to/chart\n",
        "\n",
        "#Install a template with a values override file\n",
        "helm install -f ./my-extra-values.yml ./mychart\n",
        "\n",
        "#When you want to install a Helm chart, and override its values explicitly at the command line:\n",
        "helm install --set key1=val1,key2=val2 [name] [chart]\n",
        "\n"
      ],
      "metadata": {
        "id": "VmdLflBUVJKo"
      },
      "execution_count": null,
      "outputs": []
    },
    {
      "cell_type": "markdown",
      "source": [
        "### Getting information about deployed charts"
      ],
      "metadata": {
        "id": "3AhgZjTyWSUb"
      }
    },
    {
      "cell_type": "code",
      "source": [
        "helm list                                             #When you want to see all the charts that have been deployed on your cluster (releases)\n",
        "helm get manifest <release-name>                      #When you want to get the YAML of all of the objects that comprise a release, or see all of the objects that were created when you did a helm install\n",
        "helm status <release-name>                            #When a chart is deployed (a release is created), a status message is shown. To print this message again\n",
        "helm uninstall <release-name>                         #uninstalling a release"
      ],
      "metadata": {
        "id": "qxo1mJKGVN_P"
      },
      "execution_count": null,
      "outputs": []
    },
    {
      "cell_type": "markdown",
      "source": [
        "### Deploying your own charts"
      ],
      "metadata": {
        "id": "wLeNuEYgXKqM"
      }
    },
    {
      "cell_type": "markdown",
      "source": [
        "Packaging your own software for use with Helm is known as creating a chart. You can create a chart yourself from scratch, or you can use the helm create chart which will initialise a chart for you."
      ],
      "metadata": {
        "id": "zCprU0npXVKv"
      }
    },
    {
      "cell_type": "code",
      "source": [
        "#This will create a new skeleton or boilerplate chart at ./mychart, which is ready for you to edit and customise.\n",
        "helm create [path]\n",
        "helm create mychart\n",
        "\n",
        "#Use helm template if you want Helm to show the output YAML from your Helm chart, if you were to helm install it. This is useful when debugging your chart:\n",
        "helm template [NAME] [CHART]\n",
        "helm template my-app-instance sourcerepo/my-app\n",
        "helm template my-app-instance .\n",
        "\n"
      ],
      "metadata": {
        "id": "gAAyfauDXMEg"
      },
      "execution_count": null,
      "outputs": []
    },
    {
      "cell_type": "markdown",
      "source": [
        "### Example"
      ],
      "metadata": {
        "id": "cLjPPdNzaJq5"
      }
    },
    {
      "cell_type": "code",
      "source": [
        "#Installing kube-metrics chart:\n",
        "\n",
        "kubectl create ns metrics                                                       #create a namespace called metrics to install the chart\n",
        "helm install kube-state-metrics bitnami/kube-state-metrics -n metrics           #\n",
        "helm ls -n metrics \n",
        "\n",
        "#Inspect the chart installed:\n",
        "kubectl get all -n metrics\n",
        "\n",
        "#Checking the logs for the pod created:\n",
        "kubectl logs [name-of-pod] -n metrics\n",
        "\n",
        "kubeclt port-forward svc/kube-state-metrics 8080:8080 -n metrics"
      ],
      "metadata": {
        "id": "7kYJH8-uaLQQ"
      },
      "execution_count": null,
      "outputs": []
    },
    {
      "cell_type": "markdown",
      "source": [
        "### Directories and files created by helm"
      ],
      "metadata": {
        "id": "kN0cdluhgbi1"
      }
    },
    {
      "cell_type": "markdown",
      "source": [
        "**Chart**\n",
        "\n",
        "* The chart.yaml file contains high level information about your chart that can be passed into the helm templating engine\n",
        "\n",
        "**Values**\n",
        "* Here, we see lots of key value pairs that allow us to configure the container or containers running in a pod. Some of these fields include the image repository so that the pod can pull the correct image for the container, a place to set up a service account, and a service field that allows you to specify whether the service should be clusterIP, node port, or a load balancer. In Kubernetes, these fields are often set in pod templates found in controllers like deployments, jobs, and stateful sets. The values.yaml file sets the default values that helm will map to the Kubernetes objects it creates.\n",
        "\n",
        "**Templates**\n",
        "\n",
        "* NOTES.txt : This is the text that's going to be displayed in the terminal when somebody else downloads and installs your chart. This is the first time we've seen the helm templating syntax, which is an opening and closing set of two curly braces. All the files in the templates directory are sent through the helm template rendering engine, where the values from the first files we looked at are passed in and then converted to familiar Kubernetes objects.\n",
        "\n",
        "* service.yml: we can see a familiar Kubernetes service manifest, but some of the values are dynamically created with helm templates\n"
      ],
      "metadata": {
        "id": "Ds-2uTBBgej_"
      }
    },
    {
      "cell_type": "code",
      "source": [],
      "metadata": {
        "id": "b5OqZ0afgj74"
      },
      "execution_count": null,
      "outputs": []
    }
  ]
}
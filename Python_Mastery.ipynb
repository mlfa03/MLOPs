{
  "nbformat": 4,
  "nbformat_minor": 0,
  "metadata": {
    "colab": {
      "provenance": [],
      "toc_visible": true,
      "collapsed_sections": [
        "g666Bj1WzLKK",
        "ppGRfERj0ZSI",
        "viAKYQMU0CII",
        "YRP3aFtJ0q8m",
        "JHihUfB21Ahz",
        "zrsOmSsC1CbX",
        "TnqoTW1U1FUc",
        "Cd8cAbIa1G-G",
        "VW7p7uHZ1IWL",
        "-QxAlH5Y5sYh",
        "BlN44mkMr3JU",
        "5wuQFFaDr40L",
        "NYLHy5R_r6et",
        "rsiphg865vtg",
        "1NlRAiNZ7C7M",
        "i6FwWYGj7Gjv",
        "UEWSvYtJ7oFL",
        "1t24nvQSz_Cf",
        "QA2KKLfz0KPl",
        "ARzLZLUy3rob",
        "W1y7IMxY35gY",
        "7iIZ-VC0xVid",
        "G-Utq9yCxcjZ",
        "OavkwzKTx5d6",
        "raPM0cx1x--e",
        "h8b-JNUuz-z5",
        "9ffZHywX0KJc",
        "9wgndYWV0NER",
        "WQX9FQgp1JW7",
        "Ach_xRVq1TuD",
        "7TKFozYu1dnV",
        "d0SZy6151nTs",
        "y6AOYiFF2GD2",
        "iU4bZg_p2Vcj",
        "Mk3RHAyc3HF4",
        "u-PltdnR3N9m",
        "NkF3aF3HwY8j",
        "mGvgz9ZYwfmV",
        "DUVhR7CCwtL-",
        "m-j-x9xvMF2R",
        "hkeBhj5OLtvN",
        "SRWXv-nML1Yn",
        "Uh-2VwaAMLdA",
        "ZM0Pq9z0MVW0",
        "wAkX3TMeMfGj",
        "u9QUFXGaMh_p",
        "cLLzM_K9Mm0i",
        "upOAvM24MRum",
        "iIH56NOUOoKV",
        "2ZSq0v0qOr9C",
        "cRPYS4IyOzKG",
        "iwZkky14O28D",
        "3yle-utsOeCc",
        "smC2pcTZPQPm",
        "WeNy6SL7PYYL",
        "aTQeCtMWPcYL",
        "U3_ZLhf0Pfio",
        "sNQO2JEVPnK0",
        "41rvv_bvPNdd",
        "h9wa54b3P7sa",
        "vEQAnUigQABP",
        "iWWM59-jQDYl",
        "1oN7LJS1QHES",
        "9faxJYC6Qcw9",
        "pOGq3l9tP40r",
        "5-lLYn3JQsnE",
        "EXf5sZjdQu3q",
        "ViIFxIEUQ3oS",
        "9Zh4z73tQ-RT",
        "QHbxAYucQxkj",
        "JHHzxoveRvlk",
        "t4lWMOH-R3As",
        "MTof9hkiR54R",
        "96Bc77OnR-2t",
        "Yx1kv1cmSID0",
        "MJ1ZnSx_SMl6",
        "4Eym4uA-SPn-",
        "XhsQwQMESXmi"
      ],
      "authorship_tag": "ABX9TyN4gdR9I2BeXHiCKakpWJr6",
      "include_colab_link": true
    },
    "kernelspec": {
      "name": "python3",
      "display_name": "Python 3"
    },
    "language_info": {
      "name": "python"
    }
  },
  "cells": [
    {
      "cell_type": "markdown",
      "metadata": {
        "id": "view-in-github",
        "colab_type": "text"
      },
      "source": [
        "<a href=\"https://colab.research.google.com/github/mlfa03/MLOPs/blob/main/Python_Mastery.ipynb\" target=\"_parent\"><img src=\"https://colab.research.google.com/assets/colab-badge.svg\" alt=\"Open In Colab\"/></a>"
      ]
    },
    {
      "cell_type": "markdown",
      "source": [
        "# Python - Essentials"
      ],
      "metadata": {
        "id": "TrxF6czmy9oT"
      }
    },
    {
      "cell_type": "markdown",
      "source": [
        "## 1. Data Types"
      ],
      "metadata": {
        "id": "g666Bj1WzLKK"
      }
    },
    {
      "cell_type": "markdown",
      "source": [
        "### Strings"
      ],
      "metadata": {
        "id": "ppGRfERj0ZSI"
      }
    },
    {
      "cell_type": "code",
      "source": [
        "x = 'Maria'\n",
        "type(x)"
      ],
      "metadata": {
        "colab": {
          "base_uri": "https://localhost:8080/"
        },
        "id": "GUr_fOpS0bN3",
        "outputId": "c56497e8-5b00-49f2-8f2b-cf06fc372146"
      },
      "execution_count": null,
      "outputs": [
        {
          "output_type": "execute_result",
          "data": {
            "text/plain": [
              "str"
            ]
          },
          "metadata": {},
          "execution_count": 1
        }
      ]
    },
    {
      "cell_type": "code",
      "source": [
        "#Slicing strings:\n",
        "name = 'My name is Ryan Mitchell'\n",
        "name[0]"
      ],
      "metadata": {
        "colab": {
          "base_uri": "https://localhost:8080/",
          "height": 35
        },
        "id": "5rSzbmma_DlM",
        "outputId": "8e68c0fa-cff4-4f2f-9604-7a4759d20ba9"
      },
      "execution_count": null,
      "outputs": [
        {
          "output_type": "execute_result",
          "data": {
            "text/plain": [
              "'M'"
            ],
            "application/vnd.google.colaboratory.intrinsic+json": {
              "type": "string"
            }
          },
          "metadata": {},
          "execution_count": 45
        }
      ]
    },
    {
      "cell_type": "code",
      "source": [
        "name[0:7]"
      ],
      "metadata": {
        "colab": {
          "base_uri": "https://localhost:8080/",
          "height": 35
        },
        "id": "WYucUpE9_It7",
        "outputId": "ec038a38-8f71-4d5f-f6e1-13de0421e4c6"
      },
      "execution_count": null,
      "outputs": [
        {
          "output_type": "execute_result",
          "data": {
            "text/plain": [
              "'My name'"
            ],
            "application/vnd.google.colaboratory.intrinsic+json": {
              "type": "string"
            }
          },
          "metadata": {},
          "execution_count": 46
        }
      ]
    },
    {
      "cell_type": "code",
      "source": [
        "name[11:]"
      ],
      "metadata": {
        "id": "4x94BqZF_Nb5",
        "outputId": "94f15982-9c30-44e2-d507-9bc208b5753d",
        "colab": {
          "base_uri": "https://localhost:8080/",
          "height": 35
        }
      },
      "execution_count": null,
      "outputs": [
        {
          "output_type": "execute_result",
          "data": {
            "text/plain": [
              "'Ryan Mitchell'"
            ],
            "application/vnd.google.colaboratory.intrinsic+json": {
              "type": "string"
            }
          },
          "metadata": {},
          "execution_count": 47
        }
      ]
    },
    {
      "cell_type": "markdown",
      "source": [
        "### Integers"
      ],
      "metadata": {
        "id": "FmhZFga0zjHj"
      }
    },
    {
      "cell_type": "code",
      "source": [
        "a = 10\n",
        "type(a)"
      ],
      "metadata": {
        "colab": {
          "base_uri": "https://localhost:8080/"
        },
        "id": "wyMSVTTgy_ZX",
        "outputId": "021c7c98-5c13-46c4-849a-7f5f1fd26e50"
      },
      "execution_count": null,
      "outputs": [
        {
          "output_type": "execute_result",
          "data": {
            "text/plain": [
              "int"
            ]
          },
          "metadata": {},
          "execution_count": 2
        }
      ]
    },
    {
      "cell_type": "code",
      "source": [
        "#Convert string to integer:\n",
        "a = '10'\n",
        "print('a type before converting: {}'.format(type(a)))\n",
        "a_new = int(a)\n",
        "print('a type after converting: {}'.format(type(a_new)))\n"
      ],
      "metadata": {
        "colab": {
          "base_uri": "https://localhost:8080/"
        },
        "id": "1IhYChw8zTin",
        "outputId": "da038a3d-ffa7-4386-93f6-9d40b4751ded"
      },
      "execution_count": null,
      "outputs": [
        {
          "output_type": "stream",
          "name": "stdout",
          "text": [
            "a type before converting: <class 'str'>\n",
            "a type after converting: <class 'int'>\n"
          ]
        }
      ]
    },
    {
      "cell_type": "markdown",
      "source": [
        "### Floats"
      ],
      "metadata": {
        "id": "viAKYQMU0CII"
      }
    },
    {
      "cell_type": "code",
      "source": [
        "b = 10.0\n",
        "type(b)"
      ],
      "metadata": {
        "colab": {
          "base_uri": "https://localhost:8080/"
        },
        "id": "-2uqSe1Bzrqz",
        "outputId": "094cb2a3-eacf-463c-d745-e63f61995ef7"
      },
      "execution_count": null,
      "outputs": [
        {
          "output_type": "execute_result",
          "data": {
            "text/plain": [
              "float"
            ]
          },
          "metadata": {},
          "execution_count": 4
        }
      ]
    },
    {
      "cell_type": "code",
      "source": [
        "#Convert string to float:\n",
        "b = '10.0'\n",
        "print('b type before converting: {}'.format(type(b)))\n",
        "b_new = float(b)\n",
        "print('b type after converting: {}'.format(type(b_new)))"
      ],
      "metadata": {
        "colab": {
          "base_uri": "https://localhost:8080/"
        },
        "id": "sAgr4sOO0IC4",
        "outputId": "fd96a0e6-4e04-451e-e395-cf3b68af6649"
      },
      "execution_count": null,
      "outputs": [
        {
          "output_type": "stream",
          "name": "stdout",
          "text": [
            "b type before converting: <class 'str'>\n",
            "b type after converting: <class 'float'>\n"
          ]
        }
      ]
    },
    {
      "cell_type": "markdown",
      "source": [
        "### Booleans"
      ],
      "metadata": {
        "id": "YRP3aFtJ0q8m"
      }
    },
    {
      "cell_type": "code",
      "source": [
        "c = True\n",
        "type(c)"
      ],
      "metadata": {
        "colab": {
          "base_uri": "https://localhost:8080/"
        },
        "id": "M86O1q2Z0VSA",
        "outputId": "e46f1cc9-b7b1-44c5-f0c9-f4886d5e0c19"
      },
      "execution_count": null,
      "outputs": [
        {
          "output_type": "execute_result",
          "data": {
            "text/plain": [
              "bool"
            ]
          },
          "metadata": {},
          "execution_count": 6
        }
      ]
    },
    {
      "cell_type": "code",
      "source": [
        "#Convert string to bool:\n",
        "c = 'True'\n",
        "print('c type before converting: {}'.format(type(c)))\n",
        "c_new = bool(c)\n",
        "print('c type after converting: {}'.format(type(c_new)))"
      ],
      "metadata": {
        "colab": {
          "base_uri": "https://localhost:8080/"
        },
        "id": "hOkFK84H0vZJ",
        "outputId": "47500cc8-cd6a-4510-fa0f-3e2da29852c5"
      },
      "execution_count": null,
      "outputs": [
        {
          "output_type": "stream",
          "name": "stdout",
          "text": [
            "c type before converting: <class 'str'>\n",
            "c type after converting: <class 'bool'>\n"
          ]
        }
      ]
    },
    {
      "cell_type": "markdown",
      "source": [
        "## 2. Data Structures"
      ],
      "metadata": {
        "id": "JHihUfB21Ahz"
      }
    },
    {
      "cell_type": "markdown",
      "source": [
        "### Lists"
      ],
      "metadata": {
        "id": "zrsOmSsC1CbX"
      }
    },
    {
      "cell_type": "code",
      "source": [
        "my_items = ['orange', 'banana', 'bread']\n",
        "print(my_items)\n",
        "print(type(my_items))"
      ],
      "metadata": {
        "colab": {
          "base_uri": "https://localhost:8080/"
        },
        "id": "F1SqC2Xc1K-q",
        "outputId": "76796ffb-0663-49cb-a875-a9c0c8094541"
      },
      "execution_count": null,
      "outputs": [
        {
          "output_type": "stream",
          "name": "stdout",
          "text": [
            "['orange', 'banana', 'bread']\n",
            "<class 'list'>\n"
          ]
        }
      ]
    },
    {
      "cell_type": "markdown",
      "source": [
        "You can also have a list with different data types inside of it (even list of lists):"
      ],
      "metadata": {
        "id": "vbVPE0Re1iyo"
      }
    },
    {
      "cell_type": "code",
      "source": [
        "my_items_2 = [5, 'car', True, [], [False, True]]\n",
        "print(my_items_2)\n",
        "type(my_items_2)"
      ],
      "metadata": {
        "colab": {
          "base_uri": "https://localhost:8080/"
        },
        "id": "wQkXZPHN1K3A",
        "outputId": "d2427558-eab8-4c5a-eba2-49179edb7d10"
      },
      "execution_count": null,
      "outputs": [
        {
          "output_type": "stream",
          "name": "stdout",
          "text": [
            "[5, 'car', True, [], [False, True]]\n"
          ]
        },
        {
          "output_type": "execute_result",
          "data": {
            "text/plain": [
              "list"
            ]
          },
          "metadata": {},
          "execution_count": 9
        }
      ]
    },
    {
      "cell_type": "code",
      "source": [
        "len(my_items_2)"
      ],
      "metadata": {
        "colab": {
          "base_uri": "https://localhost:8080/"
        },
        "id": "shXxpZfu5UM-",
        "outputId": "18268e3c-ff0e-49b6-fa4d-bf65d7468b15"
      },
      "execution_count": null,
      "outputs": [
        {
          "output_type": "execute_result",
          "data": {
            "text/plain": [
              "5"
            ]
          },
          "metadata": {},
          "execution_count": 10
        }
      ]
    },
    {
      "cell_type": "code",
      "source": [
        "#List concatenation\n",
        "[1, 2, 3] + [4, 5 ,6]"
      ],
      "metadata": {
        "colab": {
          "base_uri": "https://localhost:8080/"
        },
        "id": "vqj5ZkAh01S7",
        "outputId": "44a7c35b-80b5-408b-bd54-a7ae39b0518e"
      },
      "execution_count": null,
      "outputs": [
        {
          "output_type": "execute_result",
          "data": {
            "text/plain": [
              "[1, 2, 3, 4, 5, 6]"
            ]
          },
          "metadata": {},
          "execution_count": 32
        }
      ]
    },
    {
      "cell_type": "code",
      "source": [
        "#List multiplication \n",
        "[1, 2]* 5"
      ],
      "metadata": {
        "colab": {
          "base_uri": "https://localhost:8080/"
        },
        "id": "cM4hiHp-061P",
        "outputId": "c4e71676-4eaf-4734-ae78-e5c926d36a0e"
      },
      "execution_count": null,
      "outputs": [
        {
          "output_type": "execute_result",
          "data": {
            "text/plain": [
              "[1, 2, 1, 2, 1, 2, 1, 2, 1, 2]"
            ]
          },
          "metadata": {},
          "execution_count": 33
        }
      ]
    },
    {
      "cell_type": "code",
      "source": [
        "#Append item to a list:\n",
        "alist = [1, 2, 3, 4]\n",
        "alist.append(5)  #append at the end of the list\n",
        "alist"
      ],
      "metadata": {
        "colab": {
          "base_uri": "https://localhost:8080/"
        },
        "id": "GBAtnIWb1BVQ",
        "outputId": "78df7f18-0f68-4e3d-c7fa-fe9cf7b52388"
      },
      "execution_count": null,
      "outputs": [
        {
          "output_type": "execute_result",
          "data": {
            "text/plain": [
              "[1, 2, 3, 4, 5]"
            ]
          },
          "metadata": {},
          "execution_count": 1
        }
      ]
    },
    {
      "cell_type": "code",
      "source": [
        "#To choose the position where to append the item:\n",
        "alist.insert(3, 'new item')\n",
        "alist"
      ],
      "metadata": {
        "colab": {
          "base_uri": "https://localhost:8080/"
        },
        "id": "1YMmnZe3UdV8",
        "outputId": "0ada908a-9279-4ed9-e4a3-9fd12fb07645"
      },
      "execution_count": null,
      "outputs": [
        {
          "output_type": "execute_result",
          "data": {
            "text/plain": [
              "[1, 2, 3, 'new item', 4, 5]"
            ]
          },
          "metadata": {},
          "execution_count": 2
        }
      ]
    },
    {
      "cell_type": "code",
      "source": [
        "#removing items from a list\n",
        "alist.remove('new item')\n",
        "alist"
      ],
      "metadata": {
        "colab": {
          "base_uri": "https://localhost:8080/"
        },
        "id": "6ivN4ohxUuTv",
        "outputId": "338deb02-0272-40a3-bd49-35f0c14d4dac"
      },
      "execution_count": null,
      "outputs": [
        {
          "output_type": "execute_result",
          "data": {
            "text/plain": [
              "[1, 2, 3, 4, 5]"
            ]
          },
          "metadata": {},
          "execution_count": 3
        }
      ]
    },
    {
      "cell_type": "code",
      "source": [
        "#Accessing items in a list:\n",
        "\n",
        "alist = [1, 2, 3, 4 ,5, 6, 7, 8, 9, 10]\n",
        "\n",
        "#Print item at index 4:\n",
        "print(alist[4])\n",
        "\n",
        "#Print the items at index 0, up to (not including) index 4\n",
        "print(alist[0:4])\n",
        "\n",
        "# If the first index is missing, it's assumed to be 0\n",
        "print(alist[:4])\n",
        "\n",
        "#If the last index is missing, it's assumed to go to the end of the list\n",
        "print(alist[4:])\n",
        "\n",
        "#Print every other item in the list:\n",
        "print(alist[::2])\n"
      ],
      "metadata": {
        "colab": {
          "base_uri": "https://localhost:8080/"
        },
        "id": "uaGANkk61P37",
        "outputId": "c0f43807-6c09-47cb-e1d2-8b73bb5dde5b"
      },
      "execution_count": null,
      "outputs": [
        {
          "output_type": "stream",
          "name": "stdout",
          "text": [
            "5\n",
            "[1, 2, 3, 4]\n",
            "[1, 2, 3, 4]\n",
            "[5, 6, 7, 8, 9, 10]\n",
            "[1, 3, 5, 7, 9]\n"
          ]
        }
      ]
    },
    {
      "cell_type": "markdown",
      "source": [
        "### Sets"
      ],
      "metadata": {
        "id": "TnqoTW1U1FUc"
      }
    },
    {
      "cell_type": "markdown",
      "source": [
        "* Declared with {}\n",
        "* All elements are unique \n",
        "* The order doesnt matter"
      ],
      "metadata": {
        "id": "jkQjbaAfWXWQ"
      }
    },
    {
      "cell_type": "markdown",
      "source": [
        "In this case, all elements inside a set have to be unique"
      ],
      "metadata": {
        "id": "NfcT43Qg5bLP"
      }
    },
    {
      "cell_type": "code",
      "source": [
        "my_set = {'a', 'b', 'c'}\n",
        "print(my_set)"
      ],
      "metadata": {
        "colab": {
          "base_uri": "https://localhost:8080/"
        },
        "id": "WAzgdiun1LZI",
        "outputId": "5ef6af7e-91d1-4aea-bdb7-27eb11bd7ea3"
      },
      "execution_count": null,
      "outputs": [
        {
          "output_type": "stream",
          "name": "stdout",
          "text": [
            "{'c', 'a', 'b'}\n"
          ]
        }
      ]
    },
    {
      "cell_type": "code",
      "source": [
        "type(my_set)"
      ],
      "metadata": {
        "colab": {
          "base_uri": "https://localhost:8080/"
        },
        "id": "bwfW7jDh1LS2",
        "outputId": "9d4298ea-26d7-4ca2-b42b-2e165e14dbbc"
      },
      "execution_count": null,
      "outputs": [
        {
          "output_type": "execute_result",
          "data": {
            "text/plain": [
              "set"
            ]
          },
          "metadata": {},
          "execution_count": 12
        }
      ]
    },
    {
      "cell_type": "code",
      "source": [
        "#Add item to a set:\n",
        "my_set.add('d')\n",
        "\n",
        "#Remove item from a set:\n",
        "my_set.remove('a')\n",
        "\n",
        "print(my_set)"
      ],
      "metadata": {
        "colab": {
          "base_uri": "https://localhost:8080/"
        },
        "id": "ylVD4F9S3JpU",
        "outputId": "a14cf482-8cb9-4645-9493-a9cb456745a6"
      },
      "execution_count": null,
      "outputs": [
        {
          "output_type": "stream",
          "name": "stdout",
          "text": [
            "{'c', 'd', 'b'}\n"
          ]
        }
      ]
    },
    {
      "cell_type": "code",
      "source": [
        "#If you want to remove duplicate values from a list, you can convert a list to a set \n",
        "# because a set can contain only unique values\n",
        "myList = ['a' , 'b','b', 'c', 'm' , 'm']\n",
        "myList = list(set(myList))\n",
        "myList"
      ],
      "metadata": {
        "colab": {
          "base_uri": "https://localhost:8080/"
        },
        "id": "6F4BVjKZV_Ah",
        "outputId": "b0ab629f-194c-4349-94f0-8fc9adb00cf0"
      },
      "execution_count": null,
      "outputs": [
        {
          "output_type": "execute_result",
          "data": {
            "text/plain": [
              "['a', 'b', 'c', 'm']"
            ]
          },
          "metadata": {},
          "execution_count": 5
        }
      ]
    },
    {
      "cell_type": "markdown",
      "source": [
        "### Tuples"
      ],
      "metadata": {
        "id": "Cd8cAbIa1G-G"
      }
    },
    {
      "cell_type": "markdown",
      "source": [
        "Tuples are immutable, different than lists. The order matter in tuples. I cannot append or add things to tuples"
      ],
      "metadata": {
        "id": "Ep9VLfdb57M5"
      }
    },
    {
      "cell_type": "code",
      "source": [
        "my_tuple = (4,5,6)\n",
        "type(my_tuple)"
      ],
      "metadata": {
        "colab": {
          "base_uri": "https://localhost:8080/"
        },
        "id": "wHe_oS-h1Oy9",
        "outputId": "8b1805b0-3339-4a20-f99d-3953d7fac2e7"
      },
      "execution_count": null,
      "outputs": [
        {
          "output_type": "execute_result",
          "data": {
            "text/plain": [
              "tuple"
            ]
          },
          "metadata": {},
          "execution_count": 13
        }
      ]
    },
    {
      "cell_type": "markdown",
      "source": [
        "Why use tuples?\n",
        "* Efficiency in memory \n",
        "* Good for storing things like x, y coordinates\n",
        "* more efficient than lists\n",
        "* stored compactly in memory"
      ],
      "metadata": {
        "id": "h7uY_RYh6Kqh"
      }
    },
    {
      "cell_type": "code",
      "source": [],
      "metadata": {
        "id": "_WtPg-Y81Ol_"
      },
      "execution_count": null,
      "outputs": []
    },
    {
      "cell_type": "markdown",
      "source": [
        "### Dictionaries"
      ],
      "metadata": {
        "id": "VW7p7uHZ1IWL"
      }
    },
    {
      "cell_type": "code",
      "source": [
        "my_dict = {\n",
        "    'song1' : 'back to black',\n",
        "    'song2': 'the garden'\n",
        "    \n",
        "}\n",
        "\n",
        "my_dict['song1']"
      ],
      "metadata": {
        "colab": {
          "base_uri": "https://localhost:8080/",
          "height": 35
        },
        "id": "W_XZ1Lzt1B00",
        "outputId": "1de98bf0-5fbf-4e6e-871c-f623a0180877"
      },
      "execution_count": null,
      "outputs": [
        {
          "output_type": "execute_result",
          "data": {
            "text/plain": [
              "'back to black'"
            ],
            "application/vnd.google.colaboratory.intrinsic+json": {
              "type": "string"
            }
          },
          "metadata": {},
          "execution_count": 12
        }
      ]
    },
    {
      "cell_type": "markdown",
      "source": [
        "Sets and Dicts\n",
        "* Both defined with {}\n",
        "* Sets have unique values, dicts have unique keys\n",
        "* The order does not matter"
      ],
      "metadata": {
        "id": "xcN8SIhB6wmM"
      }
    },
    {
      "cell_type": "code",
      "source": [
        "#Add key/value pairs to dictionary:\n",
        "my_dict['song3'] = 'One'\n",
        "\n",
        "print(my_dict)"
      ],
      "metadata": {
        "colab": {
          "base_uri": "https://localhost:8080/"
        },
        "id": "9xiB-Vwj2Z89",
        "outputId": "3dd21299-a68c-4765-86e1-60e8adbb9d4d"
      },
      "execution_count": null,
      "outputs": [
        {
          "output_type": "stream",
          "name": "stdout",
          "text": [
            "{'song1': 'back to black', 'song2': 'the garden', 'song3': 'One'}\n"
          ]
        }
      ]
    },
    {
      "cell_type": "code",
      "source": [
        "#Access values by keys\n",
        "print(my_dict['song2'])"
      ],
      "metadata": {
        "colab": {
          "base_uri": "https://localhost:8080/"
        },
        "id": "UroSYf5Y2tjs",
        "outputId": "e22d6819-9d9c-475f-874a-afa665a21aa8"
      },
      "execution_count": null,
      "outputs": [
        {
          "output_type": "stream",
          "name": "stdout",
          "text": [
            "the garden\n"
          ]
        }
      ]
    },
    {
      "cell_type": "code",
      "source": [
        "#print all keys\n",
        "print(my_dict.keys())\n",
        "\n",
        "# print all values\n",
        "print(my_dict.values())\n",
        "\n",
        "#print all key/value pairs\n",
        "print(my_dict.items())"
      ],
      "metadata": {
        "colab": {
          "base_uri": "https://localhost:8080/"
        },
        "id": "5N8LFODq21Qe",
        "outputId": "b44fb737-5587-48f8-f3f3-376e6b0c40ec"
      },
      "execution_count": null,
      "outputs": [
        {
          "output_type": "stream",
          "name": "stdout",
          "text": [
            "dict_keys(['song1', 'song2', 'song3'])\n",
            "dict_values(['back to black', 'the garden', 'One'])\n",
            "dict_items([('song1', 'back to black'), ('song2', 'the garden'), ('song3', 'One')])\n"
          ]
        }
      ]
    },
    {
      "cell_type": "code",
      "source": [
        "#Transform into list\n",
        "list(my_dict.keys())"
      ],
      "metadata": {
        "colab": {
          "base_uri": "https://localhost:8080/"
        },
        "id": "4aNC8x1UkswV",
        "outputId": "2d1b79d1-66eb-47d6-f959-158dedcf40a5"
      },
      "execution_count": null,
      "outputs": [
        {
          "output_type": "execute_result",
          "data": {
            "text/plain": [
              "['song1', 'song2', 'song3']"
            ]
          },
          "metadata": {},
          "execution_count": 16
        }
      ]
    },
    {
      "cell_type": "code",
      "source": [
        "#Looking if an element is in the dictionary\n",
        "print(my_dict.get('love is a losing game'))"
      ],
      "metadata": {
        "colab": {
          "base_uri": "https://localhost:8080/"
        },
        "id": "sdCCxJ8llpkp",
        "outputId": "a266f9fe-cbb4-473b-fe9c-758a1554c52c"
      },
      "execution_count": null,
      "outputs": [
        {
          "output_type": "stream",
          "name": "stdout",
          "text": [
            "None\n"
          ]
        }
      ]
    },
    {
      "cell_type": "code",
      "source": [
        "#Appending items\n",
        "#my_dict['song3'].append('spending my time')   #gives an error because song4 does not exist"
      ],
      "metadata": {
        "id": "xzsFSrH-mDrb"
      },
      "execution_count": null,
      "outputs": []
    },
    {
      "cell_type": "code",
      "source": [
        "from collections import defaultdict"
      ],
      "metadata": {
        "id": "lVHURO6UmpMc"
      },
      "execution_count": null,
      "outputs": []
    },
    {
      "cell_type": "code",
      "source": [
        "my_dict = defaultdict(list)\n",
        "my_dict['song4'].append('spending my time')"
      ],
      "metadata": {
        "id": "CyqjiNCPmrjT"
      },
      "execution_count": null,
      "outputs": []
    },
    {
      "cell_type": "markdown",
      "source": [
        "### List Comprehensions"
      ],
      "metadata": {
        "id": "-QxAlH5Y5sYh"
      }
    },
    {
      "cell_type": "code",
      "source": [
        "myList = [1, 2, 3, 4, 5]\n",
        "[2*item for item in myList]"
      ],
      "metadata": {
        "colab": {
          "base_uri": "https://localhost:8080/"
        },
        "id": "NTGRQdVQsM0a",
        "outputId": "2c5660d1-692b-4ddf-b38b-8822267ae1a4"
      },
      "execution_count": null,
      "outputs": [
        {
          "output_type": "execute_result",
          "data": {
            "text/plain": [
              "[2, 4, 6, 8, 10]"
            ]
          },
          "metadata": {},
          "execution_count": 21
        }
      ]
    },
    {
      "cell_type": "markdown",
      "source": [
        "#### With filters"
      ],
      "metadata": {
        "id": "BlN44mkMr3JU"
      }
    },
    {
      "cell_type": "code",
      "source": [
        "myList = list(range(100))\n",
        "filteredList = [item for item in myList if item % 10 == 0]\n",
        "filteredList"
      ],
      "metadata": {
        "id": "KZjbVlv15vSH",
        "colab": {
          "base_uri": "https://localhost:8080/"
        },
        "outputId": "dac8d950-debb-4fbb-bc90-25ef01c096c8"
      },
      "execution_count": null,
      "outputs": [
        {
          "output_type": "execute_result",
          "data": {
            "text/plain": [
              "[0, 10, 20, 30, 40, 50, 60, 70, 80, 90]"
            ]
          },
          "metadata": {},
          "execution_count": 22
        }
      ]
    },
    {
      "cell_type": "code",
      "source": [
        "filteredList = [item for item in myList if item % 10 < 3]\n",
        "print(filteredList)"
      ],
      "metadata": {
        "colab": {
          "base_uri": "https://localhost:8080/"
        },
        "id": "57K0DURTuGBW",
        "outputId": "4384bdf5-458a-4a9c-8c11-7ad096cf671f"
      },
      "execution_count": null,
      "outputs": [
        {
          "output_type": "stream",
          "name": "stdout",
          "text": [
            "[0, 1, 2, 10, 11, 12, 20, 21, 22, 30, 31, 32, 40, 41, 42, 50, 51, 52, 60, 61, 62, 70, 71, 72, 80, 81, 82, 90, 91, 92]\n"
          ]
        }
      ]
    },
    {
      "cell_type": "markdown",
      "source": [
        "#### With functions "
      ],
      "metadata": {
        "id": "5wuQFFaDr40L"
      }
    },
    {
      "cell_type": "code",
      "source": [
        "myString = 'My name is Ryan Mitchell. I live in Boston'\n",
        "myString.split('.')"
      ],
      "metadata": {
        "id": "Q5YlaiY35vGL",
        "colab": {
          "base_uri": "https://localhost:8080/"
        },
        "outputId": "ed3dccd3-d6f5-42a1-91e4-63e98c0c76c0"
      },
      "execution_count": null,
      "outputs": [
        {
          "output_type": "execute_result",
          "data": {
            "text/plain": [
              "['My name is Ryan Mitchell', ' I live in Boston']"
            ]
          },
          "metadata": {},
          "execution_count": 24
        }
      ]
    },
    {
      "cell_type": "code",
      "source": [
        "\n",
        "myString.split()"
      ],
      "metadata": {
        "colab": {
          "base_uri": "https://localhost:8080/"
        },
        "id": "3POc4cLWuLYC",
        "outputId": "60d1f345-6e4e-4ec6-b657-ff6e4cd04704"
      },
      "execution_count": null,
      "outputs": [
        {
          "output_type": "execute_result",
          "data": {
            "text/plain": [
              "['My', 'name', 'is', 'Ryan', 'Mitchell.', 'I', 'live', 'in', 'Boston']"
            ]
          },
          "metadata": {},
          "execution_count": 25
        }
      ]
    },
    {
      "cell_type": "code",
      "source": [
        "def cleanWord(word):\n",
        "    return word.replace('.', '').lower()\n",
        "\n",
        "[cleanWord(word) for word in myString.split()]"
      ],
      "metadata": {
        "colab": {
          "base_uri": "https://localhost:8080/"
        },
        "id": "8sZk6TYRuLPT",
        "outputId": "aa3b8801-684f-46a2-9926-4b6493e6d304"
      },
      "execution_count": null,
      "outputs": [
        {
          "output_type": "execute_result",
          "data": {
            "text/plain": [
              "['my', 'name', 'is', 'ryan', 'mitchell', 'i', 'live', 'in', 'boston']"
            ]
          },
          "metadata": {},
          "execution_count": 26
        }
      ]
    },
    {
      "cell_type": "code",
      "source": [
        "[cleanWord(word) for word in myString.split() if len(cleanWord(word)) < 3]"
      ],
      "metadata": {
        "colab": {
          "base_uri": "https://localhost:8080/"
        },
        "id": "vIZQUPmiuK8W",
        "outputId": "604403cb-1e14-417b-9e6a-4e80c3ffcbfc"
      },
      "execution_count": null,
      "outputs": [
        {
          "output_type": "execute_result",
          "data": {
            "text/plain": [
              "['my', 'is', 'i', 'in']"
            ]
          },
          "metadata": {},
          "execution_count": 27
        }
      ]
    },
    {
      "cell_type": "markdown",
      "source": [
        "#### Nested"
      ],
      "metadata": {
        "id": "NYLHy5R_r6et"
      }
    },
    {
      "cell_type": "code",
      "source": [
        "[[cleanWord(word) for word in sentence.split()] for sentence in myString.split('.')]"
      ],
      "metadata": {
        "id": "o_9azSOz5vA6",
        "colab": {
          "base_uri": "https://localhost:8080/"
        },
        "outputId": "5d28a98f-1d4b-4ff7-8e77-2685f4f5b29b"
      },
      "execution_count": null,
      "outputs": [
        {
          "output_type": "execute_result",
          "data": {
            "text/plain": [
              "[['my', 'name', 'is', 'ryan', 'mitchell'], ['i', 'live', 'in', 'boston']]"
            ]
          },
          "metadata": {},
          "execution_count": 28
        }
      ]
    },
    {
      "cell_type": "markdown",
      "source": [
        "### Dictionary Comprehensions"
      ],
      "metadata": {
        "id": "rsiphg865vtg"
      }
    },
    {
      "cell_type": "code",
      "source": [
        "animalList = [('a', 'aardvark'), ('b', 'bear'), ('c', 'cat'), ('d', 'dog')]\n",
        "animals = {item[0]: item[1] for item in animalList}\n",
        "animals"
      ],
      "metadata": {
        "id": "Y9Z1XesZ5y8y"
      },
      "execution_count": null,
      "outputs": []
    },
    {
      "cell_type": "markdown",
      "source": [
        "## 3. Operators"
      ],
      "metadata": {
        "id": "1NlRAiNZ7C7M"
      }
    },
    {
      "cell_type": "markdown",
      "source": [
        "### Airhtmetic"
      ],
      "metadata": {
        "id": "i6FwWYGj7Gjv"
      }
    },
    {
      "cell_type": "code",
      "source": [
        "1+1"
      ],
      "metadata": {
        "colab": {
          "base_uri": "https://localhost:8080/"
        },
        "id": "V8plqcCP7Eh4",
        "outputId": "0185a574-505e-4ed9-a761-0bc53a1c108f"
      },
      "execution_count": null,
      "outputs": [
        {
          "output_type": "execute_result",
          "data": {
            "text/plain": [
              "2"
            ]
          },
          "metadata": {},
          "execution_count": 15
        }
      ]
    },
    {
      "cell_type": "code",
      "source": [
        "3*2"
      ],
      "metadata": {
        "colab": {
          "base_uri": "https://localhost:8080/"
        },
        "id": "3W_Xg-dd7IWE",
        "outputId": "9f95226a-1c7a-4d9f-cd07-29eac96726e8"
      },
      "execution_count": null,
      "outputs": [
        {
          "output_type": "execute_result",
          "data": {
            "text/plain": [
              "6"
            ]
          },
          "metadata": {},
          "execution_count": 16
        }
      ]
    },
    {
      "cell_type": "code",
      "source": [
        "6/2"
      ],
      "metadata": {
        "colab": {
          "base_uri": "https://localhost:8080/"
        },
        "id": "02hWtQ3M7KuM",
        "outputId": "85b21967-d37e-4b2d-8e74-7d789db68b13"
      },
      "execution_count": null,
      "outputs": [
        {
          "output_type": "execute_result",
          "data": {
            "text/plain": [
              "3.0"
            ]
          },
          "metadata": {},
          "execution_count": 17
        }
      ]
    },
    {
      "cell_type": "markdown",
      "source": [
        "Every time you do a division you will have a float as a result"
      ],
      "metadata": {
        "id": "0zXn0KkJ7OFW"
      }
    },
    {
      "cell_type": "code",
      "source": [
        "20/6  "
      ],
      "metadata": {
        "colab": {
          "base_uri": "https://localhost:8080/"
        },
        "id": "Fcj5ZXPB7Ttk",
        "outputId": "cab1e998-831d-4a1e-effb-28f2d3ff267a"
      },
      "execution_count": null,
      "outputs": [
        {
          "output_type": "execute_result",
          "data": {
            "text/plain": [
              "3.3333333333333335"
            ]
          },
          "metadata": {},
          "execution_count": 21
        }
      ]
    },
    {
      "cell_type": "code",
      "source": [
        "#Operators with strings"
      ],
      "metadata": {
        "id": "l4b3KhIs7Luw"
      },
      "execution_count": null,
      "outputs": []
    },
    {
      "cell_type": "code",
      "source": [
        "'Maria ' + 'Smith'"
      ],
      "metadata": {
        "colab": {
          "base_uri": "https://localhost:8080/",
          "height": 35
        },
        "id": "L5iL0R2z7TM7",
        "outputId": "9a53f6f5-3b34-46a6-a55b-b384737bdb72"
      },
      "execution_count": null,
      "outputs": [
        {
          "output_type": "execute_result",
          "data": {
            "text/plain": [
              "'Maria Smith'"
            ],
            "application/vnd.google.colaboratory.intrinsic+json": {
              "type": "string"
            }
          },
          "metadata": {},
          "execution_count": 22
        }
      ]
    },
    {
      "cell_type": "code",
      "source": [
        "'Maria ' * 4"
      ],
      "metadata": {
        "colab": {
          "base_uri": "https://localhost:8080/",
          "height": 35
        },
        "id": "fubXLR8h7egs",
        "outputId": "b138e23d-ca15-4e1c-e85f-fa8ea4933fa1"
      },
      "execution_count": null,
      "outputs": [
        {
          "output_type": "execute_result",
          "data": {
            "text/plain": [
              "'Maria Maria Maria Maria '"
            ],
            "application/vnd.google.colaboratory.intrinsic+json": {
              "type": "string"
            }
          },
          "metadata": {},
          "execution_count": 23
        }
      ]
    },
    {
      "cell_type": "markdown",
      "source": [
        "### Comparison"
      ],
      "metadata": {
        "id": "UEWSvYtJ7oFL"
      }
    },
    {
      "cell_type": "markdown",
      "source": [
        "#### AND"
      ],
      "metadata": {
        "id": "1t24nvQSz_Cf"
      }
    },
    {
      "cell_type": "code",
      "source": [
        "print(True and True)\n",
        "print(True and False)\n",
        "print(False and False)"
      ],
      "metadata": {
        "id": "FSJlK8Fi7kz-",
        "colab": {
          "base_uri": "https://localhost:8080/"
        },
        "outputId": "22807121-9ea6-497f-9fe3-85bf5dd488c7"
      },
      "execution_count": null,
      "outputs": [
        {
          "output_type": "stream",
          "name": "stdout",
          "text": [
            "True\n",
            "False\n",
            "False\n"
          ]
        }
      ]
    },
    {
      "cell_type": "markdown",
      "source": [
        "#### NOT"
      ],
      "metadata": {
        "id": "QA2KKLfz0KPl"
      }
    },
    {
      "cell_type": "code",
      "source": [
        "print(not True)\n",
        "print(not False)"
      ],
      "metadata": {
        "colab": {
          "base_uri": "https://localhost:8080/"
        },
        "id": "FToqBdAx0Gvn",
        "outputId": "5f231ca1-0580-43ef-f0cc-e40af943c5a3"
      },
      "execution_count": null,
      "outputs": [
        {
          "output_type": "stream",
          "name": "stdout",
          "text": [
            "False\n",
            "True\n"
          ]
        }
      ]
    },
    {
      "cell_type": "code",
      "source": [
        "#Operators\n",
        "\n",
        "print('Equal: ==')\n",
        "print('Not equal: !=')\n",
        "print('Less than: <')\n",
        "print('Greater than: >')\n",
        "print('Greater than or equals to: >=')"
      ],
      "metadata": {
        "colab": {
          "base_uri": "https://localhost:8080/"
        },
        "id": "il_3i6ui0N3D",
        "outputId": "72b8a2e3-4f30-435b-b033-f32b3cd214c3"
      },
      "execution_count": null,
      "outputs": [
        {
          "output_type": "stream",
          "name": "stdout",
          "text": [
            "Equal: ==\n",
            "Not equal: !=\n",
            "Less than: <\n",
            "Greater than: >\n",
            "Greater than or equals to: >=\n"
          ]
        }
      ]
    },
    {
      "cell_type": "code",
      "source": [],
      "metadata": {
        "id": "nAUQfCzY0VLu"
      },
      "execution_count": null,
      "outputs": []
    },
    {
      "cell_type": "markdown",
      "source": [
        "## 4. Functions"
      ],
      "metadata": {
        "id": "ARzLZLUy3rob"
      }
    },
    {
      "cell_type": "markdown",
      "source": [
        "### Anatomy of a function"
      ],
      "metadata": {
        "id": "W1y7IMxY35gY"
      }
    },
    {
      "cell_type": "code",
      "source": [
        "import math"
      ],
      "metadata": {
        "id": "0bTV2ybu3si7"
      },
      "execution_count": null,
      "outputs": []
    },
    {
      "cell_type": "code",
      "source": [
        "def performOperation(num1, num2, operation):\n",
        "    if operation == 'sum':\n",
        "        return num1 + num2\n",
        "    if operation == 'multiply':\n",
        "        return num1 * num2\n",
        "    \n",
        "performOperation(2, 3, 'sum')"
      ],
      "metadata": {
        "id": "ztXvMBn_37da",
        "colab": {
          "base_uri": "https://localhost:8080/"
        },
        "outputId": "5ab320f8-fbe0-486f-cdec-e7cffc21ce09"
      },
      "execution_count": null,
      "outputs": [
        {
          "output_type": "execute_result",
          "data": {
            "text/plain": [
              "5"
            ]
          },
          "metadata": {},
          "execution_count": 34
        }
      ]
    },
    {
      "cell_type": "code",
      "source": [
        "def performOperation(num1, num2, operation='sum'):\n",
        "    if operation == 'sum':\n",
        "        return num1 + num2\n",
        "    if operation == 'multiply':\n",
        "        return num1 * num2\n",
        "    \n",
        "performOperation(2, 3)"
      ],
      "metadata": {
        "colab": {
          "base_uri": "https://localhost:8080/"
        },
        "id": "Tl0LiQacxEEN",
        "outputId": "207746e9-211f-401d-d3f6-d26032187024"
      },
      "execution_count": null,
      "outputs": [
        {
          "output_type": "execute_result",
          "data": {
            "text/plain": [
              "5"
            ]
          },
          "metadata": {},
          "execution_count": 36
        }
      ]
    },
    {
      "cell_type": "code",
      "source": [
        "def performOperation(num1, num2, operation='sum', message='Default message'):\n",
        "    print(message)\n",
        "    if operation == 'sum':\n",
        "        return num1 + num2\n",
        "    if operation == 'multiply':\n",
        "        return num1 * num2\n",
        "    \n",
        "performOperation(2, 3, message='A new message!', operation='multiply')"
      ],
      "metadata": {
        "colab": {
          "base_uri": "https://localhost:8080/"
        },
        "id": "MM7lSNfgxJ-3",
        "outputId": "ad53d66d-4739-488e-8770-8d36477a45e4"
      },
      "execution_count": null,
      "outputs": [
        {
          "output_type": "stream",
          "name": "stdout",
          "text": [
            "A new message!\n"
          ]
        },
        {
          "output_type": "execute_result",
          "data": {
            "text/plain": [
              "6"
            ]
          },
          "metadata": {},
          "execution_count": 37
        }
      ]
    },
    {
      "cell_type": "markdown",
      "source": [
        "#### *args"
      ],
      "metadata": {
        "id": "7iIZ-VC0xVid"
      }
    },
    {
      "cell_type": "code",
      "source": [
        "def performOperation(*args):\n",
        "    print(args)\n",
        "    \n",
        "performOperation(1,2,3)"
      ],
      "metadata": {
        "colab": {
          "base_uri": "https://localhost:8080/"
        },
        "id": "lc2QMWFnxJ2R",
        "outputId": "5831e7c4-daa6-4fa5-cd81-f474f0207ced"
      },
      "execution_count": null,
      "outputs": [
        {
          "output_type": "stream",
          "name": "stdout",
          "text": [
            "(1, 2, 3)\n"
          ]
        }
      ]
    },
    {
      "cell_type": "code",
      "source": [
        "performOperation(1,2,3, operation='sum')"
      ],
      "metadata": {
        "colab": {
          "base_uri": "https://localhost:8080/",
          "height": 165
        },
        "id": "cgMV1m98xZkC",
        "outputId": "5d71be49-d81a-4e0b-cdb9-243d0e67042d"
      },
      "execution_count": null,
      "outputs": [
        {
          "output_type": "error",
          "ename": "TypeError",
          "evalue": "ignored",
          "traceback": [
            "\u001b[0;31m---------------------------------------------------------------------------\u001b[0m",
            "\u001b[0;31mTypeError\u001b[0m                                 Traceback (most recent call last)",
            "\u001b[0;32m<ipython-input-39-165390ae1f0b>\u001b[0m in \u001b[0;36m<module>\u001b[0;34m\u001b[0m\n\u001b[0;32m----> 1\u001b[0;31m \u001b[0mperformOperation\u001b[0m\u001b[0;34m(\u001b[0m\u001b[0;36m1\u001b[0m\u001b[0;34m,\u001b[0m\u001b[0;36m2\u001b[0m\u001b[0;34m,\u001b[0m\u001b[0;36m3\u001b[0m\u001b[0;34m,\u001b[0m \u001b[0moperation\u001b[0m\u001b[0;34m=\u001b[0m\u001b[0;34m'sum'\u001b[0m\u001b[0;34m)\u001b[0m\u001b[0;34m\u001b[0m\u001b[0;34m\u001b[0m\u001b[0m\n\u001b[0m",
            "\u001b[0;31mTypeError\u001b[0m: performOperation() got an unexpected keyword argument 'operation'"
          ]
        }
      ]
    },
    {
      "cell_type": "markdown",
      "source": [
        "#### *kwargs"
      ],
      "metadata": {
        "id": "G-Utq9yCxcjZ"
      }
    },
    {
      "cell_type": "code",
      "source": [
        "def performOperation(*args, **kwargs):\n",
        "    print(args)\n",
        "    print(kwargs)\n",
        "performOperation(1,2,3, operation='sum')"
      ],
      "metadata": {
        "colab": {
          "base_uri": "https://localhost:8080/"
        },
        "id": "YlI1DgidxfH7",
        "outputId": "0e7f9d0b-b23f-47e3-887e-7cae69647096"
      },
      "execution_count": null,
      "outputs": [
        {
          "output_type": "stream",
          "name": "stdout",
          "text": [
            "(1, 2, 3)\n",
            "{'operation': 'sum'}\n"
          ]
        }
      ]
    },
    {
      "cell_type": "code",
      "source": [
        "def performOperation(*args, operation='sum'):\n",
        "    if operation == 'sum':\n",
        "        return sum(args)\n",
        "    if operation == 'multiply':\n",
        "        return math.prod(args)\n",
        "    \n",
        "performOperation(1,2,3,6, 7, 8, operation='sum')"
      ],
      "metadata": {
        "colab": {
          "base_uri": "https://localhost:8080/"
        },
        "id": "2N0U_S73xfAp",
        "outputId": "fa9e05ef-7ecb-429f-a202-f96b77b96554"
      },
      "execution_count": null,
      "outputs": [
        {
          "output_type": "execute_result",
          "data": {
            "text/plain": [
              "27"
            ]
          },
          "metadata": {},
          "execution_count": 41
        }
      ]
    },
    {
      "cell_type": "markdown",
      "source": [
        "### Variables and scope"
      ],
      "metadata": {
        "id": "OavkwzKTx5d6"
      }
    },
    {
      "cell_type": "code",
      "source": [
        "def performOperation(*args, **kwargs):\n",
        "    print(args)\n",
        "    print(kwargs)\n",
        "\n",
        "performOperation(1, 2, operation='sum')"
      ],
      "metadata": {
        "colab": {
          "base_uri": "https://localhost:8080/"
        },
        "id": "Wya8OqsFx-Yb",
        "outputId": "d83bcee0-b349-44c8-f6a8-fff7e7e8965e"
      },
      "execution_count": null,
      "outputs": [
        {
          "output_type": "stream",
          "name": "stdout",
          "text": [
            "(1, 2)\n",
            "{'operation': 'sum'}\n"
          ]
        }
      ]
    },
    {
      "cell_type": "code",
      "source": [
        "\n",
        "def performOperation(num1, num2, operation='sum'):\n",
        "    print(locals())   #locals are things that are defined inside a function \n",
        "    \n",
        "performOperation(1, 2, operation='multiply')\n",
        "print(num1)"
      ],
      "metadata": {
        "colab": {
          "base_uri": "https://localhost:8080/",
          "height": 217
        },
        "id": "LgS7DSTJx-Rn",
        "outputId": "7a3031f2-926b-4d73-b43a-55d071e1f74e"
      },
      "execution_count": null,
      "outputs": [
        {
          "output_type": "stream",
          "name": "stdout",
          "text": [
            "{'num1': 1, 'num2': 2, 'operation': 'multiply'}\n"
          ]
        },
        {
          "output_type": "error",
          "ename": "NameError",
          "evalue": "ignored",
          "traceback": [
            "\u001b[0;31m---------------------------------------------------------------------------\u001b[0m",
            "\u001b[0;31mNameError\u001b[0m                                 Traceback (most recent call last)",
            "\u001b[0;32m<ipython-input-43-4260ba508697>\u001b[0m in \u001b[0;36m<module>\u001b[0;34m\u001b[0m\n\u001b[1;32m      3\u001b[0m \u001b[0;34m\u001b[0m\u001b[0m\n\u001b[1;32m      4\u001b[0m \u001b[0mperformOperation\u001b[0m\u001b[0;34m(\u001b[0m\u001b[0;36m1\u001b[0m\u001b[0;34m,\u001b[0m \u001b[0;36m2\u001b[0m\u001b[0;34m,\u001b[0m \u001b[0moperation\u001b[0m\u001b[0;34m=\u001b[0m\u001b[0;34m'multiply'\u001b[0m\u001b[0;34m)\u001b[0m\u001b[0;34m\u001b[0m\u001b[0;34m\u001b[0m\u001b[0m\n\u001b[0;32m----> 5\u001b[0;31m \u001b[0mprint\u001b[0m\u001b[0;34m(\u001b[0m\u001b[0mnum1\u001b[0m\u001b[0;34m)\u001b[0m\u001b[0;34m\u001b[0m\u001b[0;34m\u001b[0m\u001b[0m\n\u001b[0m",
            "\u001b[0;31mNameError\u001b[0m: name 'num1' is not defined"
          ]
        }
      ]
    },
    {
      "cell_type": "code",
      "source": [
        "globals()"
      ],
      "metadata": {
        "colab": {
          "base_uri": "https://localhost:8080/"
        },
        "id": "BWjthpqYyX5D",
        "outputId": "1bff806d-daf6-4809-bc8f-3b6c6b289424"
      },
      "execution_count": null,
      "outputs": [
        {
          "output_type": "execute_result",
          "data": {
            "text/plain": [
              "{'__name__': '__main__',\n",
              " '__doc__': 'Automatically created module for IPython interactive environment',\n",
              " '__package__': None,\n",
              " '__loader__': None,\n",
              " '__spec__': None,\n",
              " '__builtin__': <module 'builtins' (built-in)>,\n",
              " '__builtins__': <module 'builtins' (built-in)>,\n",
              " '_ih': ['',\n",
              "  '#Transform into list\\nlist(my_dict.keys())',\n",
              "  \"my_dict = {\\n    'song1' : 'back to black',\\n    'song2': 'the garden'\\n    \\n}\\n\\nmy_dict['song1']\",\n",
              "  \"#Add key/value pairs to dictionary:\\nmy_dict['song3'] = 'One'\\n\\nprint(my_dict)\",\n",
              "  \"#Access values by keys\\nprint(my_dict['song2'])\",\n",
              "  '#print all keys\\nprint(my_dict.keys())\\n\\n# print all values\\nprint(my_dict.values())\\n\\n#print all key/value pairs\\nprint(my_dict.items())',\n",
              "  '#Transform into list\\nlist(my_dict.keys())',\n",
              "  \"#Looking if an element is in the dictionary\\nprint(my_dict.get('love is a losing game'))\",\n",
              "  \"#Appending items\\nmy_dict['song4'].append('spending my time')\",\n",
              "  \"#Appending items\\nmy_dict['song3'].append('spending my time')\",\n",
              "  \"#Appending items\\n#my_dict['song3'].append('spending my time')\",\n",
              "  'from collections import defaultdict',\n",
              "  \"my_dict = {\\n    'song1' : 'back to black',\\n    'song2': 'the garden'\\n    \\n}\\n\\nmy_dict['song1']\",\n",
              "  \"#Add key/value pairs to dictionary:\\nmy_dict['song3'] = 'One'\\n\\nprint(my_dict)\",\n",
              "  \"#Access values by keys\\nprint(my_dict['song2'])\",\n",
              "  '#print all keys\\nprint(my_dict.keys())\\n\\n# print all values\\nprint(my_dict.values())\\n\\n#print all key/value pairs\\nprint(my_dict.items())',\n",
              "  '#Transform into list\\nlist(my_dict.keys())',\n",
              "  \"#Looking if an element is in the dictionary\\nprint(my_dict.get('love is a losing game'))\",\n",
              "  \"#Appending items\\n#my_dict['song3'].append('spending my time')   #gives an error because song4 does not exist\",\n",
              "  'from collections import defaultdict',\n",
              "  \"my_dict = defaultdict(list)\\nmy_dict['song4'].append('spending my time')\",\n",
              "  'myList = [1, 2, 3, 4, 5]\\n[2*item for item in myList]',\n",
              "  'myList = list(range(100))\\nfilteredList = [item for item in myList if item % 10 == 0]\\nfilteredList',\n",
              "  'filteredList = [item for item in myList if item % 10 < 3]\\nprint(filteredList)',\n",
              "  \"myString = 'My name is Ryan Mitchell. I live in Boston'\\nmyString.split('.')\",\n",
              "  'myString.split()',\n",
              "  \"def cleanWord(word):\\n    return word.replace('.', '').lower()\\n\\n[cleanWord(word) for word in myString.split()]\",\n",
              "  '[cleanWord(word) for word in myString.split() if len(cleanWord(word)) < 3]',\n",
              "  \"[[cleanWord(word) for word in sentence.split()] for sentence in myString.split('.')]\",\n",
              "  \"# 1, 2, Fizz, 4, Buzz, Fizz, 7, 8, Fizz, Buzz, 11, Fizz, 13, FizzBuzz, 16\\n\\nfor n in range(1, 101):\\n    if n % 15 == 0:\\n        print('FizzBuzz')\\n    else:\\n        if n % 3 == 0:\\n            print('Fizz')\\n        else:\\n            if n % 5 == 0:\\n                print('Buzz')\\n            else:\\n                print(n)\",\n",
              "  'from datetime import datetime',\n",
              "  'datetime.now().second',\n",
              "  \"wait_until = datetime.now().second + 2\\n\\nwhile datetime.now().second != wait_until:\\n    print('Still waiting!')\\n    \\nprint(f'We are at {wait_until} seconds!')\",\n",
              "  'import math',\n",
              "  \"def performOperation(num1, num2, operation):\\n    if operation == 'sum':\\n        return num1 + num2\\n    if operation == 'multiply':\\n        return num1 * num2\\n    \\nperformOperation(2, 3, 'sum')\",\n",
              "  \"def performOperation(num1, num2, operation='sum'):\\n    if operation == 'sum':\\n        return num1 + num2\\n    if operation == 'multiply':\\n        return num1 * num2\\n    \\nperformOperation(2, 3\",\n",
              "  \"def performOperation(num1, num2, operation='sum'):\\n    if operation == 'sum':\\n        return num1 + num2\\n    if operation == 'multiply':\\n        return num1 * num2\\n    \\nperformOperation(2, 3)\",\n",
              "  \"def performOperation(num1, num2, operation='sum', message='Default message'):\\n    print(message)\\n    if operation == 'sum':\\n        return num1 + num2\\n    if operation == 'multiply':\\n        return num1 * num2\\n    \\nperformOperation(2, 3, message='A new message!', operation='multiply')\",\n",
              "  'def performOperation(*args):\\n    print(args)\\n    \\nperformOperation(1,2,3)',\n",
              "  \"performOperation(1,2,3, operation='sum')\",\n",
              "  \"def performOperation(*args, **kwargs):\\n    print(args)\\n    print(kwargs)\\nperformOperation(1,2,3, operation='sum')\",\n",
              "  \"def performOperation(*args, operation='sum'):\\n    if operation == 'sum':\\n        return sum(args)\\n    if operation == 'multiply':\\n        return math.prod(args)\\n    \\nperformOperation(1,2,3,6, 7, 8, operation='sum')\",\n",
              "  \"def performOperation(*args, **kwargs):\\n    print(args)\\n    print(kwargs)\\n\\nperformOperation(1, 2, operation='sum')\",\n",
              "  \"def performOperation(num1, num2, operation='sum'):\\n    print(locals())\\n    \\nperformOperation(1, 2, operation='multiply')\\nprint(num1)\",\n",
              "  'globals()'],\n",
              " '_oh': {2: 'back to black',\n",
              "  6: ['song1', 'song2', 'song3'],\n",
              "  12: 'back to black',\n",
              "  16: ['song1', 'song2', 'song3'],\n",
              "  21: [2, 4, 6, 8, 10],\n",
              "  22: [0, 10, 20, 30, 40, 50, 60, 70, 80, 90],\n",
              "  24: ['My name is Ryan Mitchell', ' I live in Boston'],\n",
              "  25: ['My', 'name', 'is', 'Ryan', 'Mitchell.', 'I', 'live', 'in', 'Boston'],\n",
              "  26: ['my', 'name', 'is', 'ryan', 'mitchell', 'i', 'live', 'in', 'boston'],\n",
              "  27: ['my', 'is', 'i', 'in'],\n",
              "  28: [['my', 'name', 'is', 'ryan', 'mitchell'],\n",
              "   ['i', 'live', 'in', 'boston']],\n",
              "  31: 21,\n",
              "  34: 5,\n",
              "  36: 5,\n",
              "  37: 6,\n",
              "  41: 27},\n",
              " '_dh': ['/content'],\n",
              " 'In': ['',\n",
              "  '#Transform into list\\nlist(my_dict.keys())',\n",
              "  \"my_dict = {\\n    'song1' : 'back to black',\\n    'song2': 'the garden'\\n    \\n}\\n\\nmy_dict['song1']\",\n",
              "  \"#Add key/value pairs to dictionary:\\nmy_dict['song3'] = 'One'\\n\\nprint(my_dict)\",\n",
              "  \"#Access values by keys\\nprint(my_dict['song2'])\",\n",
              "  '#print all keys\\nprint(my_dict.keys())\\n\\n# print all values\\nprint(my_dict.values())\\n\\n#print all key/value pairs\\nprint(my_dict.items())',\n",
              "  '#Transform into list\\nlist(my_dict.keys())',\n",
              "  \"#Looking if an element is in the dictionary\\nprint(my_dict.get('love is a losing game'))\",\n",
              "  \"#Appending items\\nmy_dict['song4'].append('spending my time')\",\n",
              "  \"#Appending items\\nmy_dict['song3'].append('spending my time')\",\n",
              "  \"#Appending items\\n#my_dict['song3'].append('spending my time')\",\n",
              "  'from collections import defaultdict',\n",
              "  \"my_dict = {\\n    'song1' : 'back to black',\\n    'song2': 'the garden'\\n    \\n}\\n\\nmy_dict['song1']\",\n",
              "  \"#Add key/value pairs to dictionary:\\nmy_dict['song3'] = 'One'\\n\\nprint(my_dict)\",\n",
              "  \"#Access values by keys\\nprint(my_dict['song2'])\",\n",
              "  '#print all keys\\nprint(my_dict.keys())\\n\\n# print all values\\nprint(my_dict.values())\\n\\n#print all key/value pairs\\nprint(my_dict.items())',\n",
              "  '#Transform into list\\nlist(my_dict.keys())',\n",
              "  \"#Looking if an element is in the dictionary\\nprint(my_dict.get('love is a losing game'))\",\n",
              "  \"#Appending items\\n#my_dict['song3'].append('spending my time')   #gives an error because song4 does not exist\",\n",
              "  'from collections import defaultdict',\n",
              "  \"my_dict = defaultdict(list)\\nmy_dict['song4'].append('spending my time')\",\n",
              "  'myList = [1, 2, 3, 4, 5]\\n[2*item for item in myList]',\n",
              "  'myList = list(range(100))\\nfilteredList = [item for item in myList if item % 10 == 0]\\nfilteredList',\n",
              "  'filteredList = [item for item in myList if item % 10 < 3]\\nprint(filteredList)',\n",
              "  \"myString = 'My name is Ryan Mitchell. I live in Boston'\\nmyString.split('.')\",\n",
              "  'myString.split()',\n",
              "  \"def cleanWord(word):\\n    return word.replace('.', '').lower()\\n\\n[cleanWord(word) for word in myString.split()]\",\n",
              "  '[cleanWord(word) for word in myString.split() if len(cleanWord(word)) < 3]',\n",
              "  \"[[cleanWord(word) for word in sentence.split()] for sentence in myString.split('.')]\",\n",
              "  \"# 1, 2, Fizz, 4, Buzz, Fizz, 7, 8, Fizz, Buzz, 11, Fizz, 13, FizzBuzz, 16\\n\\nfor n in range(1, 101):\\n    if n % 15 == 0:\\n        print('FizzBuzz')\\n    else:\\n        if n % 3 == 0:\\n            print('Fizz')\\n        else:\\n            if n % 5 == 0:\\n                print('Buzz')\\n            else:\\n                print(n)\",\n",
              "  'from datetime import datetime',\n",
              "  'datetime.now().second',\n",
              "  \"wait_until = datetime.now().second + 2\\n\\nwhile datetime.now().second != wait_until:\\n    print('Still waiting!')\\n    \\nprint(f'We are at {wait_until} seconds!')\",\n",
              "  'import math',\n",
              "  \"def performOperation(num1, num2, operation):\\n    if operation == 'sum':\\n        return num1 + num2\\n    if operation == 'multiply':\\n        return num1 * num2\\n    \\nperformOperation(2, 3, 'sum')\",\n",
              "  \"def performOperation(num1, num2, operation='sum'):\\n    if operation == 'sum':\\n        return num1 + num2\\n    if operation == 'multiply':\\n        return num1 * num2\\n    \\nperformOperation(2, 3\",\n",
              "  \"def performOperation(num1, num2, operation='sum'):\\n    if operation == 'sum':\\n        return num1 + num2\\n    if operation == 'multiply':\\n        return num1 * num2\\n    \\nperformOperation(2, 3)\",\n",
              "  \"def performOperation(num1, num2, operation='sum', message='Default message'):\\n    print(message)\\n    if operation == 'sum':\\n        return num1 + num2\\n    if operation == 'multiply':\\n        return num1 * num2\\n    \\nperformOperation(2, 3, message='A new message!', operation='multiply')\",\n",
              "  'def performOperation(*args):\\n    print(args)\\n    \\nperformOperation(1,2,3)',\n",
              "  \"performOperation(1,2,3, operation='sum')\",\n",
              "  \"def performOperation(*args, **kwargs):\\n    print(args)\\n    print(kwargs)\\nperformOperation(1,2,3, operation='sum')\",\n",
              "  \"def performOperation(*args, operation='sum'):\\n    if operation == 'sum':\\n        return sum(args)\\n    if operation == 'multiply':\\n        return math.prod(args)\\n    \\nperformOperation(1,2,3,6, 7, 8, operation='sum')\",\n",
              "  \"def performOperation(*args, **kwargs):\\n    print(args)\\n    print(kwargs)\\n\\nperformOperation(1, 2, operation='sum')\",\n",
              "  \"def performOperation(num1, num2, operation='sum'):\\n    print(locals())\\n    \\nperformOperation(1, 2, operation='multiply')\\nprint(num1)\",\n",
              "  'globals()'],\n",
              " 'Out': {2: 'back to black',\n",
              "  6: ['song1', 'song2', 'song3'],\n",
              "  12: 'back to black',\n",
              "  16: ['song1', 'song2', 'song3'],\n",
              "  21: [2, 4, 6, 8, 10],\n",
              "  22: [0, 10, 20, 30, 40, 50, 60, 70, 80, 90],\n",
              "  24: ['My name is Ryan Mitchell', ' I live in Boston'],\n",
              "  25: ['My', 'name', 'is', 'Ryan', 'Mitchell.', 'I', 'live', 'in', 'Boston'],\n",
              "  26: ['my', 'name', 'is', 'ryan', 'mitchell', 'i', 'live', 'in', 'boston'],\n",
              "  27: ['my', 'is', 'i', 'in'],\n",
              "  28: [['my', 'name', 'is', 'ryan', 'mitchell'],\n",
              "   ['i', 'live', 'in', 'boston']],\n",
              "  31: 21,\n",
              "  34: 5,\n",
              "  36: 5,\n",
              "  37: 6,\n",
              "  41: 27},\n",
              " 'get_ipython': <bound method InteractiveShell.get_ipython of <google.colab._shell.Shell object at 0x7fa1c42b6110>>,\n",
              " 'exit': <IPython.core.autocall.ZMQExitAutocall at 0x7fa1c100f8d0>,\n",
              " 'quit': <IPython.core.autocall.ZMQExitAutocall at 0x7fa1c100f8d0>,\n",
              " '_': 27,\n",
              " '__': 6,\n",
              " '___': 5,\n",
              " '_i': \"\\ndef performOperation(num1, num2, operation='sum'):\\n    print(locals())\\n    \\nperformOperation(1, 2, operation='multiply')\\nprint(num1)\",\n",
              " '_ii': \"def performOperation(*args, **kwargs):\\n    print(args)\\n    print(kwargs)\\n\\nperformOperation(1, 2, operation='sum')\",\n",
              " '_iii': \"def performOperation(*args, operation='sum'):\\n    if operation == 'sum':\\n        return sum(args)\\n    if operation == 'multiply':\\n        return math.prod(args)\\n    \\nperformOperation(1,2,3,6, 7, 8, operation='sum')\",\n",
              " '_i1': '#Transform into list\\nlist(my_dict.keys())',\n",
              " '_i2': \"my_dict = {\\n    'song1' : 'back to black',\\n    'song2': 'the garden'\\n    \\n}\\n\\nmy_dict['song1']\",\n",
              " 'my_dict': defaultdict(list, {'song4': ['spending my time']}),\n",
              " '_2': 'back to black',\n",
              " '_i3': \"#Add key/value pairs to dictionary:\\nmy_dict['song3'] = 'One'\\n\\nprint(my_dict)\",\n",
              " '_i4': \"#Access values by keys\\nprint(my_dict['song2'])\",\n",
              " '_i5': '#print all keys\\nprint(my_dict.keys())\\n\\n# print all values\\nprint(my_dict.values())\\n\\n#print all key/value pairs\\nprint(my_dict.items())',\n",
              " '_i6': '#Transform into list\\nlist(my_dict.keys())',\n",
              " '_6': ['song1', 'song2', 'song3'],\n",
              " '_i7': \"#Looking if an element is in the dictionary\\nprint(my_dict.get('love is a losing game'))\",\n",
              " '_i8': \"#Appending items\\nmy_dict['song4'].append('spending my time')\",\n",
              " '_i9': \"#Appending items\\nmy_dict['song3'].append('spending my time')\",\n",
              " '_i10': \"#Appending items\\n#my_dict['song3'].append('spending my time')\",\n",
              " '_i11': 'from collections import defaultdict',\n",
              " 'defaultdict': collections.defaultdict,\n",
              " '_i12': \"my_dict = {\\n    'song1' : 'back to black',\\n    'song2': 'the garden'\\n    \\n}\\n\\nmy_dict['song1']\",\n",
              " '_12': 'back to black',\n",
              " '_i13': \"#Add key/value pairs to dictionary:\\nmy_dict['song3'] = 'One'\\n\\nprint(my_dict)\",\n",
              " '_i14': \"#Access values by keys\\nprint(my_dict['song2'])\",\n",
              " '_i15': '#print all keys\\nprint(my_dict.keys())\\n\\n# print all values\\nprint(my_dict.values())\\n\\n#print all key/value pairs\\nprint(my_dict.items())',\n",
              " '_i16': '#Transform into list\\nlist(my_dict.keys())',\n",
              " '_16': ['song1', 'song2', 'song3'],\n",
              " '_i17': \"#Looking if an element is in the dictionary\\nprint(my_dict.get('love is a losing game'))\",\n",
              " '_i18': \"#Appending items\\n#my_dict['song3'].append('spending my time')   #gives an error because song4 does not exist\",\n",
              " '_i19': 'from collections import defaultdict',\n",
              " '_i20': \"my_dict = defaultdict(list)\\nmy_dict['song4'].append('spending my time')\",\n",
              " '_i21': 'myList = [1, 2, 3, 4, 5]\\n[2*item for item in myList]',\n",
              " 'myList': [0,\n",
              "  1,\n",
              "  2,\n",
              "  3,\n",
              "  4,\n",
              "  5,\n",
              "  6,\n",
              "  7,\n",
              "  8,\n",
              "  9,\n",
              "  10,\n",
              "  11,\n",
              "  12,\n",
              "  13,\n",
              "  14,\n",
              "  15,\n",
              "  16,\n",
              "  17,\n",
              "  18,\n",
              "  19,\n",
              "  20,\n",
              "  21,\n",
              "  22,\n",
              "  23,\n",
              "  24,\n",
              "  25,\n",
              "  26,\n",
              "  27,\n",
              "  28,\n",
              "  29,\n",
              "  30,\n",
              "  31,\n",
              "  32,\n",
              "  33,\n",
              "  34,\n",
              "  35,\n",
              "  36,\n",
              "  37,\n",
              "  38,\n",
              "  39,\n",
              "  40,\n",
              "  41,\n",
              "  42,\n",
              "  43,\n",
              "  44,\n",
              "  45,\n",
              "  46,\n",
              "  47,\n",
              "  48,\n",
              "  49,\n",
              "  50,\n",
              "  51,\n",
              "  52,\n",
              "  53,\n",
              "  54,\n",
              "  55,\n",
              "  56,\n",
              "  57,\n",
              "  58,\n",
              "  59,\n",
              "  60,\n",
              "  61,\n",
              "  62,\n",
              "  63,\n",
              "  64,\n",
              "  65,\n",
              "  66,\n",
              "  67,\n",
              "  68,\n",
              "  69,\n",
              "  70,\n",
              "  71,\n",
              "  72,\n",
              "  73,\n",
              "  74,\n",
              "  75,\n",
              "  76,\n",
              "  77,\n",
              "  78,\n",
              "  79,\n",
              "  80,\n",
              "  81,\n",
              "  82,\n",
              "  83,\n",
              "  84,\n",
              "  85,\n",
              "  86,\n",
              "  87,\n",
              "  88,\n",
              "  89,\n",
              "  90,\n",
              "  91,\n",
              "  92,\n",
              "  93,\n",
              "  94,\n",
              "  95,\n",
              "  96,\n",
              "  97,\n",
              "  98,\n",
              "  99],\n",
              " '_21': [2, 4, 6, 8, 10],\n",
              " '_i22': 'myList = list(range(100))\\nfilteredList = [item for item in myList if item % 10 == 0]\\nfilteredList',\n",
              " 'filteredList': [0,\n",
              "  1,\n",
              "  2,\n",
              "  10,\n",
              "  11,\n",
              "  12,\n",
              "  20,\n",
              "  21,\n",
              "  22,\n",
              "  30,\n",
              "  31,\n",
              "  32,\n",
              "  40,\n",
              "  41,\n",
              "  42,\n",
              "  50,\n",
              "  51,\n",
              "  52,\n",
              "  60,\n",
              "  61,\n",
              "  62,\n",
              "  70,\n",
              "  71,\n",
              "  72,\n",
              "  80,\n",
              "  81,\n",
              "  82,\n",
              "  90,\n",
              "  91,\n",
              "  92],\n",
              " '_22': [0, 10, 20, 30, 40, 50, 60, 70, 80, 90],\n",
              " '_i23': 'filteredList = [item for item in myList if item % 10 < 3]\\nprint(filteredList)',\n",
              " '_i24': \"myString = 'My name is Ryan Mitchell. I live in Boston'\\nmyString.split('.')\",\n",
              " 'myString': 'My name is Ryan Mitchell. I live in Boston',\n",
              " '_24': ['My name is Ryan Mitchell', ' I live in Boston'],\n",
              " '_i25': '\\nmyString.split()',\n",
              " '_25': ['My', 'name', 'is', 'Ryan', 'Mitchell.', 'I', 'live', 'in', 'Boston'],\n",
              " '_i26': \"def cleanWord(word):\\n    return word.replace('.', '').lower()\\n\\n[cleanWord(word) for word in myString.split()]\",\n",
              " 'cleanWord': <function __main__.cleanWord(word)>,\n",
              " '_26': ['my', 'name', 'is', 'ryan', 'mitchell', 'i', 'live', 'in', 'boston'],\n",
              " '_i27': '[cleanWord(word) for word in myString.split() if len(cleanWord(word)) < 3]',\n",
              " '_27': ['my', 'is', 'i', 'in'],\n",
              " '_i28': \"[[cleanWord(word) for word in sentence.split()] for sentence in myString.split('.')]\",\n",
              " '_28': [['my', 'name', 'is', 'ryan', 'mitchell'],\n",
              "  ['i', 'live', 'in', 'boston']],\n",
              " '_i29': \"# 1, 2, Fizz, 4, Buzz, Fizz, 7, 8, Fizz, Buzz, 11, Fizz, 13, FizzBuzz, 16\\n\\nfor n in range(1, 101):\\n    if n % 15 == 0:\\n        print('FizzBuzz')\\n    else:\\n        if n % 3 == 0:\\n            print('Fizz')\\n        else:\\n            if n % 5 == 0:\\n                print('Buzz')\\n            else:\\n                print(n)\",\n",
              " 'n': 100,\n",
              " '_i30': 'from datetime import datetime',\n",
              " 'datetime': datetime.datetime,\n",
              " '_i31': 'datetime.now().second',\n",
              " '_31': 21,\n",
              " '_i32': \"wait_until = datetime.now().second + 2\\n\\nwhile datetime.now().second != wait_until:\\n    print('Still waiting!')\\n    \\nprint(f'We are at {wait_until} seconds!')\",\n",
              " 'wait_until': 29,\n",
              " '_i33': 'import math',\n",
              " 'math': <module 'math' (built-in)>,\n",
              " '_i34': \"def performOperation(num1, num2, operation):\\n    if operation == 'sum':\\n        return num1 + num2\\n    if operation == 'multiply':\\n        return num1 * num2\\n    \\nperformOperation(2, 3, 'sum')\",\n",
              " 'performOperation': <function __main__.performOperation(num1, num2, operation='sum')>,\n",
              " '_34': 5,\n",
              " '_i35': \"def performOperation(num1, num2, operation='sum'):\\n    if operation == 'sum':\\n        return num1 + num2\\n    if operation == 'multiply':\\n        return num1 * num2\\n    \\nperformOperation(2, 3\",\n",
              " '_i36': \"def performOperation(num1, num2, operation='sum'):\\n    if operation == 'sum':\\n        return num1 + num2\\n    if operation == 'multiply':\\n        return num1 * num2\\n    \\nperformOperation(2, 3)\",\n",
              " '_36': 5,\n",
              " '_i37': \"def performOperation(num1, num2, operation='sum', message='Default message'):\\n    print(message)\\n    if operation == 'sum':\\n        return num1 + num2\\n    if operation == 'multiply':\\n        return num1 * num2\\n    \\nperformOperation(2, 3, message='A new message!', operation='multiply')\",\n",
              " '_37': 6,\n",
              " '_i38': 'def performOperation(*args):\\n    print(args)\\n    \\nperformOperation(1,2,3)',\n",
              " '_i39': \"performOperation(1,2,3, operation='sum')\",\n",
              " '_i40': \"def performOperation(*args, **kwargs):\\n    print(args)\\n    print(kwargs)\\nperformOperation(1,2,3, operation='sum')\",\n",
              " '_i41': \"def performOperation(*args, operation='sum'):\\n    if operation == 'sum':\\n        return sum(args)\\n    if operation == 'multiply':\\n        return math.prod(args)\\n    \\nperformOperation(1,2,3,6, 7, 8, operation='sum')\",\n",
              " '_41': 27,\n",
              " '_i42': \"def performOperation(*args, **kwargs):\\n    print(args)\\n    print(kwargs)\\n\\nperformOperation(1, 2, operation='sum')\",\n",
              " '_i43': \"\\ndef performOperation(num1, num2, operation='sum'):\\n    print(locals())\\n    \\nperformOperation(1, 2, operation='multiply')\\nprint(num1)\",\n",
              " '_i44': 'globals()'}"
            ]
          },
          "metadata": {},
          "execution_count": 44
        }
      ]
    },
    {
      "cell_type": "code",
      "source": [
        "message = 'Some global data'\n",
        "\n",
        "def function1(varA, varB):\n",
        "    print(message)\n",
        "    print(locals())\n",
        "    \n",
        "    \n",
        "def function2(varC, varB):\n",
        "    print(message)\n",
        "    print(locals())\n",
        "    \n",
        "function1(1, 2)\n",
        "function2(3, 4)"
      ],
      "metadata": {
        "colab": {
          "base_uri": "https://localhost:8080/"
        },
        "id": "9hJhyeBkyY3Q",
        "outputId": "edc78c04-4677-45d8-f487-47daee4e560b"
      },
      "execution_count": null,
      "outputs": [
        {
          "output_type": "stream",
          "name": "stdout",
          "text": [
            "Some global data\n",
            "{'varA': 1, 'varB': 2}\n",
            "Some global data\n",
            "{'varC': 3, 'varB': 4}\n"
          ]
        }
      ]
    },
    {
      "cell_type": "code",
      "source": [
        "message = 'Some global data'\n",
        "varA = 2\n",
        "def function1(varA, varB):\n",
        "    message = 'Some local data'\n",
        "    print(varA)\n",
        "    print(message)\n",
        "    print(locals())\n",
        "    \n",
        "    \n",
        "def function2(varC, varB):\n",
        "    print(varA)\n",
        "    print(message)\n",
        "    print(locals())\n",
        "    \n",
        "function1(1, 2)\n",
        "function2(3, 4)"
      ],
      "metadata": {
        "colab": {
          "base_uri": "https://localhost:8080/"
        },
        "id": "P_60nkuHygwa",
        "outputId": "e4781770-cdf0-4ec0-f0e8-5c855672d75c"
      },
      "execution_count": null,
      "outputs": [
        {
          "output_type": "stream",
          "name": "stdout",
          "text": [
            "1\n",
            "Some local data\n",
            "{'varA': 1, 'varB': 2, 'message': 'Some local data'}\n",
            "2\n",
            "Some global data\n",
            "{'varC': 3, 'varB': 4}\n"
          ]
        }
      ]
    },
    {
      "cell_type": "code",
      "source": [
        "def function1(varA, varB):\n",
        "    message = 'Some local data'\n",
        "    print(varA)\n",
        "    def inner_function(varA, varB):\n",
        "        print(f'inner_function local scope: {locals()}')\n",
        "        \n",
        "    inner_function(123, 456)\n",
        "    \n",
        "\n",
        "function1(1, 2) "
      ],
      "metadata": {
        "colab": {
          "base_uri": "https://localhost:8080/"
        },
        "id": "3sc4Ldyqygof",
        "outputId": "e60d82d2-710e-458c-a994-4a747a152387"
      },
      "execution_count": null,
      "outputs": [
        {
          "output_type": "stream",
          "name": "stdout",
          "text": [
            "1\n",
            "inner_function local scope: {'varA': 123, 'varB': 456}\n"
          ]
        }
      ]
    },
    {
      "cell_type": "code",
      "source": [
        "def function1(varA, varB):\n",
        "    message = 'Some local data'\n",
        "    print(varA)\n",
        "    def inner_function(varA, varB):\n",
        "        print(f'inner_function local scope: {locals()}')\n",
        "    \n",
        "    print(locals())\n",
        "    inner_function(123, 456)\n",
        "    \n",
        "\n",
        "function1(1, 2) "
      ],
      "metadata": {
        "colab": {
          "base_uri": "https://localhost:8080/"
        },
        "id": "Bq5lP6sVynI4",
        "outputId": "3eba1e5e-2f4e-42fe-9131-ac363dcb6996"
      },
      "execution_count": null,
      "outputs": [
        {
          "output_type": "stream",
          "name": "stdout",
          "text": [
            "1\n",
            "{'varA': 1, 'varB': 2, 'message': 'Some local data', 'inner_function': <function function1.<locals>.inner_function at 0x7fa1aa5e4560>}\n",
            "inner_function local scope: {'varA': 123, 'varB': 456}\n"
          ]
        }
      ]
    },
    {
      "cell_type": "markdown",
      "source": [
        "### Functions as variables"
      ],
      "metadata": {
        "id": "raPM0cx1x--e"
      }
    },
    {
      "cell_type": "code",
      "source": [
        "x = 5\n",
        "def x():\n",
        "    return 5"
      ],
      "metadata": {
        "id": "TOMgBxp4yDAp"
      },
      "execution_count": null,
      "outputs": []
    },
    {
      "cell_type": "markdown",
      "source": [
        "Viewing function data with __code__"
      ],
      "metadata": {
        "id": "zrEgSNgyzAuo"
      }
    },
    {
      "cell_type": "code",
      "source": [
        "print(x.__code__.co_varnames)\n",
        "print(x.__code__.co_code)"
      ],
      "metadata": {
        "id": "aEhM56qTyC31"
      },
      "execution_count": null,
      "outputs": []
    },
    {
      "cell_type": "markdown",
      "source": [
        "Text processing"
      ],
      "metadata": {
        "id": "LIGF9gbMzb6o"
      }
    },
    {
      "cell_type": "code",
      "source": [
        "text = '''\n",
        "Beautiful is better than ugly.\n",
        "Explicit is better than implicit.\n",
        "Simple is better than complex.\n",
        "Complex is better than complicated.\n",
        "Flat is better than nested.\n",
        "Sparse is better than dense.\n",
        "Readability counts.\n",
        "Special cases aren't special enough to break the rules.\n",
        "Although practicality beats purity.\n",
        "Errors should never pass silently.\n",
        "Unless explicitly silenced.\n",
        "In the face of ambiguity, refuse the temptation to guess.\n",
        "There should be one-- and preferably only one --obvious way to do it.\n",
        "Although that way may not be obvious at first unless you're Dutch.\n",
        "Now is better than never.\n",
        "Although never is often better than *right* now.\n",
        "If the implementation is hard to explain, it's a bad idea.\n",
        "If the implementation is easy to explain, it may be a good idea.\n",
        "Namespaces are one honking great idea -- let's do more of those!\n",
        "'''"
      ],
      "metadata": {
        "id": "hCzkKwDQzde9"
      },
      "execution_count": null,
      "outputs": []
    },
    {
      "cell_type": "code",
      "source": [
        "def lowercase(text):\n",
        "    return text.lower()\n",
        "\n",
        "def removePunctuation(text):\n",
        "    punctuations = ['.', '-', ',', '*']\n",
        "    for punctuation in punctuations:\n",
        "        text = text.replace(punctuation, '')\n",
        "    return text\n",
        "\n",
        "def removeNewlines(text):\n",
        "    text = text.replace('\\n', ' ')\n",
        "    return text\n",
        "\n",
        "def removeShortWords(text):\n",
        "    return ' '.join([word for word in text.split() if len(word) > 3])\n",
        "\n",
        "def removeLongWords(text):\n",
        "    return ' '.join([word for word in text.split() if len(word) < 6])"
      ],
      "metadata": {
        "id": "2CfGCb30zeYb"
      },
      "execution_count": null,
      "outputs": []
    },
    {
      "cell_type": "code",
      "source": [
        "processingFunctions = [lowercase, removePunctuation, removeNewlines, removeLongWords]\n",
        "\n",
        "for func in processingFunctions:\n",
        "    text = func(text)\n",
        "\n",
        "print(text)"
      ],
      "metadata": {
        "colab": {
          "base_uri": "https://localhost:8080/"
        },
        "id": "2lP7CnBAzeSG",
        "outputId": "3ade3de9-5b9d-400a-9d8f-3ff7c3535779"
      },
      "execution_count": null,
      "outputs": [
        {
          "output_type": "stream",
          "name": "stdout",
          "text": [
            "is than ugly is than is than is than flat is than is than dense cases to break the rules beats never pass in the face of the to guess there be one and only one way to do it that way may not be at first dutch now is than never never is often than right now if the is hard to it's a bad idea if the is easy to it may be a good idea are one great idea let's do more of\n"
          ]
        }
      ]
    },
    {
      "cell_type": "code",
      "source": [],
      "metadata": {
        "id": "2nnv3W5GzeLO"
      },
      "execution_count": null,
      "outputs": []
    },
    {
      "cell_type": "markdown",
      "source": [
        "## 5. Classes and objects "
      ],
      "metadata": {
        "id": "3TC6NKfy379x"
      }
    },
    {
      "cell_type": "markdown",
      "source": [
        "### Basics"
      ],
      "metadata": {
        "id": "h8b-JNUuz-z5"
      }
    },
    {
      "cell_type": "markdown",
      "source": [
        "__init__ is the initialization function of a class"
      ],
      "metadata": {
        "id": "r20guaUF9AJ0"
      }
    },
    {
      "cell_type": "code",
      "source": [
        "#A simple class with one attribute and one method \n",
        "\n",
        "class ParentClass: \n",
        "  def __init__(self, val):\n",
        "    self.val = val\n",
        "  \n",
        "  def printVal(self):\n",
        "    print(self.val)\n",
        "\n",
        "classInstance = ParentClass('Value for the class attribute \"val\"')\n",
        "classInstance.printVal()"
      ],
      "metadata": {
        "colab": {
          "base_uri": "https://localhost:8080/"
        },
        "id": "jkqNl17i39tY",
        "outputId": "b448897b-ca9b-455c-f939-8fb8a6f547b2"
      },
      "execution_count": null,
      "outputs": [
        {
          "output_type": "stream",
          "name": "stdout",
          "text": [
            "Value for the class attribute \"val\"\n"
          ]
        }
      ]
    },
    {
      "cell_type": "code",
      "source": [
        "#Extend the parent class to create a child class\n",
        "\n",
        "class ChildClass(ParentClass):\n",
        "\n",
        "  def printVal(self):\n",
        "    print('Child class! {}'.format(self.val))\n",
        "childInstance = ChildClass('Value for the class attribute \"val\"')\n",
        "childInstance.printVal()"
      ],
      "metadata": {
        "colab": {
          "base_uri": "https://localhost:8080/"
        },
        "id": "8u2jwjtQ4dfj",
        "outputId": "ca2b8ee0-81a0-4f84-ddfb-be37af6197a5"
      },
      "execution_count": null,
      "outputs": [
        {
          "output_type": "stream",
          "name": "stdout",
          "text": [
            "Child class! Value for the class attribute \"val\"\n"
          ]
        }
      ]
    },
    {
      "cell_type": "code",
      "source": [
        "#Overriding the parent class constructor\n",
        "\n",
        "class AnotherChildClass(ParentClass):\n",
        "  def __init__(self):\n",
        "    super().__init__('A default value')\n",
        "\n",
        "anotherChildInstance = AnotherChildClass()\n",
        "anotherChildInstance.printVal()"
      ],
      "metadata": {
        "colab": {
          "base_uri": "https://localhost:8080/"
        },
        "id": "QnbO6LUp475o",
        "outputId": "4fe3835e-68fd-44b5-94c3-57dd5a468b5d"
      },
      "execution_count": null,
      "outputs": [
        {
          "output_type": "stream",
          "name": "stdout",
          "text": [
            "A default value\n"
          ]
        }
      ]
    },
    {
      "cell_type": "markdown",
      "source": [
        "### Anatomy of a class"
      ],
      "metadata": {
        "id": "IU74jQjl0Bbo"
      }
    },
    {
      "cell_type": "markdown",
      "source": [
        "#### Instance attributes"
      ],
      "metadata": {
        "id": "9ffZHywX0KJc"
      }
    },
    {
      "cell_type": "code",
      "source": [
        "class Dog:\n",
        "    def __init__(self, name):\n",
        "        self.name = name\n",
        "        self.legs = 4\n",
        "    \n",
        "    def speak(self):\n",
        "        print(self.name + ' says: Bark!')\n",
        "\n",
        "myDog = Dog('Rover')\n",
        "print(myDog.name)\n",
        "print(myDog.legs)"
      ],
      "metadata": {
        "colab": {
          "base_uri": "https://localhost:8080/"
        },
        "id": "nwh_3OvF0D6k",
        "outputId": "2e9a8c4d-6842-4a4a-efd4-283a532d03fd"
      },
      "execution_count": null,
      "outputs": [
        {
          "output_type": "stream",
          "name": "stdout",
          "text": [
            "Rover\n",
            "4\n"
          ]
        }
      ]
    },
    {
      "cell_type": "code",
      "source": [
        "Dog.legs   #cannot see because it is inside a class"
      ],
      "metadata": {
        "colab": {
          "base_uri": "https://localhost:8080/",
          "height": 165
        },
        "id": "MvWXfN8u0Dys",
        "outputId": "6b9fae8b-09e7-4336-8847-7ff98b96b45d"
      },
      "execution_count": null,
      "outputs": [
        {
          "output_type": "error",
          "ename": "AttributeError",
          "evalue": "ignored",
          "traceback": [
            "\u001b[0;31m---------------------------------------------------------------------------\u001b[0m",
            "\u001b[0;31mAttributeError\u001b[0m                            Traceback (most recent call last)",
            "\u001b[0;32m<ipython-input-53-605c1d45827a>\u001b[0m in \u001b[0;36m<module>\u001b[0;34m\u001b[0m\n\u001b[0;32m----> 1\u001b[0;31m \u001b[0mDog\u001b[0m\u001b[0;34m.\u001b[0m\u001b[0mlegs\u001b[0m\u001b[0;34m\u001b[0m\u001b[0;34m\u001b[0m\u001b[0m\n\u001b[0m",
            "\u001b[0;31mAttributeError\u001b[0m: type object 'Dog' has no attribute 'legs'"
          ]
        }
      ]
    },
    {
      "cell_type": "markdown",
      "source": [
        "#### Static attributes"
      ],
      "metadata": {
        "id": "9wgndYWV0NER"
      }
    },
    {
      "cell_type": "code",
      "source": [
        "class Dog:\n",
        "    legs = 4\n",
        "    def __init__(self, name):\n",
        "        self.name = name\n",
        "    \n",
        "    def speak(self):\n",
        "        print(self.name + ' says: Bark!')\n",
        "\n",
        "myDog = Dog('Rover')\n",
        "print(myDog.name)\n",
        "print(myDog.legs)"
      ],
      "metadata": {
        "colab": {
          "base_uri": "https://localhost:8080/"
        },
        "id": "GScY8Dkh0DrN",
        "outputId": "dfa59e97-3170-45a4-c926-d047ebee7323"
      },
      "execution_count": null,
      "outputs": [
        {
          "output_type": "stream",
          "name": "stdout",
          "text": [
            "Rover\n",
            "4\n"
          ]
        }
      ]
    },
    {
      "cell_type": "code",
      "source": [
        "Dog.legs"
      ],
      "metadata": {
        "colab": {
          "base_uri": "https://localhost:8080/"
        },
        "id": "5yrRpkgU0Rta",
        "outputId": "917c895c-f24f-41ec-9d62-d816eec9b78c"
      },
      "execution_count": null,
      "outputs": [
        {
          "output_type": "execute_result",
          "data": {
            "text/plain": [
              "4"
            ]
          },
          "metadata": {},
          "execution_count": 55
        }
      ]
    },
    {
      "cell_type": "code",
      "source": [
        "Dog.legs = 3"
      ],
      "metadata": {
        "id": "Ig7p6X7-0TuV"
      },
      "execution_count": null,
      "outputs": []
    },
    {
      "cell_type": "code",
      "source": [
        "myDog = Dog('Rover')\n",
        "print(myDog.name)\n",
        "print(myDog.legs)"
      ],
      "metadata": {
        "colab": {
          "base_uri": "https://localhost:8080/"
        },
        "id": "mIplWVQ20WJq",
        "outputId": "0ec0a7db-bce1-4929-dd96-5cc8ecedb9b6"
      },
      "execution_count": null,
      "outputs": [
        {
          "output_type": "stream",
          "name": "stdout",
          "text": [
            "Rover\n",
            "3\n"
          ]
        }
      ]
    },
    {
      "cell_type": "code",
      "source": [
        "class Dog:\n",
        "    _legs = 4\n",
        "    def __init__(self, name):\n",
        "        self.name = name\n",
        "        \n",
        "    def getLegs(self):    #getter functiom\n",
        "        return self._legs\n",
        "    \n",
        "    def speak(self):\n",
        "        print(self.name + ' says: Bark!')\n",
        "\n",
        "myDog = Dog('Rover')\n",
        "print(myDog.name)\n",
        "print(myDog.getLegs())"
      ],
      "metadata": {
        "colab": {
          "base_uri": "https://localhost:8080/"
        },
        "id": "MdPaIM8T0ZTl",
        "outputId": "a4d67f5a-2ba5-4e69-9bfc-718d70bdbcd3"
      },
      "execution_count": null,
      "outputs": [
        {
          "output_type": "stream",
          "name": "stdout",
          "text": [
            "Rover\n",
            "4\n"
          ]
        }
      ]
    },
    {
      "cell_type": "code",
      "source": [
        "myDog = Dog('Rover')\n",
        "myDog._legs = 3\n",
        "print(myDog.name)\n",
        "print(myDog.getLegs())\n",
        "print(Dog._legs)"
      ],
      "metadata": {
        "colab": {
          "base_uri": "https://localhost:8080/"
        },
        "id": "llo9m2MV0cVz",
        "outputId": "300b9b0b-b256-46be-abce-440e0a8c801b"
      },
      "execution_count": null,
      "outputs": [
        {
          "output_type": "stream",
          "name": "stdout",
          "text": [
            "Rover\n",
            "3\n",
            "4\n"
          ]
        }
      ]
    },
    {
      "cell_type": "markdown",
      "source": [
        "### Statics Methods"
      ],
      "metadata": {
        "id": "WQX9FQgp1JW7"
      }
    },
    {
      "cell_type": "markdown",
      "source": [],
      "metadata": {
        "id": "TfXZ00vZ1P1p"
      }
    },
    {
      "cell_type": "code",
      "source": [
        "class Orientation:\n",
        "    pi = 3.14\n",
        "    def __init__(self, x_pos, y_pos, degrees):\n",
        "        self.x_pos = x_pos\n",
        "        self.y_pos = y_pos\n",
        "        self.x_dir, self.y_dir = Orientation.getUnitVectorFromDegrees(degrees)\n",
        "        \n",
        "    def getUnitVectorFromDegrees(degrees):\n",
        "        radians = (degrees/180) * Orientation.pi\n",
        "        return math.sin(radians), -math.cos(radians)\n",
        "    \n",
        "    def getNextPos(self):\n",
        "        return self.x_pos + self.x_dir, self.y_pos + self.y_dir\n",
        "    \n",
        "myOrientation = Orientation(5, 5, 75)\n",
        "myOrientation.getNextPos()"
      ],
      "metadata": {
        "colab": {
          "base_uri": "https://localhost:8080/"
        },
        "id": "4gYUUAiy1Szg",
        "outputId": "6d2fb753-f1de-4ae8-e0c6-4c92da4764a4"
      },
      "execution_count": null,
      "outputs": [
        {
          "output_type": "execute_result",
          "data": {
            "text/plain": [
              "(5.965753859834238, 4.740540018085118)"
            ]
          },
          "metadata": {},
          "execution_count": 60
        }
      ]
    },
    {
      "cell_type": "markdown",
      "source": [
        "#### Decorators"
      ],
      "metadata": {
        "id": "Ach_xRVq1TuD"
      }
    },
    {
      "cell_type": "code",
      "source": [
        "class Orientation:\n",
        "    pi = 3.14\n",
        "    def __init__(self, x_pos, y_pos, degrees):\n",
        "        self.x_pos = x_pos\n",
        "        self.y_pos = y_pos\n",
        "        self.x_dir, self.y_dir = self.getUnitVectorFromDegrees(degrees)\n",
        "        \n",
        "    @staticmethod\n",
        "    def getUnitVectorFromDegrees(degrees):\n",
        "        radians = (degrees/180) * Orientation.pi\n",
        "        return math.sin(radians), -math.cos(radians)\n",
        "    \n",
        "    def getNextPos(self):\n",
        "        return self.x_pos + self.x_dir, self.y_pos + self.y_dir\n",
        "    \n",
        "myOrientation = Orientation(5, 5, 75)\n",
        "myOrientation.getNextPos()"
      ],
      "metadata": {
        "colab": {
          "base_uri": "https://localhost:8080/"
        },
        "id": "K6B9-1ot1Vil",
        "outputId": "a5862ff8-5166-45b6-d837-ec5aaa19e2ad"
      },
      "execution_count": null,
      "outputs": [
        {
          "output_type": "execute_result",
          "data": {
            "text/plain": [
              "(5.965753859834238, 4.740540018085118)"
            ]
          },
          "metadata": {},
          "execution_count": 61
        }
      ]
    },
    {
      "cell_type": "markdown",
      "source": [
        "### Class Inheritance"
      ],
      "metadata": {
        "id": "7TKFozYu1dnV"
      }
    },
    {
      "cell_type": "code",
      "source": [
        "class Dog:\n",
        "    _legs = 4\n",
        "    def __init__(self, name):\n",
        "        self.name = name\n",
        "\n",
        "    def speak(self):\n",
        "        print(self.name + ' says: Bark!')\n",
        "    \n",
        "    def getLegs(self):\n",
        "        return self._legs\n",
        "\n",
        "\n",
        "class Chihuahua(Dog):\n",
        "    def speak(self):\n",
        "        print(f'{self.name} says: Yap yap yap!')\n",
        "        \n",
        "    def wagTail(self):\n",
        "        print('Vigorous wagging!')"
      ],
      "metadata": {
        "id": "GfwUMKfA5aDI"
      },
      "execution_count": null,
      "outputs": []
    },
    {
      "cell_type": "code",
      "source": [
        "dog = Chihuahua('Roxy')\n",
        "dog.speak()\n",
        "dog.wagTail()"
      ],
      "metadata": {
        "id": "v66Pd_Ay1hpb"
      },
      "execution_count": null,
      "outputs": []
    },
    {
      "cell_type": "code",
      "source": [
        "myDog = Dog('Rover')\n",
        "myDog.speak()"
      ],
      "metadata": {
        "id": "P_cTgqtz1kuk"
      },
      "execution_count": null,
      "outputs": []
    },
    {
      "cell_type": "markdown",
      "source": [
        "#### Extending built in cases"
      ],
      "metadata": {
        "id": "d0SZy6151nTs"
      }
    },
    {
      "cell_type": "code",
      "source": [
        "myList = list()"
      ],
      "metadata": {
        "id": "qNqilCxo1pcc"
      },
      "execution_count": null,
      "outputs": []
    },
    {
      "cell_type": "code",
      "source": [
        "class UniqueList(list):\n",
        "    def append(self, item):\n",
        "        if item in self:\n",
        "            return\n",
        "        super().append(item)\n",
        "        \n",
        "uniqueList = UniqueList()\n",
        "uniqueList.append(1)\n",
        "uniqueList.append(1)\n",
        "uniqueList.append(2)\n",
        "\n",
        "print(uniqueList)"
      ],
      "metadata": {
        "colab": {
          "base_uri": "https://localhost:8080/"
        },
        "id": "8A_eKTLJ1pVA",
        "outputId": "7fca111d-9b87-489d-a49d-4bc6d62db9e2"
      },
      "execution_count": null,
      "outputs": [
        {
          "output_type": "stream",
          "name": "stdout",
          "text": [
            "[1, 2]\n"
          ]
        }
      ]
    },
    {
      "cell_type": "code",
      "source": [
        "class UniqueList(list):\n",
        "    \n",
        "    def __init__(self):\n",
        "        super().__init__()\n",
        "        self.someProperty = 'Unique List!'\n",
        "        \n",
        "\n",
        "    def append(self, item):\n",
        "        if item in self:\n",
        "            return\n",
        "        super().append(item)\n",
        "        \n",
        "uniqueList = UniqueList()\n",
        "uniqueList.append(1)\n",
        "uniqueList.append(1)\n",
        "uniqueList.append(2)\n",
        "\n",
        "print(uniqueList.someProperty)"
      ],
      "metadata": {
        "colab": {
          "base_uri": "https://localhost:8080/"
        },
        "id": "c1ALEUfw1uqN",
        "outputId": "340dd14f-789f-40ca-d065-83bb81b6f3ad"
      },
      "execution_count": null,
      "outputs": [
        {
          "output_type": "stream",
          "name": "stdout",
          "text": [
            "Unique List!\n"
          ]
        }
      ]
    },
    {
      "cell_type": "markdown",
      "source": [
        "## 6. Errors "
      ],
      "metadata": {
        "id": "de_nMAq82AO9"
      }
    },
    {
      "cell_type": "markdown",
      "source": [
        "### Errors and exceptions"
      ],
      "metadata": {
        "id": "y6AOYiFF2GD2"
      }
    },
    {
      "cell_type": "code",
      "source": [
        "def causeError():\n",
        "    return 1/0\n",
        "\n",
        "causeError()"
      ],
      "metadata": {
        "colab": {
          "base_uri": "https://localhost:8080/",
          "height": 304
        },
        "id": "hE1QaDgX2D50",
        "outputId": "acc766de-1e20-485f-d744-7821b678bfbf"
      },
      "execution_count": null,
      "outputs": [
        {
          "output_type": "error",
          "ename": "ZeroDivisionError",
          "evalue": "ignored",
          "traceback": [
            "\u001b[0;31m---------------------------------------------------------------------------\u001b[0m",
            "\u001b[0;31mZeroDivisionError\u001b[0m                         Traceback (most recent call last)",
            "\u001b[0;32m<ipython-input-67-f6cda9942162>\u001b[0m in \u001b[0;36m<module>\u001b[0;34m\u001b[0m\n\u001b[1;32m      2\u001b[0m     \u001b[0;32mreturn\u001b[0m \u001b[0;36m1\u001b[0m\u001b[0;34m/\u001b[0m\u001b[0;36m0\u001b[0m\u001b[0;34m\u001b[0m\u001b[0;34m\u001b[0m\u001b[0m\n\u001b[1;32m      3\u001b[0m \u001b[0;34m\u001b[0m\u001b[0m\n\u001b[0;32m----> 4\u001b[0;31m \u001b[0mcauseError\u001b[0m\u001b[0;34m(\u001b[0m\u001b[0;34m)\u001b[0m\u001b[0;34m\u001b[0m\u001b[0;34m\u001b[0m\u001b[0m\n\u001b[0m",
            "\u001b[0;32m<ipython-input-67-f6cda9942162>\u001b[0m in \u001b[0;36mcauseError\u001b[0;34m()\u001b[0m\n\u001b[1;32m      1\u001b[0m \u001b[0;32mdef\u001b[0m \u001b[0mcauseError\u001b[0m\u001b[0;34m(\u001b[0m\u001b[0;34m)\u001b[0m\u001b[0;34m:\u001b[0m\u001b[0;34m\u001b[0m\u001b[0;34m\u001b[0m\u001b[0m\n\u001b[0;32m----> 2\u001b[0;31m     \u001b[0;32mreturn\u001b[0m \u001b[0;36m1\u001b[0m\u001b[0;34m/\u001b[0m\u001b[0;36m0\u001b[0m\u001b[0;34m\u001b[0m\u001b[0;34m\u001b[0m\u001b[0m\n\u001b[0m\u001b[1;32m      3\u001b[0m \u001b[0;34m\u001b[0m\u001b[0m\n\u001b[1;32m      4\u001b[0m \u001b[0mcauseError\u001b[0m\u001b[0;34m(\u001b[0m\u001b[0;34m)\u001b[0m\u001b[0;34m\u001b[0m\u001b[0;34m\u001b[0m\u001b[0m\n",
            "\u001b[0;31mZeroDivisionError\u001b[0m: division by zero"
          ]
        }
      ]
    },
    {
      "cell_type": "code",
      "source": [
        "def causeError():\n",
        "    return 1/0\n",
        "\n",
        "def callCauseError():\n",
        "    return causeError()\n",
        "\n",
        "callCauseError()"
      ],
      "metadata": {
        "colab": {
          "base_uri": "https://localhost:8080/",
          "height": 345
        },
        "id": "HP_w0a5k2LDp",
        "outputId": "afd58751-57cf-4266-f625-3364c3f794dc"
      },
      "execution_count": null,
      "outputs": [
        {
          "output_type": "error",
          "ename": "ZeroDivisionError",
          "evalue": "ignored",
          "traceback": [
            "\u001b[0;31m---------------------------------------------------------------------------\u001b[0m",
            "\u001b[0;31mZeroDivisionError\u001b[0m                         Traceback (most recent call last)",
            "\u001b[0;32m<ipython-input-68-70e69767501c>\u001b[0m in \u001b[0;36m<module>\u001b[0;34m\u001b[0m\n\u001b[1;32m      5\u001b[0m     \u001b[0;32mreturn\u001b[0m \u001b[0mcauseError\u001b[0m\u001b[0;34m(\u001b[0m\u001b[0;34m)\u001b[0m\u001b[0;34m\u001b[0m\u001b[0;34m\u001b[0m\u001b[0m\n\u001b[1;32m      6\u001b[0m \u001b[0;34m\u001b[0m\u001b[0m\n\u001b[0;32m----> 7\u001b[0;31m \u001b[0mcallCauseError\u001b[0m\u001b[0;34m(\u001b[0m\u001b[0;34m)\u001b[0m\u001b[0;34m\u001b[0m\u001b[0;34m\u001b[0m\u001b[0m\n\u001b[0m",
            "\u001b[0;32m<ipython-input-68-70e69767501c>\u001b[0m in \u001b[0;36mcallCauseError\u001b[0;34m()\u001b[0m\n\u001b[1;32m      3\u001b[0m \u001b[0;34m\u001b[0m\u001b[0m\n\u001b[1;32m      4\u001b[0m \u001b[0;32mdef\u001b[0m \u001b[0mcallCauseError\u001b[0m\u001b[0;34m(\u001b[0m\u001b[0;34m)\u001b[0m\u001b[0;34m:\u001b[0m\u001b[0;34m\u001b[0m\u001b[0;34m\u001b[0m\u001b[0m\n\u001b[0;32m----> 5\u001b[0;31m     \u001b[0;32mreturn\u001b[0m \u001b[0mcauseError\u001b[0m\u001b[0;34m(\u001b[0m\u001b[0;34m)\u001b[0m\u001b[0;34m\u001b[0m\u001b[0;34m\u001b[0m\u001b[0m\n\u001b[0m\u001b[1;32m      6\u001b[0m \u001b[0;34m\u001b[0m\u001b[0m\n\u001b[1;32m      7\u001b[0m \u001b[0mcallCauseError\u001b[0m\u001b[0;34m(\u001b[0m\u001b[0;34m)\u001b[0m\u001b[0;34m\u001b[0m\u001b[0;34m\u001b[0m\u001b[0m\n",
            "\u001b[0;32m<ipython-input-68-70e69767501c>\u001b[0m in \u001b[0;36mcauseError\u001b[0;34m()\u001b[0m\n\u001b[1;32m      1\u001b[0m \u001b[0;32mdef\u001b[0m \u001b[0mcauseError\u001b[0m\u001b[0;34m(\u001b[0m\u001b[0;34m)\u001b[0m\u001b[0;34m:\u001b[0m\u001b[0;34m\u001b[0m\u001b[0;34m\u001b[0m\u001b[0m\n\u001b[0;32m----> 2\u001b[0;31m     \u001b[0;32mreturn\u001b[0m \u001b[0;36m1\u001b[0m\u001b[0;34m/\u001b[0m\u001b[0;36m0\u001b[0m\u001b[0;34m\u001b[0m\u001b[0;34m\u001b[0m\u001b[0m\n\u001b[0m\u001b[1;32m      3\u001b[0m \u001b[0;34m\u001b[0m\u001b[0m\n\u001b[1;32m      4\u001b[0m \u001b[0;32mdef\u001b[0m \u001b[0mcallCauseError\u001b[0m\u001b[0;34m(\u001b[0m\u001b[0;34m)\u001b[0m\u001b[0;34m:\u001b[0m\u001b[0;34m\u001b[0m\u001b[0;34m\u001b[0m\u001b[0m\n\u001b[1;32m      5\u001b[0m     \u001b[0;32mreturn\u001b[0m \u001b[0mcauseError\u001b[0m\u001b[0;34m(\u001b[0m\u001b[0;34m)\u001b[0m\u001b[0;34m\u001b[0m\u001b[0;34m\u001b[0m\u001b[0m\n",
            "\u001b[0;31mZeroDivisionError\u001b[0m: division by zero"
          ]
        }
      ]
    },
    {
      "cell_type": "code",
      "source": [
        "try:\n",
        "    1/0\n",
        "except Exception as e:\n",
        "    print(type(e))"
      ],
      "metadata": {
        "colab": {
          "base_uri": "https://localhost:8080/"
        },
        "id": "6uZ0eKw22Oo-",
        "outputId": "d497efa5-003e-4cd7-a750-885490325526"
      },
      "execution_count": null,
      "outputs": [
        {
          "output_type": "stream",
          "name": "stdout",
          "text": [
            "<class 'ZeroDivisionError'>\n"
          ]
        }
      ]
    },
    {
      "cell_type": "markdown",
      "source": [
        "### Handling exceptions"
      ],
      "metadata": {
        "id": "iU4bZg_p2Vcj"
      }
    },
    {
      "cell_type": "code",
      "source": [
        "import time"
      ],
      "metadata": {
        "id": "l3AjNEpE2Of7"
      },
      "execution_count": null,
      "outputs": []
    },
    {
      "cell_type": "code",
      "source": [
        "def causeError():\n",
        "    try:\n",
        "        return 1/0\n",
        "    except Exception as e:\n",
        "        return e\n",
        "    \n",
        "causeError()"
      ],
      "metadata": {
        "colab": {
          "base_uri": "https://localhost:8080/"
        },
        "id": "mVeX77mr2aQw",
        "outputId": "508de99c-93dd-4378-a615-ee75e2f6dbd8"
      },
      "execution_count": null,
      "outputs": [
        {
          "output_type": "execute_result",
          "data": {
            "text/plain": [
              "ZeroDivisionError('division by zero')"
            ]
          },
          "metadata": {},
          "execution_count": 71
        }
      ]
    },
    {
      "cell_type": "code",
      "source": [
        "def causeError():\n",
        "    try:\n",
        "        return 1/0\n",
        "    except Exception:\n",
        "        print('There was some sort of error!')\n",
        "    \n",
        "causeError()"
      ],
      "metadata": {
        "colab": {
          "base_uri": "https://localhost:8080/"
        },
        "id": "FkWoMZVQ2aHJ",
        "outputId": "0de5420f-3c7f-4d28-cc72-2d158bf03162"
      },
      "execution_count": null,
      "outputs": [
        {
          "output_type": "stream",
          "name": "stdout",
          "text": [
            "There was some sort of error!\n"
          ]
        }
      ]
    },
    {
      "cell_type": "code",
      "source": [
        "def causeError():\n",
        "    try:\n",
        "        return 1/1\n",
        "    except Exception:\n",
        "        print('There was some sort of error!')\n",
        "    finally:\n",
        "        print('This will always execute!')\n",
        "    \n",
        "causeError()"
      ],
      "metadata": {
        "colab": {
          "base_uri": "https://localhost:8080/"
        },
        "id": "razgTNqC2f0-",
        "outputId": "371ea3d0-4cd9-4292-cf76-59cf545b37e7"
      },
      "execution_count": null,
      "outputs": [
        {
          "output_type": "stream",
          "name": "stdout",
          "text": [
            "This will always execute!\n"
          ]
        },
        {
          "output_type": "execute_result",
          "data": {
            "text/plain": [
              "1.0"
            ]
          },
          "metadata": {},
          "execution_count": 73
        }
      ]
    },
    {
      "cell_type": "code",
      "source": [
        "def causeError():\n",
        "    start = time.time()\n",
        "    try:\n",
        "        time.sleep(0.5)\n",
        "        return 1/0\n",
        "    except Exception:\n",
        "        print('There was some sort of error!')\n",
        "    finally:\n",
        "        print(f'Function took {time.time() - start} seconds to execute')\n",
        "    \n",
        "causeError()"
      ],
      "metadata": {
        "colab": {
          "base_uri": "https://localhost:8080/"
        },
        "id": "u2OooCoZ2iuG",
        "outputId": "95e2b86f-bef3-47f7-8d35-ab091f8c75fc"
      },
      "execution_count": null,
      "outputs": [
        {
          "output_type": "stream",
          "name": "stdout",
          "text": [
            "There was some sort of error!\n",
            "Function took 0.5004830360412598 seconds to execute\n"
          ]
        }
      ]
    },
    {
      "cell_type": "code",
      "source": [
        "def causeError():\n",
        "    try:\n",
        "        return 1 + 'a'\n",
        "\n",
        "    except TypeError:\n",
        "        print('There was a type error!')\n",
        "    except ZeroDivisionError:\n",
        "        print('There was a zero division error!')\n",
        "    except Exception:\n",
        "        print('There was some sort of error!')\n",
        "\n",
        "    \n",
        "causeError()"
      ],
      "metadata": {
        "colab": {
          "base_uri": "https://localhost:8080/"
        },
        "id": "RibwMNZx2ljc",
        "outputId": "a6446fa8-1475-4b2e-e0ba-fd0fcf341fb8"
      },
      "execution_count": null,
      "outputs": [
        {
          "output_type": "stream",
          "name": "stdout",
          "text": [
            "There was a type error!\n"
          ]
        }
      ]
    },
    {
      "cell_type": "code",
      "source": [
        "def handleException(func):\n",
        "    def wrapper(*args):\n",
        "        try:\n",
        "            func(*args)\n",
        "        except TypeError:\n",
        "            print('There was a type error!')\n",
        "        except ZeroDivisionError:\n",
        "            print('There was a zero division error!')\n",
        "        except Exception:\n",
        "            print('There was some sort of error!')\n",
        "    return wrapper\n",
        "\n",
        "@handleException\n",
        "def causeError():\n",
        "    return 1/0\n",
        "\n",
        "causeError()"
      ],
      "metadata": {
        "colab": {
          "base_uri": "https://localhost:8080/"
        },
        "id": "Rl0iMYFM2obK",
        "outputId": "15882437-0c8f-4fd8-f0e2-854cb5eba379"
      },
      "execution_count": null,
      "outputs": [
        {
          "output_type": "stream",
          "name": "stdout",
          "text": [
            "There was a zero division error!\n"
          ]
        }
      ]
    },
    {
      "cell_type": "code",
      "source": [
        "@handleException\n",
        "def raiseError(n):\n",
        "    if n == 0:\n",
        "        raise Exception()\n",
        "    print(n)\n",
        "    \n",
        "raiseError(1)"
      ],
      "metadata": {
        "colab": {
          "base_uri": "https://localhost:8080/"
        },
        "id": "tY09ysAL2rn2",
        "outputId": "7c9d95cf-f8e0-4901-e577-68295926dd58"
      },
      "execution_count": null,
      "outputs": [
        {
          "output_type": "stream",
          "name": "stdout",
          "text": [
            "1\n"
          ]
        }
      ]
    },
    {
      "cell_type": "markdown",
      "source": [
        "### Custom exceptions"
      ],
      "metadata": {
        "id": "Mk3RHAyc3HF4"
      }
    },
    {
      "cell_type": "code",
      "source": [
        "class CustomException(Exception):\n",
        "    pass\n",
        "\n",
        "\n",
        "def causeError():\n",
        "    raise CustomException('You called the causeError function!')\n",
        "    \n",
        "causeError()"
      ],
      "metadata": {
        "id": "M0_FU1S73JEr"
      },
      "execution_count": null,
      "outputs": []
    },
    {
      "cell_type": "markdown",
      "source": [
        "#### adding attributes"
      ],
      "metadata": {
        "id": "u-PltdnR3N9m"
      }
    },
    {
      "cell_type": "code",
      "source": [
        "class HttpException(Exception):\n",
        "    statusCode = None\n",
        "    message = None\n",
        "    def __init__(self):\n",
        "        super().__init__(f'Status code: {self.statusCode} and message is: {self.message}')\n",
        "        \n",
        "class NotFound(HttpException):\n",
        "    statusCode = 404\n",
        "    message = 'Resource not found'\n",
        "    \n",
        "class ServerError(HttpException):\n",
        "    statusCode = 500\n",
        "    message = 'The server messed up!'\n",
        "    \n",
        "def raiseServerError():\n",
        "    raise ServerError()\n",
        "    \n",
        "raiseServerError()"
      ],
      "metadata": {
        "id": "GshseP5O3LnU"
      },
      "execution_count": null,
      "outputs": []
    },
    {
      "cell_type": "markdown",
      "source": [
        "## 7. Threads and processes"
      ],
      "metadata": {
        "id": "YmtOtwzK3YC9"
      }
    },
    {
      "cell_type": "markdown",
      "source": [
        "### Threads"
      ],
      "metadata": {
        "id": "vocniG5x3Zvt"
      }
    },
    {
      "cell_type": "code",
      "source": [
        "import threading\n",
        "import time"
      ],
      "metadata": {
        "id": "-9SD5jyh3feu"
      },
      "execution_count": null,
      "outputs": []
    },
    {
      "cell_type": "code",
      "source": [
        "def longSquare(num):\n",
        "    time.sleep(1)\n",
        "    return num**2\n",
        "#Calculate square of a few numbers\n",
        "[longSquare(n) for n in range(0, 5)]"
      ],
      "metadata": {
        "colab": {
          "base_uri": "https://localhost:8080/"
        },
        "id": "wr8XhgMu3gr4",
        "outputId": "070c66aa-8f4d-4b0f-abce-22a2971b1407"
      },
      "execution_count": null,
      "outputs": [
        {
          "output_type": "execute_result",
          "data": {
            "text/plain": [
              "[0, 1, 4, 9, 16]"
            ]
          },
          "metadata": {},
          "execution_count": 79
        }
      ]
    },
    {
      "cell_type": "markdown",
      "source": [
        "This process takes too long, you can use threading instead, to run calculations in parallel rather than one at a time:"
      ],
      "metadata": {
        "id": "qqZBYUT0CKCg"
      }
    },
    {
      "cell_type": "code",
      "source": [
        "t1 = threading.Thread(target=longSquare, args=(1,))  #tuple with one value\n",
        "t2 = threading.Thread(target=longSquare, args=(2,))\n",
        "\n",
        "#starting the threads\n",
        "t1.start()\n",
        "t2.start()\n",
        "\n",
        "#This join function checks to see if the thread has completed execution yet and pauses until execution's complete\n",
        "t1.join()\n",
        "t2.join()"
      ],
      "metadata": {
        "id": "hZFCG5sP3gk_"
      },
      "execution_count": null,
      "outputs": []
    },
    {
      "cell_type": "code",
      "source": [
        "def longSquare(num, results):\n",
        "    time.sleep(1)\n",
        "    results[num] = num**2\n",
        "#to get the results of the function, create a results dictionary and pass it in the arguments:\n",
        "results = {}\n",
        "t1 = threading.Thread(target=longSquare, args=(1,results))\n",
        "t2 = threading.Thread(target=longSquare, args=(2,results))\n",
        "\n",
        "t1.start()\n",
        "t2.start()\n",
        "\n",
        "t1.join()\n",
        "t2.join()\n",
        "\n",
        "print(results)"
      ],
      "metadata": {
        "colab": {
          "base_uri": "https://localhost:8080/"
        },
        "id": "-52fY3Hk3gcx",
        "outputId": "3b47b34b-9422-4b43-c487-e7acbb1f1a36"
      },
      "execution_count": null,
      "outputs": [
        {
          "output_type": "stream",
          "name": "stdout",
          "text": [
            "{1: 1, 2: 4}\n"
          ]
        }
      ]
    },
    {
      "cell_type": "code",
      "source": [
        "def longSquare(num, results):\n",
        "    time.sleep(1)\n",
        "    results[num] = num**2\n",
        "\n",
        "results = {}\n",
        "threads = [threading.Thread(target=longSquare, args=(n, results)) for n in range(0, 100)]\n",
        "[t.start() for t in threads]\n",
        "[t.join() for t in threads]\n",
        "print(results)"
      ],
      "metadata": {
        "id": "i1lWEGwU3gVX"
      },
      "execution_count": null,
      "outputs": []
    },
    {
      "cell_type": "markdown",
      "source": [
        "### Processes "
      ],
      "metadata": {
        "id": "0hCHNFqc30Sl"
      }
    },
    {
      "cell_type": "code",
      "source": [
        "!pip install multiprocess"
      ],
      "metadata": {
        "colab": {
          "base_uri": "https://localhost:8080/"
        },
        "id": "TwTi30R34ECr",
        "outputId": "33514ec0-2afc-4cab-b781-17a8a39ca6af"
      },
      "execution_count": null,
      "outputs": [
        {
          "output_type": "stream",
          "name": "stdout",
          "text": [
            "Looking in indexes: https://pypi.org/simple, https://us-python.pkg.dev/colab-wheels/public/simple/\n",
            "Collecting multiprocess\n",
            "  Downloading multiprocess-0.70.13-py37-none-any.whl (115 kB)\n",
            "\u001b[K     |████████████████████████████████| 115 kB 5.3 MB/s \n",
            "\u001b[?25hRequirement already satisfied: dill>=0.3.5.1 in /usr/local/lib/python3.7/dist-packages (from multiprocess) (0.3.5.1)\n",
            "Installing collected packages: multiprocess\n",
            "Successfully installed multiprocess-0.70.13\n"
          ]
        }
      ]
    },
    {
      "cell_type": "code",
      "source": [
        "from multiprocess import Process\n",
        "import time\n",
        "import threading"
      ],
      "metadata": {
        "id": "CAvB4kB43gNX"
      },
      "execution_count": null,
      "outputs": []
    },
    {
      "cell_type": "code",
      "source": [
        "def longSquare(num, results):\n",
        "    time.sleep(1)\n",
        "    print(num**2)\n",
        "    print('Finished computing!')\n",
        "\n",
        "results = {}\n",
        "processes = [Process(target=longSquare, args=(n,results)) for n in range(0, 10)]\n",
        "[p.start() for p in processes]\n",
        "[p.join() for p in processes]"
      ],
      "metadata": {
        "id": "xuhwXs5m32Jo"
      },
      "execution_count": null,
      "outputs": []
    },
    {
      "cell_type": "code",
      "source": [
        "results = {}\n",
        "threads = [threading.Thread(target=longSquare, args=(n, results)) for n in range(0, 10)]\n",
        "[t.start() for t in threads]\n",
        "[t.join() for t in threads]\n",
        "print(results)"
      ],
      "metadata": {
        "colab": {
          "base_uri": "https://localhost:8080/"
        },
        "id": "YwXZ72bz32BI",
        "outputId": "3cbc698e-226b-4d52-c33a-deeb0df44581"
      },
      "execution_count": null,
      "outputs": [
        {
          "output_type": "stream",
          "name": "stdout",
          "text": [
            "{0: 0, 3: 9, 1: 1, 2: 4, 4: 16, 6: 36, 8: 64, 9: 81, 7: 49, 5: 25}\n"
          ]
        }
      ]
    },
    {
      "cell_type": "markdown",
      "source": [
        "## 8. File Handling"
      ],
      "metadata": {
        "id": "-mYJCtbY4QM2"
      }
    },
    {
      "cell_type": "markdown",
      "source": [
        "### Files"
      ],
      "metadata": {
        "id": "h9LUGsHL4zJh"
      }
    },
    {
      "cell_type": "markdown",
      "source": [
        "Working with files in python:\n",
        "*  reading the contents of the file \n",
        "* or  we intend to make changes to it, writing it. \n",
        "\n",
        "And this is because it causes problems if two applications are making changes to the same file at the same time. So the operating system needs to know who's doing what. So I can use the open function and pass in the name of a file"
      ],
      "metadata": {
        "id": "I3-JwMcfJZM0"
      }
    },
    {
      "cell_type": "markdown",
      "source": [
        "#### Reading files"
      ],
      "metadata": {
        "id": "kRzkXzit40RG"
      }
    },
    {
      "cell_type": "code",
      "source": [
        "f = open('10_01_file.txt', 'r')\n",
        "print(f)\n",
        "\n",
        "f.readline()"
      ],
      "metadata": {
        "id": "ibpOEwMn4KW1"
      },
      "execution_count": null,
      "outputs": []
    },
    {
      "cell_type": "code",
      "source": [
        "f.readlines()"
      ],
      "metadata": {
        "id": "FvAx9Gb545-5"
      },
      "execution_count": null,
      "outputs": []
    },
    {
      "cell_type": "code",
      "source": [
        "f = open('10_01_file.txt', 'r')\n",
        "for line in f.readlines():   #to read all lines of the file\n",
        "    print(line.strip())      #print lines of the file"
      ],
      "metadata": {
        "id": "d10yNX9X46rS"
      },
      "execution_count": null,
      "outputs": []
    },
    {
      "cell_type": "markdown",
      "source": [
        "#### Writing files"
      ],
      "metadata": {
        "id": "dybc71il5AoF"
      }
    },
    {
      "cell_type": "code",
      "source": [
        "f = open('10_01_output.txt', 'w')\n",
        "print(f)"
      ],
      "metadata": {
        "id": "QaP960ga5COT"
      },
      "execution_count": null,
      "outputs": []
    },
    {
      "cell_type": "code",
      "source": [
        "f.write('Line 1\\n')\n",
        "f.write('Line 2\\n')  #does not write anything before closing"
      ],
      "metadata": {
        "id": "YXw4_NGg5CG5"
      },
      "execution_count": null,
      "outputs": []
    },
    {
      "cell_type": "code",
      "source": [
        "f.close()"
      ],
      "metadata": {
        "id": "WIIyLeM35Ull"
      },
      "execution_count": null,
      "outputs": []
    },
    {
      "cell_type": "markdown",
      "source": [
        "#### Appending files"
      ],
      "metadata": {
        "id": "TzEpvYhn5WD4"
      }
    },
    {
      "cell_type": "code",
      "source": [
        "f = open('10_01_output.txt', 'a')  #append mode to include more lines to the file\n",
        "f.write('Line 3\\n')\n",
        "f.write('Line 4\\n')\n",
        "f.close()"
      ],
      "metadata": {
        "id": "O1dtvp6S5Yi4"
      },
      "execution_count": null,
      "outputs": []
    },
    {
      "cell_type": "code",
      "source": [
        "with open('10_01_output.txt', 'a') as f:\n",
        "    f.write('some stuff\\n')\n",
        "    f.write('some other stuff\\n')\n",
        "#leaving identation automatically closes the file, when using 'with' statement   \n",
        "print(f)"
      ],
      "metadata": {
        "id": "JU-bBkft5Yab"
      },
      "execution_count": null,
      "outputs": []
    },
    {
      "cell_type": "code",
      "source": [
        "f.write('PS. I forgot some stuff')  #does not add anything because the file was already closed "
      ],
      "metadata": {
        "id": "nY5j91Xy5dta"
      },
      "execution_count": null,
      "outputs": []
    },
    {
      "cell_type": "markdown",
      "source": [
        "### CSV"
      ],
      "metadata": {
        "id": "YuUkWkJx5jZo"
      }
    },
    {
      "cell_type": "markdown",
      "source": [
        "#### Reading"
      ],
      "metadata": {
        "id": "Mb13WDvELHir"
      }
    },
    {
      "cell_type": "code",
      "source": [
        "import csv"
      ],
      "metadata": {
        "id": "1R2R-D1xLdjI"
      },
      "execution_count": null,
      "outputs": []
    },
    {
      "cell_type": "code",
      "source": [
        "with open ('10_02_us.csv', 'r') as f:\n",
        "  reader = csv.reader(f, delimiter='\\t')\n",
        "  for row in reader:\n",
        "    print(row)\n",
        "\n",
        "\n",
        "    #this csv file is not comma separated , but tab. therefore we are using a delimiter"
      ],
      "metadata": {
        "id": "dHYbq4y9K3wF"
      },
      "execution_count": null,
      "outputs": []
    },
    {
      "cell_type": "code",
      "source": [
        "#to skip the header using next\n",
        "with open ('10_02_us.csv', 'r') as f:\n",
        "  reader = csv.reader(f, delimiter='\\t')\n",
        "  next(reader)\n",
        "  for row in reader:\n",
        "    print(row)"
      ],
      "metadata": {
        "id": "XQp-y8RpL4DR"
      },
      "execution_count": null,
      "outputs": []
    },
    {
      "cell_type": "code",
      "source": [
        "#skipping header using list\n",
        "with open ('10_02_us.csv', 'r') as f:\n",
        "  reader = list(csv.reader(f, delimiter='\\t'))\n",
        "  for row in reader[1:]:\n",
        "    print(row)"
      ],
      "metadata": {
        "id": "tPiywEbFMFqO"
      },
      "execution_count": null,
      "outputs": []
    },
    {
      "cell_type": "code",
      "source": [
        "#to consider the header with DictReader\n",
        "with open ('10_02_us.csv', 'r') as f:\n",
        "  reader = csv.DictReader(f, delimiter='\\t')\n",
        "  for row in reader:\n",
        "    print(row)\n",
        "  \n",
        "  #generates a list of dictionaries instead of a header + rows"
      ],
      "metadata": {
        "id": "07JV-097MWCR"
      },
      "execution_count": null,
      "outputs": []
    },
    {
      "cell_type": "markdown",
      "source": [
        "#### Filtering data"
      ],
      "metadata": {
        "id": "B_iEa3i4MqBh"
      }
    },
    {
      "cell_type": "code",
      "source": [
        "#\n",
        "with open ('10_02_us.csv', 'r') as f:\n",
        "  data = list(csv.DictReader(f, delimiter='\\t'))\n"
      ],
      "metadata": {
        "id": "kifjNd2hMr2n"
      },
      "execution_count": null,
      "outputs": []
    },
    {
      "cell_type": "code",
      "source": [
        "primes = []\n",
        "\n",
        "for number in range(2,9999):\n",
        "  for factor in range(2,int(number**0.5)):\n",
        "    if number % factor == 0:\n",
        "      break \n",
        "  else :\n",
        "    primes.append(number)\n"
      ],
      "metadata": {
        "id": "Rh7XcNljM9b8"
      },
      "execution_count": null,
      "outputs": []
    },
    {
      "cell_type": "code",
      "source": [
        "data = [row for row in data if int(data['postal_code']) in primes]"
      ],
      "metadata": {
        "id": "T2HxJ05oNeuT"
      },
      "execution_count": null,
      "outputs": []
    },
    {
      "cell_type": "markdown",
      "source": [
        "### JSON"
      ],
      "metadata": {
        "id": "cx1LMh2KSbcy"
      }
    },
    {
      "cell_type": "code",
      "source": [
        "import json\n",
        "from json import JSONDecodeError, JSONEncoder"
      ],
      "metadata": {
        "id": "03v9k3cTSdGP"
      },
      "execution_count": null,
      "outputs": []
    },
    {
      "cell_type": "markdown",
      "source": [
        "#### Loading json"
      ],
      "metadata": {
        "id": "C4PRAKXiSd7V"
      }
    },
    {
      "cell_type": "code",
      "source": [
        "jsonString = '{\"a\": \"apple\", \"b\": \"bear\", \"c\": \"cat\",}'\n",
        "try:\n",
        "    json.loads(jsonString)   #json.loads to have a python dictionary from the json string, this will result in a json decode error\n",
        "except JSONDecodeError:\n",
        "    print('Could not parse JSON!')"
      ],
      "metadata": {
        "colab": {
          "base_uri": "https://localhost:8080/"
        },
        "id": "Kw5JbjuYShpu",
        "outputId": "8edcdcfd-c8ea-4c98-a477-79485982256e"
      },
      "execution_count": null,
      "outputs": [
        {
          "output_type": "stream",
          "name": "stdout",
          "text": [
            "Could not parse JSON!\n"
          ]
        }
      ]
    },
    {
      "cell_type": "code",
      "source": [
        "{'a': 'apple', 'b': 'bear', 'c': 'cat',}"
      ],
      "metadata": {
        "id": "vzhWoCWFSklp"
      },
      "execution_count": null,
      "outputs": []
    },
    {
      "cell_type": "markdown",
      "source": [
        "#### Dumping Json "
      ],
      "metadata": {
        "id": "rOeVCzeuSokj"
      }
    },
    {
      "cell_type": "code",
      "source": [
        "pythonDict = {'a': 'apple', 'b': 'bear', 'c': 'cat',} #dumping a python dictionary into a json string\n",
        "json.dumps(pythonDict)"
      ],
      "metadata": {
        "id": "etVLwgKxSqQd"
      },
      "execution_count": null,
      "outputs": []
    },
    {
      "cell_type": "markdown",
      "source": [
        "#### Custom json decoders"
      ],
      "metadata": {
        "id": "0yg4QftkSt6i"
      }
    },
    {
      "cell_type": "code",
      "source": [
        "class Animal:\n",
        "    def __init__(self, name):\n",
        "        self.name = name\n",
        "\n",
        "class AnimalEncoder(JSONEncoder):\n",
        "    def default(self, o):\n",
        "        if type(o) == Animal:\n",
        "            return o.name\n",
        "        return super().default(o)\n",
        "    \n",
        "pythonDict = {'a': Animal('aardvark'), 'b': Animal('bear'), 'c': Animal('cat'),}\n",
        "json.dumps(pythonDict, cls=AnimalEncoder)"
      ],
      "metadata": {
        "id": "M8Lb-DmxSxMc"
      },
      "execution_count": null,
      "outputs": []
    },
    {
      "cell_type": "markdown",
      "source": [
        "### Writing files"
      ],
      "metadata": {
        "id": "KqQ6pNLyS59w"
      }
    },
    {
      "cell_type": "code",
      "source": [
        "from argparse import ArgumentParser #library to help passing arguments from command line in the code\n",
        "\n",
        "parser = ArgumentParser()\n",
        "\n",
        "#full word argument: -- dashes\n",
        "#letter argument : - dash\n",
        "parser.add_argument('--output', '-o', required=True, help='The destination file for the output of this program')\n",
        "parser.add_argument('--text', '-t', required=True, help='The text to write to the file')\n",
        "\n",
        "\n",
        "args = parser.parse_args()   #object that has all our arguments as attributes of it\n",
        "\n",
        "with open(args.output, 'w') as f:\n",
        "    f.write(args.text+'\\n')\n",
        "\n",
        "print(f'Wrote \"{args.text}\" to file \"{args.output}\"')"
      ],
      "metadata": {
        "id": "Izz1kaWnS7ml"
      },
      "execution_count": null,
      "outputs": []
    },
    {
      "cell_type": "markdown",
      "source": [
        "## 9. Control Flow"
      ],
      "metadata": {
        "id": "wUTG7i-SwVvE"
      }
    },
    {
      "cell_type": "markdown",
      "source": [
        "### If and else"
      ],
      "metadata": {
        "id": "NkF3aF3HwY8j"
      }
    },
    {
      "cell_type": "code",
      "source": [
        "# 1, 2, Fizz, 4, Buzz, Fizz, 7, 8, Fizz, Buzz, 11, Fizz, 13, FizzBuzz, 16\n",
        "\n",
        "for n in range(1, 101):\n",
        "    if n % 15 == 0:\n",
        "        print('FizzBuzz')\n",
        "    else:\n",
        "        if n % 3 == 0:\n",
        "            print('Fizz')\n",
        "        else:\n",
        "            if n % 5 == 0:\n",
        "                print('Buzz')\n",
        "            else:\n",
        "                print(n)"
      ],
      "metadata": {
        "colab": {
          "base_uri": "https://localhost:8080/"
        },
        "id": "OBVfbHMGwXNU",
        "outputId": "6ad0124e-a91a-4ef9-825b-f951a8630198"
      },
      "execution_count": null,
      "outputs": [
        {
          "output_type": "stream",
          "name": "stdout",
          "text": [
            "1\n",
            "2\n",
            "Fizz\n",
            "4\n",
            "Buzz\n",
            "Fizz\n",
            "7\n",
            "8\n",
            "Fizz\n",
            "Buzz\n",
            "11\n",
            "Fizz\n",
            "13\n",
            "14\n",
            "FizzBuzz\n",
            "16\n",
            "17\n",
            "Fizz\n",
            "19\n",
            "Buzz\n",
            "Fizz\n",
            "22\n",
            "23\n",
            "Fizz\n",
            "Buzz\n",
            "26\n",
            "Fizz\n",
            "28\n",
            "29\n",
            "FizzBuzz\n",
            "31\n",
            "32\n",
            "Fizz\n",
            "34\n",
            "Buzz\n",
            "Fizz\n",
            "37\n",
            "38\n",
            "Fizz\n",
            "Buzz\n",
            "41\n",
            "Fizz\n",
            "43\n",
            "44\n",
            "FizzBuzz\n",
            "46\n",
            "47\n",
            "Fizz\n",
            "49\n",
            "Buzz\n",
            "Fizz\n",
            "52\n",
            "53\n",
            "Fizz\n",
            "Buzz\n",
            "56\n",
            "Fizz\n",
            "58\n",
            "59\n",
            "FizzBuzz\n",
            "61\n",
            "62\n",
            "Fizz\n",
            "64\n",
            "Buzz\n",
            "Fizz\n",
            "67\n",
            "68\n",
            "Fizz\n",
            "Buzz\n",
            "71\n",
            "Fizz\n",
            "73\n",
            "74\n",
            "FizzBuzz\n",
            "76\n",
            "77\n",
            "Fizz\n",
            "79\n",
            "Buzz\n",
            "Fizz\n",
            "82\n",
            "83\n",
            "Fizz\n",
            "Buzz\n",
            "86\n",
            "Fizz\n",
            "88\n",
            "89\n",
            "FizzBuzz\n",
            "91\n",
            "92\n",
            "Fizz\n",
            "94\n",
            "Buzz\n",
            "Fizz\n",
            "97\n",
            "98\n",
            "Fizz\n",
            "Buzz\n"
          ]
        }
      ]
    },
    {
      "cell_type": "markdown",
      "source": [
        "#### While"
      ],
      "metadata": {
        "id": "mGvgz9ZYwfmV"
      }
    },
    {
      "cell_type": "code",
      "source": [
        "from datetime import datetime"
      ],
      "metadata": {
        "id": "CSrKFMmKwa_Z"
      },
      "execution_count": null,
      "outputs": []
    },
    {
      "cell_type": "code",
      "source": [
        "datetime.now().second"
      ],
      "metadata": {
        "colab": {
          "base_uri": "https://localhost:8080/"
        },
        "id": "VJBYSFPPwlE2",
        "outputId": "1c320313-69a7-4c57-fdd3-b0b2142a08c0"
      },
      "execution_count": null,
      "outputs": [
        {
          "output_type": "execute_result",
          "data": {
            "text/plain": [
              "21"
            ]
          },
          "metadata": {},
          "execution_count": 31
        }
      ]
    },
    {
      "cell_type": "code",
      "source": [
        "wait_until = datetime.now().second + 2\n",
        "\n",
        "while datetime.now().second != wait_until:\n",
        "    print('Still waiting!')\n",
        "    \n",
        "print(f'We are at {wait_until} seconds!')"
      ],
      "metadata": {
        "colab": {
          "base_uri": "https://localhost:8080/"
        },
        "id": "OQ2lZLhMwmy3",
        "outputId": "a86feb0a-2ea0-4d0c-a78e-69354b076dc4"
      },
      "execution_count": null,
      "outputs": [
        {
          "output_type": "stream",
          "name": "stdout",
          "text": [
            "Still waiting!\n",
            "Still waiting!\n",
            "Still waiting!\n",
            "Still waiting!\n",
            "Still waiting!\n",
            "Still waiting!\n",
            "Still waiting!\n",
            "Still waiting!\n",
            "Still waiting!\n",
            "Still waiting!\n",
            "Still waiting!\n",
            "Still waiting!\n",
            "Still waiting!\n",
            "Still waiting!\n",
            "Still waiting!\n",
            "Still waiting!\n",
            "Still waiting!\n",
            "Still waiting!\n",
            "Still waiting!\n",
            "Still waiting!\n",
            "Still waiting!\n",
            "Still waiting!\n",
            "Still waiting!\n",
            "Still waiting!\n",
            "Still waiting!\n",
            "Still waiting!\n",
            "Still waiting!\n",
            "Still waiting!\n",
            "Still waiting!\n",
            "Still waiting!\n",
            "Still waiting!\n",
            "Still waiting!\n",
            "Still waiting!\n",
            "Still waiting!\n",
            "Still waiting!\n",
            "Still waiting!\n",
            "Still waiting!\n",
            "Still waiting!\n",
            "Still waiting!\n",
            "Still waiting!\n",
            "Still waiting!\n",
            "Still waiting!\n",
            "Still waiting!\n",
            "Still waiting!\n",
            "Still waiting!\n",
            "Still waiting!\n",
            "Still waiting!\n",
            "Still waiting!\n",
            "Still waiting!\n",
            "Still waiting!\n",
            "Still waiting!\n",
            "Still waiting!\n",
            "Still waiting!\n",
            "Still waiting!\n",
            "Still waiting!\n",
            "Still waiting!\n",
            "Still waiting!\n",
            "Still waiting!\n",
            "Still waiting!\n",
            "Still waiting!\n",
            "Still waiting!\n",
            "Still waiting!\n",
            "Still waiting!\n",
            "Still waiting!\n",
            "Still waiting!\n",
            "Still waiting!\n",
            "Still waiting!\n",
            "Still waiting!\n",
            "Still waiting!\n",
            "Still waiting!\n",
            "Still waiting!\n",
            "Still waiting!\n",
            "Still waiting!\n",
            "Still waiting!\n",
            "Still waiting!\n",
            "Still waiting!\n",
            "Still waiting!\n",
            "Still waiting!\n",
            "Still waiting!\n",
            "Still waiting!\n",
            "Still waiting!\n",
            "Still waiting!\n",
            "Still waiting!\n",
            "Still waiting!\n",
            "Still waiting!\n",
            "Still waiting!\n",
            "Still waiting!\n",
            "Still waiting!\n",
            "Still waiting!\n",
            "Still waiting!\n",
            "Still waiting!\n",
            "Still waiting!\n",
            "Still waiting!\n",
            "Still waiting!\n",
            "Still waiting!\n",
            "Still waiting!\n",
            "Still waiting!\n",
            "Still waiting!\n",
            "Still waiting!\n",
            "Still waiting!\n",
            "Still waiting!\n",
            "Still waiting!\n",
            "Still waiting!\n",
            "Still waiting!\n",
            "Still waiting!\n",
            "Still waiting!\n",
            "Still waiting!\n",
            "Still waiting!\n",
            "Still waiting!\n",
            "Still waiting!\n",
            "Still waiting!\n",
            "Still waiting!\n",
            "Still waiting!\n",
            "Still waiting!\n",
            "Still waiting!\n",
            "Still waiting!\n",
            "Still waiting!\n",
            "Still waiting!\n",
            "Still waiting!\n",
            "Still waiting!\n",
            "Still waiting!\n",
            "Still waiting!\n",
            "Still waiting!\n",
            "Still waiting!\n",
            "Still waiting!\n",
            "Still waiting!\n",
            "Still waiting!\n",
            "Still waiting!\n",
            "Still waiting!\n",
            "Still waiting!\n",
            "Still waiting!\n",
            "Still waiting!\n",
            "Still waiting!\n",
            "Still waiting!\n",
            "Still waiting!\n",
            "Still waiting!\n",
            "Still waiting!\n",
            "Still waiting!\n",
            "Still waiting!\n",
            "Still waiting!\n",
            "Still waiting!\n",
            "Still waiting!\n",
            "Still waiting!\n",
            "Still waiting!\n",
            "Still waiting!\n",
            "Still waiting!\n",
            "Still waiting!\n",
            "Still waiting!\n",
            "Still waiting!\n",
            "Still waiting!\n",
            "Still waiting!\n",
            "Still waiting!\n",
            "Still waiting!\n",
            "Still waiting!\n",
            "Still waiting!\n",
            "Still waiting!\n",
            "Still waiting!\n",
            "Still waiting!\n",
            "Still waiting!\n",
            "Still waiting!\n",
            "Still waiting!\n",
            "Still waiting!\n",
            "Still waiting!\n",
            "Still waiting!\n",
            "Still waiting!\n",
            "Still waiting!\n",
            "Still waiting!\n",
            "Still waiting!\n",
            "Still waiting!\n",
            "Still waiting!\n",
            "Still waiting!\n",
            "Still waiting!\n",
            "Still waiting!\n",
            "Still waiting!\n",
            "Still waiting!\n",
            "Still waiting!\n",
            "Still waiting!\n",
            "Still waiting!\n",
            "Still waiting!\n",
            "Still waiting!\n",
            "Still waiting!\n",
            "Still waiting!\n",
            "Still waiting!\n",
            "Still waiting!\n",
            "Still waiting!\n",
            "Still waiting!\n",
            "Still waiting!\n",
            "Still waiting!\n",
            "Still waiting!\n",
            "Still waiting!\n",
            "Still waiting!\n",
            "Still waiting!\n",
            "Still waiting!\n",
            "Still waiting!\n",
            "Still waiting!\n",
            "Still waiting!\n",
            "Still waiting!\n",
            "Still waiting!\n",
            "Still waiting!\n",
            "Still waiting!\n",
            "Still waiting!\n",
            "Still waiting!\n",
            "Still waiting!\n",
            "Still waiting!\n",
            "Still waiting!\n",
            "Still waiting!\n",
            "Still waiting!\n",
            "Still waiting!\n",
            "Still waiting!\n",
            "Still waiting!\n",
            "Still waiting!\n",
            "Still waiting!\n",
            "Still waiting!\n",
            "Still waiting!\n",
            "Still waiting!\n",
            "Still waiting!\n",
            "Still waiting!\n",
            "Still waiting!\n",
            "Still waiting!\n",
            "Still waiting!\n",
            "Still waiting!\n",
            "Still waiting!\n",
            "Still waiting!\n",
            "Still waiting!\n",
            "Still waiting!\n",
            "Still waiting!\n",
            "Still waiting!\n",
            "Still waiting!\n",
            "Still waiting!\n",
            "Still waiting!\n",
            "Still waiting!\n",
            "Still waiting!\n",
            "Still waiting!\n",
            "Still waiting!\n",
            "Still waiting!\n",
            "Still waiting!\n",
            "Still waiting!\n",
            "Still waiting!\n",
            "Still waiting!\n",
            "Still waiting!\n",
            "Still waiting!\n",
            "Still waiting!\n",
            "Still waiting!\n",
            "Still waiting!\n",
            "Still waiting!\n",
            "Still waiting!\n",
            "Still waiting!\n",
            "Still waiting!\n",
            "Still waiting!\n",
            "Still waiting!\n",
            "Still waiting!\n",
            "Still waiting!\n",
            "Still waiting!\n",
            "Still waiting!\n",
            "Still waiting!\n",
            "Still waiting!\n",
            "Still waiting!\n",
            "Still waiting!\n",
            "Still waiting!\n",
            "Still waiting!\n",
            "Still waiting!\n",
            "Still waiting!\n",
            "Still waiting!\n",
            "Still waiting!\n",
            "Still waiting!\n",
            "Still waiting!\n",
            "Still waiting!\n",
            "Still waiting!\n",
            "Still waiting!\n",
            "Still waiting!\n",
            "Still waiting!\n",
            "Still waiting!\n",
            "Still waiting!\n",
            "Still waiting!\n",
            "Still waiting!\n",
            "Still waiting!\n",
            "Still waiting!\n",
            "Still waiting!\n",
            "Still waiting!\n",
            "Still waiting!\n",
            "Still waiting!\n",
            "Still waiting!\n",
            "Still waiting!\n",
            "Still waiting!\n",
            "Still waiting!\n",
            "Still waiting!\n",
            "Still waiting!\n",
            "Still waiting!\n",
            "Still waiting!\n",
            "Still waiting!\n",
            "Still waiting!\n",
            "Still waiting!\n",
            "Still waiting!\n",
            "Still waiting!\n",
            "Still waiting!\n",
            "Still waiting!\n",
            "Still waiting!\n",
            "Still waiting!\n",
            "Still waiting!\n",
            "Still waiting!\n",
            "Still waiting!\n",
            "Still waiting!\n",
            "Still waiting!\n",
            "Still waiting!\n",
            "Still waiting!\n",
            "Still waiting!\n",
            "Still waiting!\n",
            "Still waiting!\n",
            "Still waiting!\n",
            "Still waiting!\n",
            "Still waiting!\n",
            "Still waiting!\n",
            "Still waiting!\n",
            "Still waiting!\n",
            "Still waiting!\n",
            "Still waiting!\n",
            "Still waiting!\n",
            "Still waiting!\n",
            "Still waiting!\n",
            "Still waiting!\n",
            "Still waiting!\n",
            "Still waiting!\n",
            "Still waiting!\n",
            "Still waiting!\n",
            "Still waiting!\n",
            "Still waiting!\n",
            "Still waiting!\n",
            "Still waiting!\n",
            "Still waiting!\n",
            "Still waiting!\n",
            "Still waiting!\n",
            "Still waiting!\n",
            "Still waiting!\n",
            "Still waiting!\n",
            "Still waiting!\n",
            "Still waiting!\n",
            "Still waiting!\n",
            "Still waiting!\n",
            "Still waiting!\n",
            "Still waiting!\n",
            "Still waiting!\n",
            "Still waiting!\n",
            "Still waiting!\n",
            "Still waiting!\n",
            "Still waiting!\n",
            "Still waiting!\n",
            "Still waiting!\n",
            "Still waiting!\n",
            "Still waiting!\n",
            "Still waiting!\n",
            "Still waiting!\n",
            "Still waiting!\n",
            "Still waiting!\n",
            "Still waiting!\n",
            "Still waiting!\n",
            "Still waiting!\n",
            "Still waiting!\n",
            "Still waiting!\n",
            "Still waiting!\n",
            "Still waiting!\n",
            "Still waiting!\n",
            "Still waiting!\n",
            "Still waiting!\n",
            "Still waiting!\n",
            "Still waiting!\n",
            "Still waiting!\n",
            "Still waiting!\n",
            "Still waiting!\n",
            "Still waiting!\n",
            "Still waiting!\n",
            "Still waiting!\n",
            "Still waiting!\n",
            "Still waiting!\n",
            "Still waiting!\n",
            "Still waiting!\n",
            "Still waiting!\n",
            "Still waiting!\n",
            "Still waiting!\n",
            "Still waiting!\n",
            "Still waiting!\n",
            "Still waiting!\n",
            "Still waiting!\n",
            "Still waiting!\n",
            "Still waiting!\n",
            "Still waiting!\n",
            "Still waiting!\n",
            "Still waiting!\n",
            "Still waiting!\n",
            "Still waiting!\n",
            "Still waiting!\n",
            "Still waiting!\n",
            "Still waiting!\n",
            "Still waiting!\n",
            "Still waiting!\n",
            "Still waiting!\n",
            "Still waiting!\n",
            "Still waiting!\n",
            "Still waiting!\n",
            "Still waiting!\n",
            "Still waiting!\n",
            "Still waiting!\n",
            "Still waiting!\n",
            "Still waiting!\n",
            "Still waiting!\n",
            "Still waiting!\n",
            "Still waiting!\n",
            "Still waiting!\n",
            "Still waiting!\n",
            "Still waiting!\n",
            "Still waiting!\n",
            "Still waiting!\n",
            "Still waiting!\n",
            "Still waiting!\n",
            "Still waiting!\n",
            "Still waiting!\n",
            "Still waiting!\n",
            "Still waiting!\n",
            "Still waiting!\n",
            "Still waiting!\n",
            "Still waiting!\n",
            "Still waiting!\n",
            "Still waiting!\n",
            "Still waiting!\n",
            "Still waiting!\n",
            "Still waiting!\n",
            "Still waiting!\n",
            "Still waiting!\n",
            "Still waiting!\n",
            "Still waiting!\n",
            "Still waiting!\n",
            "Still waiting!\n",
            "Still waiting!\n",
            "Still waiting!\n",
            "Still waiting!\n",
            "Still waiting!\n",
            "Still waiting!\n",
            "Still waiting!\n",
            "Still waiting!\n",
            "Still waiting!\n",
            "Still waiting!\n",
            "Still waiting!\n",
            "Still waiting!\n",
            "Still waiting!\n",
            "Still waiting!\n",
            "Still waiting!\n",
            "Still waiting!\n",
            "Still waiting!\n",
            "Still waiting!\n",
            "Still waiting!\n",
            "Still waiting!\n",
            "Still waiting!\n",
            "Still waiting!\n",
            "Still waiting!\n",
            "Still waiting!\n",
            "Still waiting!\n",
            "Still waiting!\n",
            "Still waiting!\n",
            "Still waiting!\n",
            "Still waiting!\n",
            "Still waiting!\n",
            "Still waiting!\n",
            "Still waiting!\n",
            "Still waiting!\n",
            "Still waiting!\n",
            "Still waiting!\n",
            "Still waiting!\n",
            "Still waiting!\n",
            "Still waiting!\n",
            "Still waiting!\n",
            "Still waiting!\n",
            "Still waiting!\n",
            "Still waiting!\n",
            "Still waiting!\n",
            "Still waiting!\n",
            "Still waiting!\n",
            "Still waiting!\n",
            "Still waiting!\n",
            "Still waiting!\n",
            "Still waiting!\n",
            "Still waiting!\n",
            "Still waiting!\n",
            "Still waiting!\n",
            "Still waiting!\n",
            "Still waiting!\n",
            "Still waiting!\n",
            "Still waiting!\n",
            "Still waiting!\n",
            "Still waiting!\n",
            "Still waiting!\n",
            "Still waiting!\n",
            "Still waiting!\n",
            "Still waiting!\n",
            "Still waiting!\n",
            "Still waiting!\n",
            "Still waiting!\n",
            "Still waiting!\n",
            "Still waiting!\n",
            "Still waiting!\n",
            "Still waiting!\n",
            "Still waiting!\n",
            "Still waiting!\n",
            "Still waiting!\n",
            "Still waiting!\n",
            "Still waiting!\n",
            "Still waiting!\n",
            "Still waiting!\n",
            "Still waiting!\n",
            "Still waiting!\n",
            "Still waiting!\n",
            "Still waiting!\n",
            "Still waiting!\n",
            "Still waiting!\n",
            "Still waiting!\n",
            "Still waiting!\n",
            "Still waiting!\n",
            "Still waiting!\n",
            "Still waiting!\n",
            "Still waiting!\n",
            "Still waiting!\n",
            "Still waiting!\n",
            "Still waiting!\n",
            "Still waiting!\n",
            "Still waiting!\n",
            "Still waiting!\n",
            "Still waiting!\n",
            "Still waiting!\n",
            "Still waiting!\n",
            "Still waiting!\n",
            "Still waiting!\n",
            "Still waiting!\n",
            "Still waiting!\n",
            "Still waiting!\n",
            "Still waiting!\n",
            "Still waiting!\n",
            "Still waiting!\n",
            "Still waiting!\n",
            "Still waiting!\n",
            "Still waiting!\n",
            "Still waiting!\n",
            "Still waiting!\n",
            "Still waiting!\n",
            "Still waiting!\n",
            "Still waiting!\n",
            "Still waiting!\n",
            "Still waiting!\n",
            "Still waiting!\n",
            "Still waiting!\n",
            "Still waiting!\n",
            "Still waiting!\n",
            "Still waiting!\n",
            "Still waiting!\n",
            "Still waiting!\n",
            "Still waiting!\n",
            "Still waiting!\n",
            "Still waiting!\n",
            "Still waiting!\n",
            "Still waiting!\n",
            "Still waiting!\n",
            "Still waiting!\n",
            "Still waiting!\n",
            "Still waiting!\n",
            "Still waiting!\n",
            "Still waiting!\n",
            "Still waiting!\n",
            "Still waiting!\n",
            "Still waiting!\n",
            "Still waiting!\n",
            "Still waiting!\n",
            "Still waiting!\n",
            "Still waiting!\n",
            "Still waiting!\n",
            "Still waiting!\n",
            "Still waiting!\n",
            "Still waiting!\n",
            "Still waiting!\n",
            "Still waiting!\n",
            "Still waiting!\n",
            "Still waiting!\n",
            "Still waiting!\n",
            "Still waiting!\n",
            "Still waiting!\n",
            "Still waiting!\n",
            "Still waiting!\n",
            "Still waiting!\n",
            "Still waiting!\n",
            "Still waiting!\n",
            "Still waiting!\n",
            "Still waiting!\n",
            "Still waiting!\n",
            "Still waiting!\n",
            "Still waiting!\n",
            "Still waiting!\n",
            "Still waiting!\n",
            "Still waiting!\n",
            "Still waiting!\n",
            "Still waiting!\n",
            "Still waiting!\n",
            "Still waiting!\n",
            "Still waiting!\n",
            "Still waiting!\n",
            "Still waiting!\n",
            "Still waiting!\n",
            "Still waiting!\n",
            "Still waiting!\n",
            "Still waiting!\n",
            "Still waiting!\n",
            "Still waiting!\n",
            "Still waiting!\n",
            "Still waiting!\n",
            "Still waiting!\n",
            "Still waiting!\n",
            "Still waiting!\n",
            "Still waiting!\n",
            "Still waiting!\n",
            "Still waiting!\n",
            "Still waiting!\n",
            "Still waiting!\n",
            "Still waiting!\n",
            "Still waiting!\n",
            "Still waiting!\n",
            "Still waiting!\n",
            "Still waiting!\n",
            "Still waiting!\n",
            "Still waiting!\n",
            "Still waiting!\n",
            "Still waiting!\n",
            "Still waiting!\n",
            "Still waiting!\n",
            "Still waiting!\n",
            "Still waiting!\n",
            "Still waiting!\n",
            "Still waiting!\n",
            "Still waiting!\n",
            "Still waiting!\n",
            "Still waiting!\n",
            "Still waiting!\n",
            "Still waiting!\n",
            "Still waiting!\n",
            "Still waiting!\n",
            "Still waiting!\n",
            "Still waiting!\n",
            "Still waiting!\n",
            "Still waiting!\n",
            "Still waiting!\n",
            "Still waiting!\n",
            "Still waiting!\n",
            "Still waiting!\n",
            "Still waiting!\n",
            "Still waiting!\n",
            "Still waiting!\n",
            "Still waiting!\n",
            "Still waiting!\n",
            "Still waiting!\n",
            "Still waiting!\n",
            "Still waiting!\n",
            "Still waiting!\n",
            "Still waiting!\n",
            "Still waiting!\n",
            "Still waiting!\n",
            "Still waiting!\n",
            "Still waiting!\n",
            "Still waiting!\n",
            "Still waiting!\n",
            "Still waiting!\n",
            "Still waiting!\n",
            "Still waiting!\n",
            "Still waiting!\n",
            "Still waiting!\n",
            "Still waiting!\n",
            "Still waiting!\n",
            "Still waiting!\n",
            "Still waiting!\n",
            "Still waiting!\n",
            "Still waiting!\n",
            "Still waiting!\n",
            "Still waiting!\n",
            "Still waiting!\n",
            "Still waiting!\n",
            "Still waiting!\n",
            "Still waiting!\n",
            "Still waiting!\n",
            "Still waiting!\n",
            "Still waiting!\n",
            "Still waiting!\n",
            "Still waiting!\n",
            "Still waiting!\n",
            "Still waiting!\n",
            "Still waiting!\n",
            "Still waiting!\n",
            "Still waiting!\n",
            "Still waiting!\n",
            "Still waiting!\n",
            "Still waiting!\n",
            "Still waiting!\n",
            "Still waiting!\n",
            "Still waiting!\n",
            "Still waiting!\n",
            "Still waiting!\n",
            "Still waiting!\n",
            "Still waiting!\n",
            "Still waiting!\n",
            "Still waiting!\n",
            "Still waiting!\n",
            "Still waiting!\n",
            "Still waiting!\n",
            "Still waiting!\n",
            "Still waiting!\n",
            "Still waiting!\n",
            "Still waiting!\n",
            "Still waiting!\n",
            "Still waiting!\n",
            "Still waiting!\n",
            "Still waiting!\n",
            "Still waiting!\n",
            "Still waiting!\n",
            "Still waiting!\n",
            "Still waiting!\n",
            "Still waiting!\n",
            "Still waiting!\n",
            "Still waiting!\n",
            "Still waiting!\n",
            "Still waiting!\n",
            "Still waiting!\n",
            "Still waiting!\n",
            "Still waiting!\n",
            "Still waiting!\n",
            "Still waiting!\n",
            "Still waiting!\n",
            "Still waiting!\n",
            "Still waiting!\n",
            "Still waiting!\n",
            "Still waiting!\n",
            "Still waiting!\n",
            "Still waiting!\n",
            "Still waiting!\n",
            "Still waiting!\n",
            "Still waiting!\n",
            "Still waiting!\n",
            "Still waiting!\n",
            "Still waiting!\n",
            "Still waiting!\n",
            "Still waiting!\n",
            "Still waiting!\n",
            "Still waiting!\n",
            "Still waiting!\n",
            "Still waiting!\n",
            "Still waiting!\n",
            "Still waiting!\n",
            "Still waiting!\n",
            "Still waiting!\n",
            "Still waiting!\n",
            "Still waiting!\n",
            "Still waiting!\n",
            "Still waiting!\n",
            "Still waiting!\n",
            "Still waiting!\n",
            "Still waiting!\n",
            "Still waiting!\n",
            "Still waiting!\n",
            "Still waiting!\n",
            "Still waiting!\n",
            "Still waiting!\n",
            "Still waiting!\n",
            "Still waiting!\n",
            "Still waiting!\n",
            "Still waiting!\n",
            "Still waiting!\n",
            "Still waiting!\n",
            "Still waiting!\n",
            "Still waiting!\n",
            "Still waiting!\n",
            "Still waiting!\n",
            "Still waiting!\n",
            "Still waiting!\n",
            "Still waiting!\n",
            "Still waiting!\n",
            "Still waiting!\n",
            "Still waiting!\n",
            "Still waiting!\n",
            "Still waiting!\n",
            "Still waiting!\n",
            "Still waiting!\n",
            "Still waiting!\n",
            "Still waiting!\n",
            "Still waiting!\n",
            "Still waiting!\n",
            "Still waiting!\n",
            "Still waiting!\n",
            "Still waiting!\n",
            "Still waiting!\n",
            "Still waiting!\n",
            "Still waiting!\n",
            "Still waiting!\n",
            "Still waiting!\n",
            "Still waiting!\n",
            "Still waiting!\n",
            "Still waiting!\n",
            "Still waiting!\n",
            "Still waiting!\n",
            "Still waiting!\n",
            "Still waiting!\n",
            "Still waiting!\n",
            "Still waiting!\n",
            "Still waiting!\n",
            "Still waiting!\n",
            "Still waiting!\n",
            "Still waiting!\n",
            "Still waiting!\n",
            "Still waiting!\n",
            "Still waiting!\n",
            "Still waiting!\n",
            "Still waiting!\n",
            "Still waiting!\n",
            "Still waiting!\n",
            "Still waiting!\n",
            "Still waiting!\n",
            "Still waiting!\n",
            "Still waiting!\n",
            "Still waiting!\n",
            "Still waiting!\n",
            "Still waiting!\n",
            "Still waiting!\n",
            "Still waiting!\n",
            "Still waiting!\n",
            "Still waiting!\n",
            "Still waiting!\n",
            "Still waiting!\n",
            "Still waiting!\n",
            "Still waiting!\n",
            "Still waiting!\n",
            "Still waiting!\n",
            "Still waiting!\n",
            "Still waiting!\n",
            "Still waiting!\n",
            "Still waiting!\n",
            "Still waiting!\n",
            "Still waiting!\n",
            "Still waiting!\n",
            "Still waiting!\n",
            "Still waiting!\n",
            "Still waiting!\n",
            "Still waiting!\n",
            "Still waiting!\n",
            "Still waiting!\n",
            "Still waiting!\n",
            "Still waiting!\n",
            "Still waiting!\n",
            "Still waiting!\n",
            "Still waiting!\n",
            "Still waiting!\n",
            "Still waiting!\n",
            "Still waiting!\n",
            "Still waiting!\n",
            "Still waiting!\n",
            "Still waiting!\n",
            "Still waiting!\n",
            "Still waiting!\n",
            "Still waiting!\n",
            "Still waiting!\n",
            "Still waiting!\n",
            "Still waiting!\n",
            "Still waiting!\n",
            "Still waiting!\n",
            "Still waiting!\n",
            "Still waiting!\n",
            "Still waiting!\n",
            "Still waiting!\n",
            "Still waiting!\n",
            "Still waiting!\n",
            "Still waiting!\n",
            "Still waiting!\n",
            "Still waiting!\n",
            "Still waiting!\n",
            "Still waiting!\n",
            "Still waiting!\n",
            "Still waiting!\n",
            "Still waiting!\n",
            "Still waiting!\n",
            "Still waiting!\n",
            "Still waiting!\n",
            "Still waiting!\n",
            "Still waiting!\n",
            "Still waiting!\n",
            "Still waiting!\n",
            "Still waiting!\n",
            "Still waiting!\n",
            "Still waiting!\n",
            "Still waiting!\n",
            "Still waiting!\n",
            "Still waiting!\n",
            "Still waiting!\n",
            "Still waiting!\n",
            "Still waiting!\n",
            "Still waiting!\n",
            "Still waiting!\n",
            "Still waiting!\n",
            "Still waiting!\n",
            "Still waiting!\n",
            "Still waiting!\n",
            "Still waiting!\n",
            "Still waiting!\n",
            "Still waiting!\n",
            "Still waiting!\n",
            "Still waiting!\n",
            "Still waiting!\n",
            "Still waiting!\n",
            "Still waiting!\n",
            "Still waiting!\n",
            "Still waiting!\n",
            "Still waiting!\n",
            "Still waiting!\n",
            "Still waiting!\n",
            "Still waiting!\n",
            "Still waiting!\n",
            "Still waiting!\n",
            "Still waiting!\n",
            "Still waiting!\n",
            "Still waiting!\n",
            "Still waiting!\n",
            "Still waiting!\n",
            "Still waiting!\n",
            "Still waiting!\n",
            "Still waiting!\n",
            "Still waiting!\n",
            "Still waiting!\n",
            "Still waiting!\n",
            "Still waiting!\n",
            "Still waiting!\n",
            "Still waiting!\n",
            "Still waiting!\n",
            "Still waiting!\n",
            "Still waiting!\n",
            "Still waiting!\n",
            "Still waiting!\n",
            "Still waiting!\n",
            "Still waiting!\n",
            "Still waiting!\n",
            "Still waiting!\n",
            "Still waiting!\n",
            "Still waiting!\n",
            "Still waiting!\n",
            "Still waiting!\n",
            "Still waiting!\n",
            "Still waiting!\n",
            "Still waiting!\n",
            "Still waiting!\n",
            "Still waiting!\n",
            "Still waiting!\n",
            "Still waiting!\n",
            "Still waiting!\n",
            "Still waiting!\n",
            "Still waiting!\n",
            "Still waiting!\n",
            "Still waiting!\n",
            "Still waiting!\n",
            "Still waiting!\n",
            "Still waiting!\n",
            "Still waiting!\n",
            "Still waiting!\n",
            "Still waiting!\n",
            "Still waiting!\n",
            "Still waiting!\n",
            "Still waiting!\n",
            "Still waiting!\n",
            "Still waiting!\n",
            "Still waiting!\n",
            "Still waiting!\n",
            "Still waiting!\n",
            "Still waiting!\n",
            "Still waiting!\n",
            "Still waiting!\n",
            "Still waiting!\n",
            "Still waiting!\n",
            "Still waiting!\n",
            "Still waiting!\n",
            "Still waiting!\n",
            "Still waiting!\n",
            "Still waiting!\n",
            "Still waiting!\n",
            "Still waiting!\n",
            "Still waiting!\n",
            "Still waiting!\n",
            "Still waiting!\n",
            "Still waiting!\n",
            "Still waiting!\n",
            "Still waiting!\n",
            "Still waiting!\n",
            "Still waiting!\n",
            "Still waiting!\n",
            "Still waiting!\n",
            "Still waiting!\n",
            "Still waiting!\n",
            "Still waiting!\n",
            "Still waiting!\n",
            "Still waiting!\n",
            "Still waiting!\n",
            "Still waiting!\n",
            "Still waiting!\n",
            "Still waiting!\n",
            "Still waiting!\n",
            "Still waiting!\n",
            "Still waiting!\n",
            "Still waiting!\n",
            "Still waiting!\n",
            "Still waiting!\n",
            "Still waiting!\n",
            "Still waiting!\n",
            "Still waiting!\n",
            "Still waiting!\n",
            "Still waiting!\n",
            "Still waiting!\n",
            "Still waiting!\n",
            "Still waiting!\n",
            "Still waiting!\n",
            "Still waiting!\n",
            "Still waiting!\n",
            "Still waiting!\n",
            "Still waiting!\n",
            "Still waiting!\n",
            "Still waiting!\n",
            "Still waiting!\n",
            "Still waiting!\n",
            "Still waiting!\n",
            "Still waiting!\n",
            "Still waiting!\n",
            "Still waiting!\n",
            "Still waiting!\n",
            "Still waiting!\n",
            "Still waiting!\n",
            "Still waiting!\n",
            "Still waiting!\n",
            "Still waiting!\n",
            "Still waiting!\n",
            "Still waiting!\n",
            "Still waiting!\n",
            "Still waiting!\n",
            "Still waiting!\n",
            "Still waiting!\n",
            "Still waiting!\n",
            "Still waiting!\n",
            "Still waiting!\n",
            "Still waiting!\n",
            "Still waiting!\n",
            "Still waiting!\n",
            "Still waiting!\n",
            "Still waiting!\n",
            "Still waiting!\n",
            "Still waiting!\n",
            "Still waiting!\n",
            "Still waiting!\n",
            "Still waiting!\n",
            "Still waiting!\n",
            "Still waiting!\n",
            "Still waiting!\n",
            "Still waiting!\n",
            "Still waiting!\n",
            "Still waiting!\n",
            "Still waiting!\n",
            "Still waiting!\n",
            "Still waiting!\n",
            "Still waiting!\n",
            "Still waiting!\n",
            "Still waiting!\n",
            "Still waiting!\n",
            "Still waiting!\n",
            "Still waiting!\n",
            "Still waiting!\n",
            "Still waiting!\n",
            "Still waiting!\n",
            "Still waiting!\n",
            "Still waiting!\n",
            "Still waiting!\n",
            "Still waiting!\n",
            "Still waiting!\n",
            "Still waiting!\n",
            "Still waiting!\n",
            "Still waiting!\n",
            "Still waiting!\n",
            "Still waiting!\n",
            "Still waiting!\n",
            "Still waiting!\n",
            "Still waiting!\n",
            "Still waiting!\n",
            "Still waiting!\n",
            "Still waiting!\n",
            "Still waiting!\n",
            "Still waiting!\n",
            "Still waiting!\n",
            "Still waiting!\n",
            "Still waiting!\n",
            "Still waiting!\n",
            "Still waiting!\n",
            "Still waiting!\n",
            "Still waiting!\n",
            "Still waiting!\n",
            "Still waiting!\n",
            "Still waiting!\n",
            "Still waiting!\n",
            "Still waiting!\n",
            "Still waiting!\n",
            "Still waiting!\n",
            "Still waiting!\n",
            "Still waiting!\n",
            "Still waiting!\n",
            "Still waiting!\n",
            "Still waiting!\n",
            "Still waiting!\n",
            "Still waiting!\n",
            "Still waiting!\n",
            "Still waiting!\n",
            "Still waiting!\n",
            "Still waiting!\n",
            "Still waiting!\n",
            "Still waiting!\n",
            "Still waiting!\n",
            "Still waiting!\n",
            "Still waiting!\n",
            "Still waiting!\n",
            "Still waiting!\n",
            "Still waiting!\n",
            "Still waiting!\n",
            "Still waiting!\n",
            "Still waiting!\n",
            "Still waiting!\n",
            "Still waiting!\n",
            "Still waiting!\n",
            "Still waiting!\n",
            "Still waiting!\n",
            "Still waiting!\n",
            "Still waiting!\n",
            "Still waiting!\n",
            "Still waiting!\n",
            "Still waiting!\n",
            "Still waiting!\n",
            "Still waiting!\n",
            "Still waiting!\n",
            "Still waiting!\n",
            "Still waiting!\n",
            "Still waiting!\n",
            "Still waiting!\n",
            "Still waiting!\n",
            "Still waiting!\n",
            "Still waiting!\n",
            "Still waiting!\n",
            "Still waiting!\n",
            "Still waiting!\n",
            "Still waiting!\n",
            "Still waiting!\n",
            "Still waiting!\n",
            "Still waiting!\n",
            "Still waiting!\n",
            "Still waiting!\n",
            "Still waiting!\n",
            "Still waiting!\n",
            "Still waiting!\n",
            "Still waiting!\n",
            "Still waiting!\n",
            "Still waiting!\n",
            "Still waiting!\n",
            "Still waiting!\n",
            "Still waiting!\n",
            "Still waiting!\n",
            "Still waiting!\n",
            "Still waiting!\n",
            "Still waiting!\n",
            "Still waiting!\n",
            "Still waiting!\n",
            "Still waiting!\n",
            "Still waiting!\n",
            "Still waiting!\n",
            "Still waiting!\n",
            "Still waiting!\n",
            "Still waiting!\n",
            "Still waiting!\n",
            "Still waiting!\n",
            "Still waiting!\n",
            "Still waiting!\n",
            "Still waiting!\n",
            "Still waiting!\n",
            "Still waiting!\n",
            "Still waiting!\n",
            "Still waiting!\n",
            "Still waiting!\n",
            "Still waiting!\n",
            "Still waiting!\n",
            "Still waiting!\n",
            "Still waiting!\n",
            "Still waiting!\n",
            "Still waiting!\n",
            "Still waiting!\n",
            "Still waiting!\n",
            "Still waiting!\n",
            "Still waiting!\n",
            "Still waiting!\n",
            "Still waiting!\n",
            "Still waiting!\n",
            "Still waiting!\n",
            "Still waiting!\n",
            "Still waiting!\n",
            "Still waiting!\n",
            "Still waiting!\n",
            "Still waiting!\n",
            "Still waiting!\n",
            "Still waiting!\n",
            "Still waiting!\n",
            "Still waiting!\n",
            "Still waiting!\n",
            "Still waiting!\n",
            "Still waiting!\n",
            "Still waiting!\n",
            "Still waiting!\n",
            "Still waiting!\n",
            "Still waiting!\n",
            "Still waiting!\n",
            "Still waiting!\n",
            "Still waiting!\n",
            "Still waiting!\n",
            "Still waiting!\n",
            "Still waiting!\n",
            "Still waiting!\n",
            "Still waiting!\n",
            "Still waiting!\n",
            "Still waiting!\n",
            "Still waiting!\n",
            "Still waiting!\n",
            "Still waiting!\n",
            "Still waiting!\n",
            "Still waiting!\n",
            "Still waiting!\n",
            "Still waiting!\n",
            "Still waiting!\n",
            "Still waiting!\n",
            "Still waiting!\n",
            "Still waiting!\n",
            "Still waiting!\n",
            "Still waiting!\n",
            "Still waiting!\n",
            "Still waiting!\n",
            "Still waiting!\n",
            "Still waiting!\n",
            "Still waiting!\n",
            "Still waiting!\n",
            "Still waiting!\n",
            "Still waiting!\n",
            "Still waiting!\n",
            "Still waiting!\n",
            "Still waiting!\n",
            "Still waiting!\n",
            "Still waiting!\n",
            "Still waiting!\n",
            "Still waiting!\n",
            "Still waiting!\n",
            "Still waiting!\n",
            "Still waiting!\n",
            "Still waiting!\n",
            "Still waiting!\n",
            "Still waiting!\n",
            "Still waiting!\n",
            "Still waiting!\n",
            "Still waiting!\n",
            "Still waiting!\n",
            "Still waiting!\n",
            "Still waiting!\n",
            "Still waiting!\n",
            "Still waiting!\n",
            "Still waiting!\n",
            "Still waiting!\n",
            "Still waiting!\n",
            "Still waiting!\n",
            "Still waiting!\n",
            "Still waiting!\n",
            "Still waiting!\n",
            "Still waiting!\n",
            "Still waiting!\n",
            "Still waiting!\n",
            "Still waiting!\n",
            "Still waiting!\n",
            "Still waiting!\n",
            "Still waiting!\n",
            "Still waiting!\n",
            "Still waiting!\n",
            "Still waiting!\n",
            "Still waiting!\n",
            "Still waiting!\n",
            "Still waiting!\n",
            "Still waiting!\n",
            "Still waiting!\n",
            "Still waiting!\n",
            "Still waiting!\n",
            "Still waiting!\n",
            "Still waiting!\n",
            "Still waiting!\n",
            "Still waiting!\n",
            "Still waiting!\n",
            "Still waiting!\n",
            "Still waiting!\n",
            "Still waiting!\n",
            "Still waiting!\n",
            "Still waiting!\n",
            "Still waiting!\n",
            "Still waiting!\n",
            "Still waiting!\n",
            "Still waiting!\n",
            "Still waiting!\n",
            "Still waiting!\n",
            "Still waiting!\n",
            "Still waiting!\n",
            "Still waiting!\n",
            "Still waiting!\n",
            "Still waiting!\n",
            "Still waiting!\n",
            "Still waiting!\n",
            "Still waiting!\n",
            "Still waiting!\n",
            "Still waiting!\n",
            "Still waiting!\n",
            "Still waiting!\n",
            "Still waiting!\n",
            "Still waiting!\n",
            "Still waiting!\n",
            "Still waiting!\n",
            "Still waiting!\n",
            "Still waiting!\n",
            "Still waiting!\n",
            "Still waiting!\n",
            "Still waiting!\n",
            "Still waiting!\n",
            "Still waiting!\n",
            "Still waiting!\n",
            "Still waiting!\n",
            "Still waiting!\n",
            "Still waiting!\n",
            "Still waiting!\n",
            "Still waiting!\n",
            "Still waiting!\n",
            "Still waiting!\n",
            "Still waiting!\n",
            "Still waiting!\n",
            "Still waiting!\n",
            "Still waiting!\n",
            "Still waiting!\n",
            "Still waiting!\n",
            "Still waiting!\n",
            "Still waiting!\n",
            "Still waiting!\n",
            "Still waiting!\n",
            "Still waiting!\n",
            "Still waiting!\n",
            "Still waiting!\n",
            "Still waiting!\n",
            "Still waiting!\n",
            "Still waiting!\n",
            "Still waiting!\n",
            "Still waiting!\n",
            "Still waiting!\n",
            "Still waiting!\n",
            "Still waiting!\n",
            "Still waiting!\n",
            "Still waiting!\n",
            "Still waiting!\n",
            "Still waiting!\n",
            "Still waiting!\n",
            "Still waiting!\n",
            "Still waiting!\n",
            "Still waiting!\n",
            "Still waiting!\n",
            "Still waiting!\n",
            "Still waiting!\n",
            "Still waiting!\n",
            "Still waiting!\n",
            "Still waiting!\n",
            "Still waiting!\n",
            "Still waiting!\n",
            "Still waiting!\n",
            "Still waiting!\n",
            "Still waiting!\n",
            "Still waiting!\n",
            "Still waiting!\n",
            "Still waiting!\n",
            "Still waiting!\n",
            "Still waiting!\n",
            "Still waiting!\n",
            "Still waiting!\n",
            "Still waiting!\n",
            "Still waiting!\n",
            "Still waiting!\n",
            "Still waiting!\n",
            "Still waiting!\n",
            "Still waiting!\n",
            "Still waiting!\n",
            "Still waiting!\n",
            "Still waiting!\n",
            "Still waiting!\n",
            "Still waiting!\n",
            "Still waiting!\n",
            "Still waiting!\n",
            "Still waiting!\n",
            "Still waiting!\n",
            "Still waiting!\n",
            "Still waiting!\n",
            "Still waiting!\n",
            "Still waiting!\n",
            "Still waiting!\n",
            "Still waiting!\n",
            "Still waiting!\n",
            "Still waiting!\n",
            "Still waiting!\n",
            "Still waiting!\n",
            "Still waiting!\n",
            "Still waiting!\n",
            "Still waiting!\n",
            "Still waiting!\n",
            "Still waiting!\n",
            "Still waiting!\n",
            "Still waiting!\n",
            "Still waiting!\n",
            "Still waiting!\n",
            "Still waiting!\n",
            "Still waiting!\n",
            "Still waiting!\n",
            "Still waiting!\n",
            "Still waiting!\n",
            "Still waiting!\n",
            "Still waiting!\n",
            "Still waiting!\n",
            "Still waiting!\n",
            "Still waiting!\n",
            "Still waiting!\n",
            "Still waiting!\n",
            "Still waiting!\n",
            "Still waiting!\n",
            "Still waiting!\n",
            "Still waiting!\n",
            "Still waiting!\n",
            "Still waiting!\n",
            "Still waiting!\n",
            "Still waiting!\n",
            "Still waiting!\n",
            "Still waiting!\n",
            "Still waiting!\n",
            "Still waiting!\n",
            "Still waiting!\n",
            "Still waiting!\n",
            "Still waiting!\n",
            "Still waiting!\n",
            "Still waiting!\n",
            "Still waiting!\n",
            "Still waiting!\n",
            "Still waiting!\n",
            "Still waiting!\n",
            "Still waiting!\n",
            "Still waiting!\n",
            "Still waiting!\n",
            "Still waiting!\n",
            "Still waiting!\n",
            "Still waiting!\n",
            "Still waiting!\n",
            "Still waiting!\n",
            "Still waiting!\n",
            "Still waiting!\n",
            "Still waiting!\n",
            "Still waiting!\n",
            "Still waiting!\n",
            "Still waiting!\n",
            "Still waiting!\n",
            "Still waiting!\n",
            "Still waiting!\n",
            "Still waiting!\n",
            "Still waiting!\n",
            "Still waiting!\n",
            "Still waiting!\n",
            "Still waiting!\n",
            "Still waiting!\n",
            "Still waiting!\n",
            "Still waiting!\n",
            "Still waiting!\n",
            "Still waiting!\n",
            "Still waiting!\n",
            "Still waiting!\n",
            "Still waiting!\n",
            "Still waiting!\n",
            "Still waiting!\n",
            "Still waiting!\n",
            "Still waiting!\n",
            "Still waiting!\n",
            "Still waiting!\n",
            "Still waiting!\n",
            "Still waiting!\n",
            "Still waiting!\n",
            "Still waiting!\n",
            "Still waiting!\n",
            "Still waiting!\n",
            "Still waiting!\n",
            "Still waiting!\n",
            "Still waiting!\n",
            "Still waiting!\n",
            "Still waiting!\n",
            "Still waiting!\n",
            "Still waiting!\n",
            "Still waiting!\n",
            "Still waiting!\n",
            "Still waiting!\n",
            "Still waiting!\n",
            "Still waiting!\n",
            "Still waiting!\n",
            "Still waiting!\n",
            "Still waiting!\n",
            "Still waiting!\n",
            "Still waiting!\n",
            "Still waiting!\n",
            "Still waiting!\n",
            "Still waiting!\n",
            "Still waiting!\n",
            "Still waiting!\n",
            "Still waiting!\n",
            "Still waiting!\n",
            "Still waiting!\n",
            "Still waiting!\n",
            "Still waiting!\n",
            "Still waiting!\n",
            "Still waiting!\n",
            "Still waiting!\n",
            "Still waiting!\n",
            "Still waiting!\n",
            "Still waiting!\n",
            "Still waiting!\n",
            "Still waiting!\n",
            "Still waiting!\n",
            "Still waiting!\n",
            "Still waiting!\n",
            "Still waiting!\n",
            "Still waiting!\n",
            "Still waiting!\n",
            "Still waiting!\n",
            "Still waiting!\n",
            "Still waiting!\n",
            "Still waiting!\n",
            "Still waiting!\n",
            "Still waiting!\n",
            "Still waiting!\n",
            "Still waiting!\n",
            "Still waiting!\n",
            "Still waiting!\n",
            "Still waiting!\n",
            "Still waiting!\n",
            "Still waiting!\n",
            "Still waiting!\n",
            "Still waiting!\n",
            "Still waiting!\n",
            "Still waiting!\n",
            "Still waiting!\n",
            "Still waiting!\n",
            "Still waiting!\n",
            "Still waiting!\n",
            "Still waiting!\n",
            "Still waiting!\n",
            "Still waiting!\n",
            "Still waiting!\n",
            "Still waiting!\n",
            "Still waiting!\n",
            "Still waiting!\n",
            "Still waiting!\n",
            "Still waiting!\n",
            "Still waiting!\n",
            "Still waiting!\n",
            "Still waiting!\n",
            "Still waiting!\n",
            "Still waiting!\n",
            "Still waiting!\n",
            "Still waiting!\n",
            "Still waiting!\n",
            "Still waiting!\n",
            "Still waiting!\n",
            "Still waiting!\n",
            "Still waiting!\n",
            "Still waiting!\n",
            "Still waiting!\n",
            "Still waiting!\n",
            "Still waiting!\n",
            "Still waiting!\n",
            "Still waiting!\n",
            "Still waiting!\n",
            "Still waiting!\n",
            "Still waiting!\n",
            "Still waiting!\n",
            "Still waiting!\n",
            "Still waiting!\n",
            "Still waiting!\n",
            "Still waiting!\n",
            "Still waiting!\n",
            "Still waiting!\n",
            "Still waiting!\n",
            "Still waiting!\n",
            "Still waiting!\n",
            "Still waiting!\n",
            "Still waiting!\n",
            "Still waiting!\n",
            "Still waiting!\n",
            "Still waiting!\n",
            "Still waiting!\n",
            "Still waiting!\n",
            "Still waiting!\n",
            "Still waiting!\n",
            "Still waiting!\n",
            "Still waiting!\n",
            "Still waiting!\n",
            "Still waiting!\n",
            "Still waiting!\n",
            "Still waiting!\n",
            "Still waiting!\n",
            "Still waiting!\n",
            "Still waiting!\n",
            "Still waiting!\n",
            "Still waiting!\n",
            "Still waiting!\n",
            "Still waiting!\n",
            "Still waiting!\n",
            "Still waiting!\n",
            "Still waiting!\n",
            "Still waiting!\n",
            "Still waiting!\n",
            "Still waiting!\n",
            "Still waiting!\n",
            "Still waiting!\n",
            "Still waiting!\n",
            "Still waiting!\n",
            "Still waiting!\n",
            "Still waiting!\n",
            "Still waiting!\n",
            "Still waiting!\n",
            "Still waiting!\n",
            "Still waiting!\n",
            "Still waiting!\n",
            "Still waiting!\n",
            "Still waiting!\n",
            "Still waiting!\n",
            "Still waiting!\n",
            "Still waiting!\n",
            "Still waiting!\n",
            "Still waiting!\n",
            "Still waiting!\n",
            "Still waiting!\n",
            "Still waiting!\n",
            "Still waiting!\n",
            "Still waiting!\n",
            "Still waiting!\n",
            "Still waiting!\n",
            "Still waiting!\n",
            "Still waiting!\n",
            "Still waiting!\n",
            "Still waiting!\n",
            "Still waiting!\n",
            "Still waiting!\n",
            "Still waiting!\n",
            "Still waiting!\n",
            "Still waiting!\n",
            "Still waiting!\n",
            "Still waiting!\n",
            "Still waiting!\n",
            "Still waiting!\n",
            "Still waiting!\n",
            "Still waiting!\n",
            "Still waiting!\n",
            "Still waiting!\n",
            "Still waiting!\n",
            "Still waiting!\n",
            "Still waiting!\n",
            "Still waiting!\n",
            "Still waiting!\n",
            "Still waiting!\n",
            "Still waiting!\n",
            "Still waiting!\n",
            "Still waiting!\n",
            "Still waiting!\n",
            "Still waiting!\n",
            "Still waiting!\n",
            "Still waiting!\n",
            "Still waiting!\n",
            "Still waiting!\n",
            "Still waiting!\n",
            "Still waiting!\n",
            "Still waiting!\n",
            "Still waiting!\n",
            "Still waiting!\n",
            "Still waiting!\n",
            "Still waiting!\n",
            "Still waiting!\n",
            "Still waiting!\n",
            "Still waiting!\n",
            "Still waiting!\n",
            "Still waiting!\n",
            "Still waiting!\n",
            "Still waiting!\n",
            "Still waiting!\n",
            "Still waiting!\n",
            "Still waiting!\n",
            "Still waiting!\n",
            "Still waiting!\n",
            "Still waiting!\n",
            "Still waiting!\n",
            "Still waiting!\n",
            "Still waiting!\n",
            "Still waiting!\n",
            "Still waiting!\n",
            "Still waiting!\n",
            "Still waiting!\n",
            "Still waiting!\n",
            "Still waiting!\n",
            "Still waiting!\n",
            "Still waiting!\n",
            "Still waiting!\n",
            "Still waiting!\n",
            "Still waiting!\n",
            "Still waiting!\n",
            "Still waiting!\n",
            "Still waiting!\n",
            "Still waiting!\n",
            "Still waiting!\n",
            "Still waiting!\n",
            "Still waiting!\n",
            "Still waiting!\n",
            "Still waiting!\n",
            "Still waiting!\n",
            "Still waiting!\n",
            "Still waiting!\n",
            "Still waiting!\n",
            "Still waiting!\n",
            "Still waiting!\n",
            "Still waiting!\n",
            "Still waiting!\n",
            "Still waiting!\n",
            "Still waiting!\n",
            "Still waiting!\n",
            "Still waiting!\n",
            "Still waiting!\n",
            "Still waiting!\n",
            "Still waiting!\n",
            "Still waiting!\n",
            "Still waiting!\n",
            "Still waiting!\n",
            "Still waiting!\n",
            "Still waiting!\n",
            "Still waiting!\n",
            "Still waiting!\n",
            "Still waiting!\n",
            "Still waiting!\n",
            "Still waiting!\n",
            "Still waiting!\n",
            "Still waiting!\n",
            "Still waiting!\n",
            "Still waiting!\n",
            "Still waiting!\n",
            "Still waiting!\n",
            "Still waiting!\n",
            "Still waiting!\n",
            "Still waiting!\n",
            "Still waiting!\n",
            "Still waiting!\n",
            "Still waiting!\n",
            "Still waiting!\n",
            "Still waiting!\n",
            "Still waiting!\n",
            "Still waiting!\n",
            "Still waiting!\n",
            "Still waiting!\n",
            "Still waiting!\n",
            "Still waiting!\n",
            "Still waiting!\n",
            "Still waiting!\n",
            "Still waiting!\n",
            "Still waiting!\n",
            "Still waiting!\n",
            "Still waiting!\n",
            "Still waiting!\n",
            "Still waiting!\n",
            "Still waiting!\n",
            "Still waiting!\n",
            "Still waiting!\n",
            "Still waiting!\n",
            "Still waiting!\n",
            "Still waiting!\n",
            "Still waiting!\n",
            "Still waiting!\n",
            "Still waiting!\n",
            "Still waiting!\n",
            "Still waiting!\n",
            "Still waiting!\n",
            "Still waiting!\n",
            "Still waiting!\n",
            "Still waiting!\n",
            "Still waiting!\n",
            "Still waiting!\n",
            "Still waiting!\n",
            "Still waiting!\n",
            "Still waiting!\n",
            "Still waiting!\n",
            "Still waiting!\n",
            "Still waiting!\n",
            "Still waiting!\n",
            "Still waiting!\n",
            "Still waiting!\n",
            "Still waiting!\n",
            "Still waiting!\n",
            "Still waiting!\n",
            "Still waiting!\n",
            "Still waiting!\n",
            "Still waiting!\n",
            "Still waiting!\n",
            "Still waiting!\n",
            "Still waiting!\n",
            "Still waiting!\n",
            "Still waiting!\n",
            "Still waiting!\n",
            "Still waiting!\n",
            "Still waiting!\n",
            "Still waiting!\n",
            "Still waiting!\n",
            "Still waiting!\n",
            "Still waiting!\n",
            "Still waiting!\n",
            "Still waiting!\n",
            "Still waiting!\n",
            "Still waiting!\n",
            "Still waiting!\n",
            "Still waiting!\n",
            "Still waiting!\n",
            "Still waiting!\n",
            "Still waiting!\n",
            "Still waiting!\n",
            "Still waiting!\n",
            "Still waiting!\n",
            "Still waiting!\n",
            "Still waiting!\n",
            "Still waiting!\n",
            "Still waiting!\n",
            "Still waiting!\n",
            "Still waiting!\n",
            "Still waiting!\n",
            "Still waiting!\n",
            "Still waiting!\n",
            "Still waiting!\n",
            "Still waiting!\n",
            "Still waiting!\n",
            "Still waiting!\n",
            "Still waiting!\n",
            "Still waiting!\n",
            "Still waiting!\n",
            "Still waiting!\n",
            "Still waiting!\n",
            "Still waiting!\n",
            "Still waiting!\n",
            "Still waiting!\n",
            "Still waiting!\n",
            "Still waiting!\n",
            "Still waiting!\n",
            "Still waiting!\n",
            "Still waiting!\n",
            "Still waiting!\n",
            "Still waiting!\n",
            "Still waiting!\n",
            "Still waiting!\n",
            "Still waiting!\n",
            "Still waiting!\n",
            "Still waiting!\n",
            "Still waiting!\n",
            "Still waiting!\n",
            "Still waiting!\n",
            "Still waiting!\n",
            "Still waiting!\n",
            "Still waiting!\n",
            "Still waiting!\n",
            "Still waiting!\n",
            "Still waiting!\n",
            "Still waiting!\n",
            "Still waiting!\n",
            "Still waiting!\n",
            "Still waiting!\n",
            "Still waiting!\n",
            "Still waiting!\n",
            "Still waiting!\n",
            "Still waiting!\n",
            "Still waiting!\n",
            "Still waiting!\n",
            "Still waiting!\n",
            "Still waiting!\n",
            "Still waiting!\n",
            "Still waiting!\n",
            "Still waiting!\n",
            "Still waiting!\n",
            "Still waiting!\n",
            "Still waiting!\n",
            "Still waiting!\n",
            "Still waiting!\n",
            "Still waiting!\n",
            "Still waiting!\n",
            "Still waiting!\n",
            "Still waiting!\n",
            "Still waiting!\n",
            "Still waiting!\n",
            "Still waiting!\n",
            "Still waiting!\n",
            "Still waiting!\n",
            "Still waiting!\n",
            "Still waiting!\n",
            "Still waiting!\n",
            "Still waiting!\n",
            "Still waiting!\n",
            "Still waiting!\n",
            "Still waiting!\n",
            "Still waiting!\n",
            "Still waiting!\n",
            "Still waiting!\n",
            "Still waiting!\n",
            "Still waiting!\n",
            "Still waiting!\n",
            "Still waiting!\n",
            "Still waiting!\n",
            "Still waiting!\n",
            "Still waiting!\n",
            "Still waiting!\n",
            "Still waiting!\n",
            "Still waiting!\n",
            "Still waiting!\n",
            "Still waiting!\n",
            "Still waiting!\n",
            "Still waiting!\n",
            "Still waiting!\n",
            "Still waiting!\n",
            "Still waiting!\n",
            "Still waiting!\n",
            "Still waiting!\n",
            "Still waiting!\n",
            "Still waiting!\n",
            "Still waiting!\n",
            "Still waiting!\n",
            "Still waiting!\n",
            "Still waiting!\n",
            "Still waiting!\n",
            "Still waiting!\n",
            "Still waiting!\n",
            "Still waiting!\n",
            "Still waiting!\n",
            "Still waiting!\n",
            "Still waiting!\n",
            "Still waiting!\n",
            "Still waiting!\n",
            "Still waiting!\n",
            "Still waiting!\n",
            "Still waiting!\n",
            "Still waiting!\n",
            "Still waiting!\n",
            "Still waiting!\n",
            "Still waiting!\n",
            "Still waiting!\n",
            "Still waiting!\n",
            "Still waiting!\n",
            "Still waiting!\n",
            "Still waiting!\n",
            "Still waiting!\n",
            "Still waiting!\n",
            "Still waiting!\n",
            "Still waiting!\n",
            "Still waiting!\n",
            "Still waiting!\n",
            "Still waiting!\n",
            "Still waiting!\n",
            "Still waiting!\n",
            "Still waiting!\n",
            "Still waiting!\n",
            "Still waiting!\n",
            "Still waiting!\n",
            "Still waiting!\n",
            "Still waiting!\n",
            "Still waiting!\n",
            "Still waiting!\n",
            "Still waiting!\n",
            "Still waiting!\n",
            "Still waiting!\n",
            "Still waiting!\n",
            "Still waiting!\n",
            "Still waiting!\n",
            "Still waiting!\n",
            "Still waiting!\n",
            "Still waiting!\n",
            "Still waiting!\n",
            "Still waiting!\n",
            "Still waiting!\n",
            "Still waiting!\n",
            "Still waiting!\n",
            "Still waiting!\n",
            "Still waiting!\n",
            "Still waiting!\n",
            "Still waiting!\n",
            "Still waiting!\n",
            "Still waiting!\n",
            "Still waiting!\n",
            "Still waiting!\n",
            "Still waiting!\n",
            "Still waiting!\n",
            "Still waiting!\n",
            "Still waiting!\n",
            "Still waiting!\n",
            "Still waiting!\n",
            "Still waiting!\n",
            "Still waiting!\n",
            "Still waiting!\n",
            "Still waiting!\n",
            "Still waiting!\n",
            "Still waiting!\n",
            "Still waiting!\n",
            "Still waiting!\n",
            "Still waiting!\n",
            "Still waiting!\n",
            "Still waiting!\n",
            "Still waiting!\n",
            "Still waiting!\n",
            "Still waiting!\n",
            "Still waiting!\n",
            "Still waiting!\n",
            "Still waiting!\n",
            "Still waiting!\n",
            "Still waiting!\n",
            "Still waiting!\n",
            "Still waiting!\n",
            "Still waiting!\n",
            "Still waiting!\n",
            "Still waiting!\n",
            "Still waiting!\n",
            "Still waiting!\n",
            "Still waiting!\n",
            "Still waiting!\n",
            "Still waiting!\n",
            "Still waiting!\n",
            "Still waiting!\n",
            "Still waiting!\n",
            "Still waiting!\n",
            "Still waiting!\n",
            "Still waiting!\n",
            "Still waiting!\n",
            "Still waiting!\n",
            "Still waiting!\n",
            "Still waiting!\n",
            "Still waiting!\n",
            "Still waiting!\n",
            "Still waiting!\n",
            "Still waiting!\n",
            "Still waiting!\n",
            "Still waiting!\n",
            "Still waiting!\n",
            "Still waiting!\n",
            "Still waiting!\n",
            "Still waiting!\n",
            "Still waiting!\n",
            "Still waiting!\n",
            "Still waiting!\n",
            "Still waiting!\n",
            "Still waiting!\n",
            "Still waiting!\n",
            "Still waiting!\n",
            "Still waiting!\n",
            "Still waiting!\n",
            "Still waiting!\n",
            "Still waiting!\n",
            "Still waiting!\n",
            "Still waiting!\n",
            "Still waiting!\n",
            "Still waiting!\n",
            "Still waiting!\n",
            "Still waiting!\n",
            "Still waiting!\n",
            "Still waiting!\n",
            "Still waiting!\n",
            "Still waiting!\n",
            "Still waiting!\n",
            "Still waiting!\n",
            "Still waiting!\n",
            "Still waiting!\n",
            "Still waiting!\n",
            "Still waiting!\n",
            "Still waiting!\n",
            "Still waiting!\n",
            "Still waiting!\n",
            "Still waiting!\n",
            "Still waiting!\n",
            "Still waiting!\n",
            "Still waiting!\n",
            "Still waiting!\n",
            "Still waiting!\n",
            "Still waiting!\n",
            "Still waiting!\n",
            "Still waiting!\n",
            "Still waiting!\n",
            "Still waiting!\n",
            "Still waiting!\n",
            "Still waiting!\n",
            "Still waiting!\n",
            "Still waiting!\n",
            "Still waiting!\n",
            "Still waiting!\n",
            "Still waiting!\n",
            "Still waiting!\n",
            "Still waiting!\n",
            "Still waiting!\n",
            "Still waiting!\n",
            "Still waiting!\n",
            "Still waiting!\n",
            "Still waiting!\n",
            "Still waiting!\n",
            "Still waiting!\n",
            "Still waiting!\n",
            "Still waiting!\n",
            "Still waiting!\n",
            "Still waiting!\n",
            "Still waiting!\n",
            "Still waiting!\n",
            "Still waiting!\n",
            "Still waiting!\n",
            "Still waiting!\n",
            "Still waiting!\n",
            "Still waiting!\n",
            "Still waiting!\n",
            "Still waiting!\n",
            "Still waiting!\n",
            "Still waiting!\n",
            "Still waiting!\n",
            "Still waiting!\n",
            "Still waiting!\n",
            "Still waiting!\n",
            "Still waiting!\n",
            "Still waiting!\n",
            "Still waiting!\n",
            "Still waiting!\n",
            "Still waiting!\n",
            "Still waiting!\n",
            "Still waiting!\n",
            "Still waiting!\n",
            "Still waiting!\n",
            "Still waiting!\n",
            "Still waiting!\n",
            "Still waiting!\n",
            "Still waiting!\n",
            "Still waiting!\n",
            "Still waiting!\n",
            "Still waiting!\n",
            "Still waiting!\n",
            "Still waiting!\n",
            "Still waiting!\n",
            "Still waiting!\n",
            "Still waiting!\n",
            "Still waiting!\n",
            "Still waiting!\n",
            "Still waiting!\n",
            "Still waiting!\n",
            "Still waiting!\n",
            "Still waiting!\n",
            "Still waiting!\n",
            "Still waiting!\n",
            "Still waiting!\n",
            "Still waiting!\n",
            "Still waiting!\n",
            "Still waiting!\n",
            "Still waiting!\n",
            "Still waiting!\n",
            "Still waiting!\n",
            "Still waiting!\n",
            "Still waiting!\n",
            "Still waiting!\n",
            "Still waiting!\n",
            "Still waiting!\n",
            "Still waiting!\n",
            "Still waiting!\n",
            "Still waiting!\n",
            "Still waiting!\n",
            "Still waiting!\n",
            "Still waiting!\n",
            "Still waiting!\n",
            "Still waiting!\n",
            "Still waiting!\n",
            "Still waiting!\n",
            "Still waiting!\n",
            "Still waiting!\n",
            "Still waiting!\n",
            "Still waiting!\n",
            "Still waiting!\n",
            "Still waiting!\n",
            "Still waiting!\n",
            "Still waiting!\n",
            "Still waiting!\n",
            "Still waiting!\n",
            "Still waiting!\n",
            "Still waiting!\n",
            "Still waiting!\n",
            "Still waiting!\n",
            "Still waiting!\n",
            "Still waiting!\n",
            "Still waiting!\n",
            "Still waiting!\n",
            "Still waiting!\n",
            "Still waiting!\n",
            "Still waiting!\n",
            "Still waiting!\n",
            "Still waiting!\n",
            "Still waiting!\n",
            "Still waiting!\n",
            "Still waiting!\n",
            "Still waiting!\n",
            "Still waiting!\n",
            "Still waiting!\n",
            "Still waiting!\n",
            "Still waiting!\n",
            "Still waiting!\n",
            "Still waiting!\n",
            "Still waiting!\n",
            "Still waiting!\n",
            "Still waiting!\n",
            "Still waiting!\n",
            "Still waiting!\n",
            "Still waiting!\n",
            "Still waiting!\n",
            "Still waiting!\n",
            "Still waiting!\n",
            "Still waiting!\n",
            "Still waiting!\n",
            "Still waiting!\n",
            "Still waiting!\n",
            "Still waiting!\n",
            "Still waiting!\n",
            "Still waiting!\n",
            "Still waiting!\n",
            "Still waiting!\n",
            "Still waiting!\n",
            "Still waiting!\n",
            "Still waiting!\n",
            "Still waiting!\n",
            "Still waiting!\n",
            "Still waiting!\n",
            "Still waiting!\n",
            "Still waiting!\n",
            "Still waiting!\n",
            "Still waiting!\n",
            "Still waiting!\n",
            "Still waiting!\n",
            "Still waiting!\n",
            "Still waiting!\n",
            "Still waiting!\n",
            "Still waiting!\n",
            "Still waiting!\n",
            "Still waiting!\n",
            "Still waiting!\n",
            "Still waiting!\n",
            "Still waiting!\n",
            "Still waiting!\n",
            "Still waiting!\n",
            "Still waiting!\n",
            "Still waiting!\n",
            "Still waiting!\n",
            "Still waiting!\n",
            "Still waiting!\n",
            "Still waiting!\n",
            "Still waiting!\n",
            "Still waiting!\n",
            "Still waiting!\n",
            "Still waiting!\n",
            "Still waiting!\n",
            "Still waiting!\n",
            "Still waiting!\n",
            "Still waiting!\n",
            "Still waiting!\n",
            "Still waiting!\n",
            "Still waiting!\n",
            "Still waiting!\n",
            "Still waiting!\n",
            "Still waiting!\n",
            "Still waiting!\n",
            "Still waiting!\n",
            "Still waiting!\n",
            "Still waiting!\n",
            "Still waiting!\n",
            "Still waiting!\n",
            "Still waiting!\n",
            "Still waiting!\n",
            "Still waiting!\n",
            "Still waiting!\n",
            "Still waiting!\n",
            "Still waiting!\n",
            "Still waiting!\n",
            "Still waiting!\n",
            "Still waiting!\n",
            "Still waiting!\n",
            "Still waiting!\n",
            "Still waiting!\n",
            "Still waiting!\n",
            "Still waiting!\n",
            "Still waiting!\n",
            "Still waiting!\n",
            "Still waiting!\n",
            "Still waiting!\n",
            "Still waiting!\n",
            "Still waiting!\n",
            "Still waiting!\n",
            "Still waiting!\n",
            "Still waiting!\n",
            "Still waiting!\n",
            "Still waiting!\n",
            "Still waiting!\n",
            "Still waiting!\n",
            "Still waiting!\n",
            "Still waiting!\n",
            "Still waiting!\n",
            "Still waiting!\n",
            "Still waiting!\n",
            "Still waiting!\n",
            "Still waiting!\n",
            "Still waiting!\n",
            "Still waiting!\n",
            "Still waiting!\n",
            "Still waiting!\n",
            "Still waiting!\n",
            "Still waiting!\n",
            "Still waiting!\n",
            "Still waiting!\n",
            "Still waiting!\n",
            "Still waiting!\n",
            "Still waiting!\n",
            "Still waiting!\n",
            "Still waiting!\n",
            "Still waiting!\n",
            "Still waiting!\n",
            "Still waiting!\n",
            "Still waiting!\n",
            "Still waiting!\n",
            "Still waiting!\n",
            "Still waiting!\n",
            "Still waiting!\n",
            "Still waiting!\n",
            "Still waiting!\n",
            "Still waiting!\n",
            "Still waiting!\n",
            "Still waiting!\n",
            "Still waiting!\n",
            "Still waiting!\n",
            "Still waiting!\n",
            "Still waiting!\n",
            "Still waiting!\n",
            "Still waiting!\n",
            "Still waiting!\n",
            "Still waiting!\n",
            "Still waiting!\n",
            "Still waiting!\n",
            "Still waiting!\n",
            "Still waiting!\n",
            "Still waiting!\n",
            "Still waiting!\n",
            "Still waiting!\n",
            "Still waiting!\n",
            "Still waiting!\n",
            "Still waiting!\n",
            "Still waiting!\n",
            "Still waiting!\n",
            "Still waiting!\n",
            "Still waiting!\n",
            "Still waiting!\n",
            "Still waiting!\n",
            "Still waiting!\n",
            "Still waiting!\n",
            "Still waiting!\n",
            "Still waiting!\n",
            "Still waiting!\n",
            "Still waiting!\n",
            "Still waiting!\n",
            "Still waiting!\n",
            "Still waiting!\n",
            "Still waiting!\n",
            "Still waiting!\n",
            "Still waiting!\n",
            "Still waiting!\n",
            "Still waiting!\n",
            "Still waiting!\n",
            "Still waiting!\n",
            "Still waiting!\n",
            "Still waiting!\n",
            "Still waiting!\n",
            "Still waiting!\n",
            "Still waiting!\n",
            "Still waiting!\n",
            "Still waiting!\n",
            "Still waiting!\n",
            "Still waiting!\n",
            "Still waiting!\n",
            "Still waiting!\n",
            "Still waiting!\n",
            "Still waiting!\n",
            "Still waiting!\n",
            "Still waiting!\n",
            "Still waiting!\n",
            "Still waiting!\n",
            "Still waiting!\n",
            "Still waiting!\n",
            "Still waiting!\n",
            "Still waiting!\n",
            "Still waiting!\n",
            "Still waiting!\n",
            "Still waiting!\n",
            "Still waiting!\n",
            "Still waiting!\n",
            "Still waiting!\n",
            "Still waiting!\n",
            "Still waiting!\n",
            "Still waiting!\n",
            "Still waiting!\n",
            "Still waiting!\n",
            "Still waiting!\n",
            "Still waiting!\n",
            "Still waiting!\n",
            "Still waiting!\n",
            "Still waiting!\n",
            "Still waiting!\n",
            "Still waiting!\n",
            "Still waiting!\n",
            "Still waiting!\n",
            "Still waiting!\n",
            "Still waiting!\n",
            "Still waiting!\n",
            "Still waiting!\n",
            "Still waiting!\n",
            "Still waiting!\n",
            "Still waiting!\n",
            "Still waiting!\n",
            "Still waiting!\n",
            "Still waiting!\n",
            "Still waiting!\n",
            "Still waiting!\n",
            "Still waiting!\n",
            "Still waiting!\n",
            "Still waiting!\n",
            "Still waiting!\n",
            "Still waiting!\n",
            "Still waiting!\n",
            "Still waiting!\n",
            "Still waiting!\n",
            "Still waiting!\n",
            "Still waiting!\n",
            "Still waiting!\n",
            "Still waiting!\n",
            "Still waiting!\n",
            "Still waiting!\n",
            "Still waiting!\n",
            "Still waiting!\n",
            "Still waiting!\n",
            "Still waiting!\n",
            "Still waiting!\n",
            "Still waiting!\n",
            "Still waiting!\n",
            "Still waiting!\n",
            "Still waiting!\n",
            "Still waiting!\n",
            "Still waiting!\n",
            "Still waiting!\n",
            "Still waiting!\n",
            "Still waiting!\n",
            "Still waiting!\n",
            "Still waiting!\n",
            "Still waiting!\n",
            "Still waiting!\n",
            "Still waiting!\n",
            "Still waiting!\n",
            "Still waiting!\n",
            "Still waiting!\n",
            "Still waiting!\n",
            "Still waiting!\n",
            "Still waiting!\n",
            "Still waiting!\n",
            "Still waiting!\n",
            "Still waiting!\n",
            "Still waiting!\n",
            "Still waiting!\n",
            "Still waiting!\n",
            "Still waiting!\n",
            "Still waiting!\n",
            "Still waiting!\n",
            "Still waiting!\n",
            "Still waiting!\n",
            "Still waiting!\n",
            "Still waiting!\n",
            "Still waiting!\n",
            "Still waiting!\n",
            "Still waiting!\n",
            "Still waiting!\n",
            "Still waiting!\n",
            "Still waiting!\n",
            "Still waiting!\n",
            "Still waiting!\n",
            "Still waiting!\n",
            "Still waiting!\n",
            "Still waiting!\n",
            "Still waiting!\n",
            "Still waiting!\n",
            "Still waiting!\n",
            "Still waiting!\n",
            "Still waiting!\n",
            "Still waiting!\n",
            "Still waiting!\n",
            "Still waiting!\n",
            "Still waiting!\n",
            "Still waiting!\n",
            "Still waiting!\n",
            "Still waiting!\n",
            "Still waiting!\n",
            "Still waiting!\n",
            "Still waiting!\n",
            "Still waiting!\n",
            "Still waiting!\n",
            "Still waiting!\n",
            "Still waiting!\n",
            "Still waiting!\n",
            "Still waiting!\n",
            "Still waiting!\n",
            "Still waiting!\n",
            "Still waiting!\n",
            "Still waiting!\n",
            "Still waiting!\n",
            "Still waiting!\n",
            "Still waiting!\n",
            "Still waiting!\n",
            "Still waiting!\n",
            "Still waiting!\n",
            "Still waiting!\n",
            "Still waiting!\n",
            "Still waiting!\n",
            "Still waiting!\n",
            "Still waiting!\n",
            "Still waiting!\n",
            "Still waiting!\n",
            "Still waiting!\n",
            "Still waiting!\n",
            "Still waiting!\n",
            "Still waiting!\n",
            "Still waiting!\n",
            "Still waiting!\n",
            "Still waiting!\n",
            "Still waiting!\n",
            "Still waiting!\n",
            "Still waiting!\n",
            "Still waiting!\n",
            "Still waiting!\n",
            "Still waiting!\n",
            "Still waiting!\n",
            "Still waiting!\n",
            "Still waiting!\n",
            "Still waiting!\n",
            "Still waiting!\n",
            "Still waiting!\n",
            "Still waiting!\n",
            "Still waiting!\n",
            "Still waiting!\n",
            "Still waiting!\n",
            "Still waiting!\n",
            "Still waiting!\n",
            "Still waiting!\n",
            "Still waiting!\n",
            "Still waiting!\n",
            "Still waiting!\n",
            "Still waiting!\n",
            "Still waiting!\n",
            "Still waiting!\n",
            "Still waiting!\n",
            "Still waiting!\n",
            "Still waiting!\n",
            "Still waiting!\n",
            "Still waiting!\n",
            "Still waiting!\n",
            "Still waiting!\n",
            "Still waiting!\n",
            "Still waiting!\n",
            "Still waiting!\n",
            "Still waiting!\n",
            "Still waiting!\n",
            "Still waiting!\n",
            "Still waiting!\n",
            "Still waiting!\n",
            "Still waiting!\n",
            "Still waiting!\n",
            "Still waiting!\n",
            "Still waiting!\n",
            "Still waiting!\n",
            "Still waiting!\n",
            "Still waiting!\n",
            "Still waiting!\n",
            "Still waiting!\n",
            "Still waiting!\n",
            "Still waiting!\n",
            "Still waiting!\n",
            "Still waiting!\n",
            "Still waiting!\n",
            "Still waiting!\n",
            "Still waiting!\n",
            "Still waiting!\n",
            "Still waiting!\n",
            "Still waiting!\n",
            "Still waiting!\n",
            "Still waiting!\n",
            "Still waiting!\n",
            "Still waiting!\n",
            "Still waiting!\n",
            "Still waiting!\n",
            "Still waiting!\n",
            "Still waiting!\n",
            "Still waiting!\n",
            "Still waiting!\n",
            "Still waiting!\n",
            "Still waiting!\n",
            "Still waiting!\n",
            "Still waiting!\n",
            "Still waiting!\n",
            "Still waiting!\n",
            "Still waiting!\n",
            "Still waiting!\n",
            "Still waiting!\n",
            "Still waiting!\n",
            "Still waiting!\n",
            "Still waiting!\n",
            "Still waiting!\n",
            "Still waiting!\n",
            "Still waiting!\n",
            "Still waiting!\n",
            "Still waiting!\n",
            "Still waiting!\n",
            "Still waiting!\n",
            "Still waiting!\n",
            "Still waiting!\n",
            "Still waiting!\n",
            "Still waiting!\n",
            "Still waiting!\n",
            "Still waiting!\n",
            "Still waiting!\n",
            "Still waiting!\n",
            "Still waiting!\n",
            "Still waiting!\n",
            "Still waiting!\n",
            "Still waiting!\n",
            "Still waiting!\n",
            "Still waiting!\n",
            "Still waiting!\n",
            "Still waiting!\n",
            "Still waiting!\n",
            "Still waiting!\n",
            "Still waiting!\n",
            "Still waiting!\n",
            "Still waiting!\n",
            "Still waiting!\n",
            "Still waiting!\n",
            "Still waiting!\n",
            "Still waiting!\n",
            "Still waiting!\n",
            "Still waiting!\n",
            "Still waiting!\n",
            "Still waiting!\n",
            "Still waiting!\n",
            "Still waiting!\n",
            "Still waiting!\n",
            "Still waiting!\n",
            "Still waiting!\n",
            "Still waiting!\n",
            "Still waiting!\n",
            "Still waiting!\n",
            "Still waiting!\n",
            "Still waiting!\n",
            "Still waiting!\n",
            "Still waiting!\n",
            "Still waiting!\n",
            "Still waiting!\n",
            "Still waiting!\n",
            "Still waiting!\n",
            "Still waiting!\n",
            "Still waiting!\n",
            "Still waiting!\n",
            "Still waiting!\n",
            "Still waiting!\n",
            "Still waiting!\n",
            "Still waiting!\n",
            "Still waiting!\n",
            "Still waiting!\n",
            "Still waiting!\n",
            "Still waiting!\n",
            "Still waiting!\n",
            "Still waiting!\n",
            "Still waiting!\n",
            "Still waiting!\n",
            "Still waiting!\n",
            "Still waiting!\n",
            "Still waiting!\n",
            "Still waiting!\n",
            "Still waiting!\n",
            "Still waiting!\n",
            "Still waiting!\n",
            "Still waiting!\n",
            "Still waiting!\n",
            "Still waiting!\n",
            "Still waiting!\n",
            "Still waiting!\n",
            "Still waiting!\n",
            "Still waiting!\n",
            "Still waiting!\n",
            "Still waiting!\n",
            "Still waiting!\n",
            "Still waiting!\n",
            "Still waiting!\n",
            "Still waiting!\n",
            "Still waiting!\n",
            "Still waiting!\n",
            "Still waiting!\n",
            "Still waiting!\n",
            "Still waiting!\n",
            "Still waiting!\n",
            "Still waiting!\n",
            "Still waiting!\n",
            "Still waiting!\n",
            "Still waiting!\n",
            "Still waiting!\n",
            "Still waiting!\n",
            "Still waiting!\n",
            "Still waiting!\n",
            "Still waiting!\n",
            "Still waiting!\n",
            "Still waiting!\n",
            "Still waiting!\n",
            "Still waiting!\n",
            "Still waiting!\n",
            "Still waiting!\n",
            "Still waiting!\n",
            "Still waiting!\n",
            "Still waiting!\n",
            "Still waiting!\n",
            "Still waiting!\n",
            "Still waiting!\n",
            "Still waiting!\n",
            "Still waiting!\n",
            "Still waiting!\n",
            "Still waiting!\n",
            "Still waiting!\n",
            "Still waiting!\n",
            "Still waiting!\n",
            "Still waiting!\n",
            "Still waiting!\n",
            "Still waiting!\n",
            "Still waiting!\n",
            "Still waiting!\n",
            "Still waiting!\n",
            "Still waiting!\n",
            "Still waiting!\n",
            "Still waiting!\n",
            "Still waiting!\n",
            "Still waiting!\n",
            "Still waiting!\n",
            "Still waiting!\n",
            "Still waiting!\n",
            "Still waiting!\n",
            "Still waiting!\n",
            "Still waiting!\n",
            "Still waiting!\n",
            "Still waiting!\n",
            "Still waiting!\n",
            "Still waiting!\n",
            "Still waiting!\n",
            "Still waiting!\n",
            "Still waiting!\n",
            "Still waiting!\n",
            "Still waiting!\n",
            "Still waiting!\n",
            "Still waiting!\n",
            "Still waiting!\n",
            "Still waiting!\n",
            "Still waiting!\n",
            "Still waiting!\n",
            "Still waiting!\n",
            "Still waiting!\n",
            "Still waiting!\n",
            "Still waiting!\n",
            "Still waiting!\n",
            "Still waiting!\n",
            "Still waiting!\n",
            "Still waiting!\n",
            "Still waiting!\n",
            "Still waiting!\n",
            "Still waiting!\n",
            "Still waiting!\n",
            "Still waiting!\n",
            "Still waiting!\n",
            "Still waiting!\n",
            "Still waiting!\n",
            "Still waiting!\n",
            "Still waiting!\n",
            "Still waiting!\n",
            "Still waiting!\n",
            "Still waiting!\n",
            "Still waiting!\n",
            "Still waiting!\n",
            "Still waiting!\n",
            "Still waiting!\n",
            "Still waiting!\n",
            "Still waiting!\n",
            "Still waiting!\n",
            "Still waiting!\n",
            "Still waiting!\n",
            "Still waiting!\n",
            "Still waiting!\n",
            "Still waiting!\n",
            "Still waiting!\n",
            "Still waiting!\n",
            "Still waiting!\n",
            "Still waiting!\n",
            "Still waiting!\n",
            "Still waiting!\n",
            "Still waiting!\n",
            "Still waiting!\n",
            "Still waiting!\n",
            "Still waiting!\n",
            "Still waiting!\n",
            "Still waiting!\n",
            "Still waiting!\n",
            "Still waiting!\n",
            "Still waiting!\n",
            "Still waiting!\n",
            "Still waiting!\n",
            "Still waiting!\n",
            "Still waiting!\n",
            "Still waiting!\n",
            "Still waiting!\n",
            "Still waiting!\n",
            "Still waiting!\n",
            "Still waiting!\n",
            "Still waiting!\n",
            "Still waiting!\n",
            "Still waiting!\n",
            "Still waiting!\n",
            "Still waiting!\n",
            "Still waiting!\n",
            "Still waiting!\n",
            "Still waiting!\n",
            "Still waiting!\n",
            "Still waiting!\n",
            "Still waiting!\n",
            "Still waiting!\n",
            "Still waiting!\n",
            "Still waiting!\n",
            "Still waiting!\n",
            "Still waiting!\n",
            "Still waiting!\n",
            "Still waiting!\n",
            "Still waiting!\n",
            "Still waiting!\n",
            "Still waiting!\n",
            "Still waiting!\n",
            "Still waiting!\n",
            "Still waiting!\n",
            "Still waiting!\n",
            "Still waiting!\n",
            "Still waiting!\n",
            "Still waiting!\n",
            "Still waiting!\n",
            "Still waiting!\n",
            "Still waiting!\n",
            "Still waiting!\n",
            "Still waiting!\n",
            "Still waiting!\n",
            "Still waiting!\n",
            "Still waiting!\n",
            "Still waiting!\n",
            "Still waiting!\n",
            "Still waiting!\n",
            "Still waiting!\n",
            "Still waiting!\n",
            "Still waiting!\n",
            "Still waiting!\n",
            "Still waiting!\n",
            "Still waiting!\n",
            "Still waiting!\n",
            "Still waiting!\n",
            "Still waiting!\n",
            "Still waiting!\n",
            "Still waiting!\n",
            "Still waiting!\n",
            "Still waiting!\n",
            "Still waiting!\n",
            "Still waiting!\n",
            "Still waiting!\n",
            "Still waiting!\n",
            "Still waiting!\n",
            "Still waiting!\n",
            "Still waiting!\n",
            "Still waiting!\n",
            "Still waiting!\n",
            "Still waiting!\n",
            "Still waiting!\n",
            "Still waiting!\n",
            "Still waiting!\n",
            "Still waiting!\n",
            "Still waiting!\n",
            "Still waiting!\n",
            "Still waiting!\n",
            "Still waiting!\n",
            "Still waiting!\n",
            "Still waiting!\n",
            "Still waiting!\n",
            "Still waiting!\n",
            "Still waiting!\n",
            "Still waiting!\n",
            "Still waiting!\n",
            "Still waiting!\n",
            "Still waiting!\n",
            "Still waiting!\n",
            "Still waiting!\n",
            "Still waiting!\n",
            "Still waiting!\n",
            "Still waiting!\n",
            "Still waiting!\n",
            "Still waiting!\n",
            "Still waiting!\n",
            "Still waiting!\n",
            "Still waiting!\n",
            "Still waiting!\n",
            "Still waiting!\n",
            "Still waiting!\n",
            "Still waiting!\n",
            "Still waiting!\n",
            "Still waiting!\n",
            "Still waiting!\n",
            "Still waiting!\n",
            "Still waiting!\n",
            "Still waiting!\n",
            "Still waiting!\n",
            "Still waiting!\n",
            "Still waiting!\n",
            "Still waiting!\n",
            "Still waiting!\n",
            "Still waiting!\n",
            "Still waiting!\n",
            "Still waiting!\n",
            "Still waiting!\n",
            "Still waiting!\n",
            "Still waiting!\n",
            "Still waiting!\n",
            "Still waiting!\n",
            "Still waiting!\n",
            "Still waiting!\n",
            "Still waiting!\n",
            "Still waiting!\n",
            "Still waiting!\n",
            "Still waiting!\n",
            "Still waiting!\n",
            "Still waiting!\n",
            "Still waiting!\n",
            "Still waiting!\n",
            "Still waiting!\n",
            "Still waiting!\n",
            "Still waiting!\n",
            "Still waiting!\n",
            "Still waiting!\n",
            "Still waiting!\n",
            "Still waiting!\n",
            "Still waiting!\n",
            "Still waiting!\n",
            "Still waiting!\n",
            "Still waiting!\n",
            "Still waiting!\n",
            "Still waiting!\n",
            "Still waiting!\n",
            "Still waiting!\n",
            "Still waiting!\n",
            "Still waiting!\n",
            "Still waiting!\n",
            "Still waiting!\n",
            "Still waiting!\n",
            "Still waiting!\n",
            "Still waiting!\n",
            "Still waiting!\n",
            "Still waiting!\n",
            "Still waiting!\n",
            "Still waiting!\n",
            "Still waiting!\n",
            "Still waiting!\n",
            "Still waiting!\n",
            "Still waiting!\n",
            "Still waiting!\n",
            "Still waiting!\n",
            "Still waiting!\n",
            "Still waiting!\n",
            "Still waiting!\n",
            "Still waiting!\n",
            "Still waiting!\n",
            "Still waiting!\n",
            "Still waiting!\n",
            "Still waiting!\n",
            "Still waiting!\n",
            "Still waiting!\n",
            "Still waiting!\n",
            "Still waiting!\n",
            "Still waiting!\n",
            "Still waiting!\n",
            "Still waiting!\n",
            "Still waiting!\n",
            "Still waiting!\n",
            "Still waiting!\n",
            "Still waiting!\n",
            "Still waiting!\n",
            "Still waiting!\n",
            "Still waiting!\n",
            "Still waiting!\n",
            "Still waiting!\n",
            "Still waiting!\n",
            "Still waiting!\n",
            "Still waiting!\n",
            "Still waiting!\n",
            "Still waiting!\n",
            "Still waiting!\n",
            "Still waiting!\n",
            "Still waiting!\n",
            "Still waiting!\n",
            "Still waiting!\n",
            "Still waiting!\n",
            "Still waiting!\n",
            "Still waiting!\n",
            "Still waiting!\n",
            "Still waiting!\n",
            "Still waiting!\n",
            "Still waiting!\n",
            "Still waiting!\n",
            "Still waiting!\n",
            "Still waiting!\n",
            "Still waiting!\n",
            "Still waiting!\n",
            "Still waiting!\n",
            "Still waiting!\n",
            "Still waiting!\n",
            "Still waiting!\n",
            "Still waiting!\n",
            "Still waiting!\n",
            "Still waiting!\n",
            "Still waiting!\n",
            "Still waiting!\n",
            "Still waiting!\n",
            "Still waiting!\n",
            "Still waiting!\n",
            "Still waiting!\n",
            "Still waiting!\n",
            "Still waiting!\n",
            "Still waiting!\n",
            "Still waiting!\n",
            "Still waiting!\n",
            "Still waiting!\n",
            "Still waiting!\n",
            "Still waiting!\n",
            "Still waiting!\n",
            "Still waiting!\n",
            "Still waiting!\n",
            "Still waiting!\n",
            "Still waiting!\n",
            "Still waiting!\n",
            "Still waiting!\n",
            "Still waiting!\n",
            "Still waiting!\n",
            "Still waiting!\n",
            "Still waiting!\n",
            "Still waiting!\n",
            "Still waiting!\n",
            "Still waiting!\n",
            "Still waiting!\n",
            "Still waiting!\n",
            "Still waiting!\n",
            "Still waiting!\n",
            "Still waiting!\n",
            "Still waiting!\n",
            "Still waiting!\n",
            "Still waiting!\n",
            "Still waiting!\n",
            "Still waiting!\n",
            "Still waiting!\n",
            "Still waiting!\n",
            "Still waiting!\n",
            "Still waiting!\n",
            "Still waiting!\n",
            "Still waiting!\n",
            "Still waiting!\n",
            "Still waiting!\n",
            "Still waiting!\n",
            "Still waiting!\n",
            "Still waiting!\n",
            "Still waiting!\n",
            "Still waiting!\n",
            "Still waiting!\n",
            "Still waiting!\n",
            "Still waiting!\n",
            "Still waiting!\n",
            "Still waiting!\n",
            "Still waiting!\n",
            "Still waiting!\n",
            "Still waiting!\n",
            "Still waiting!\n",
            "Still waiting!\n",
            "Still waiting!\n",
            "Still waiting!\n",
            "Still waiting!\n",
            "Still waiting!\n",
            "Still waiting!\n",
            "Still waiting!\n",
            "Still waiting!\n",
            "Still waiting!\n",
            "Still waiting!\n",
            "Still waiting!\n",
            "Still waiting!\n",
            "Still waiting!\n",
            "Still waiting!\n",
            "Still waiting!\n",
            "Still waiting!\n",
            "Still waiting!\n",
            "Still waiting!\n",
            "Still waiting!\n",
            "Still waiting!\n",
            "Still waiting!\n",
            "Still waiting!\n",
            "Still waiting!\n",
            "Still waiting!\n",
            "Still waiting!\n",
            "Still waiting!\n",
            "Still waiting!\n",
            "Still waiting!\n",
            "Still waiting!\n",
            "Still waiting!\n",
            "Still waiting!\n",
            "Still waiting!\n",
            "Still waiting!\n",
            "Still waiting!\n",
            "Still waiting!\n",
            "Still waiting!\n",
            "Still waiting!\n",
            "Still waiting!\n",
            "Still waiting!\n",
            "Still waiting!\n",
            "Still waiting!\n",
            "Still waiting!\n",
            "Still waiting!\n",
            "Still waiting!\n",
            "Still waiting!\n",
            "Still waiting!\n",
            "Still waiting!\n",
            "Still waiting!\n",
            "Still waiting!\n",
            "Still waiting!\n",
            "Still waiting!\n",
            "Still waiting!\n",
            "Still waiting!\n",
            "Still waiting!\n",
            "Still waiting!\n",
            "Still waiting!\n",
            "Still waiting!\n",
            "Still waiting!\n",
            "Still waiting!\n",
            "Still waiting!\n",
            "Still waiting!\n",
            "Still waiting!\n",
            "Still waiting!\n",
            "Still waiting!\n",
            "Still waiting!\n",
            "Still waiting!\n",
            "Still waiting!\n",
            "Still waiting!\n",
            "Still waiting!\n",
            "Still waiting!\n",
            "Still waiting!\n",
            "Still waiting!\n",
            "Still waiting!\n",
            "Still waiting!\n",
            "Still waiting!\n",
            "Still waiting!\n",
            "Still waiting!\n",
            "Still waiting!\n",
            "Still waiting!\n",
            "Still waiting!\n",
            "Still waiting!\n",
            "Still waiting!\n",
            "Still waiting!\n",
            "Still waiting!\n",
            "Still waiting!\n",
            "Still waiting!\n",
            "Still waiting!\n",
            "Still waiting!\n",
            "Still waiting!\n",
            "Still waiting!\n",
            "Still waiting!\n",
            "Still waiting!\n",
            "Still waiting!\n",
            "Still waiting!\n",
            "Still waiting!\n",
            "Still waiting!\n",
            "Still waiting!\n",
            "Still waiting!\n",
            "Still waiting!\n",
            "Still waiting!\n",
            "Still waiting!\n",
            "Still waiting!\n",
            "Still waiting!\n",
            "Still waiting!\n",
            "Still waiting!\n",
            "Still waiting!\n",
            "Still waiting!\n",
            "Still waiting!\n",
            "Still waiting!\n",
            "Still waiting!\n",
            "Still waiting!\n",
            "Still waiting!\n",
            "Still waiting!\n",
            "Still waiting!\n",
            "Still waiting!\n",
            "Still waiting!\n",
            "Still waiting!\n",
            "Still waiting!\n",
            "Still waiting!\n",
            "Still waiting!\n",
            "Still waiting!\n",
            "Still waiting!\n",
            "Still waiting!\n",
            "Still waiting!\n",
            "Still waiting!\n",
            "Still waiting!\n",
            "Still waiting!\n",
            "Still waiting!\n",
            "Still waiting!\n",
            "Still waiting!\n",
            "Still waiting!\n",
            "Still waiting!\n",
            "Still waiting!\n",
            "Still waiting!\n",
            "Still waiting!\n",
            "Still waiting!\n",
            "Still waiting!\n",
            "Still waiting!\n",
            "Still waiting!\n",
            "Still waiting!\n",
            "Still waiting!\n",
            "Still waiting!\n",
            "Still waiting!\n",
            "Still waiting!\n",
            "Still waiting!\n",
            "Still waiting!\n",
            "Still waiting!\n",
            "Still waiting!\n",
            "Still waiting!\n",
            "Still waiting!\n",
            "Still waiting!\n",
            "Still waiting!\n",
            "Still waiting!\n",
            "Still waiting!\n",
            "Still waiting!\n",
            "Still waiting!\n",
            "Still waiting!\n",
            "Still waiting!\n",
            "Still waiting!\n",
            "Still waiting!\n",
            "Still waiting!\n",
            "Still waiting!\n",
            "Still waiting!\n",
            "Still waiting!\n",
            "Still waiting!\n",
            "Still waiting!\n",
            "Still waiting!\n",
            "Still waiting!\n",
            "Still waiting!\n",
            "Still waiting!\n",
            "Still waiting!\n",
            "Still waiting!\n",
            "Still waiting!\n",
            "Still waiting!\n",
            "Still waiting!\n",
            "Still waiting!\n",
            "Still waiting!\n",
            "Still waiting!\n",
            "Still waiting!\n",
            "Still waiting!\n",
            "Still waiting!\n",
            "Still waiting!\n",
            "Still waiting!\n",
            "Still waiting!\n",
            "Still waiting!\n",
            "Still waiting!\n",
            "Still waiting!\n",
            "Still waiting!\n",
            "Still waiting!\n",
            "Still waiting!\n",
            "Still waiting!\n",
            "Still waiting!\n",
            "Still waiting!\n",
            "Still waiting!\n",
            "Still waiting!\n",
            "Still waiting!\n",
            "Still waiting!\n",
            "Still waiting!\n",
            "Still waiting!\n",
            "Still waiting!\n",
            "Still waiting!\n",
            "Still waiting!\n",
            "Still waiting!\n",
            "Still waiting!\n",
            "Still waiting!\n",
            "Still waiting!\n",
            "Still waiting!\n",
            "Still waiting!\n",
            "Still waiting!\n",
            "Still waiting!\n",
            "Still waiting!\n",
            "Still waiting!\n",
            "Still waiting!\n",
            "Still waiting!\n",
            "Still waiting!\n",
            "Still waiting!\n",
            "Still waiting!\n",
            "Still waiting!\n",
            "Still waiting!\n",
            "Still waiting!\n",
            "Still waiting!\n",
            "Still waiting!\n",
            "Still waiting!\n",
            "Still waiting!\n",
            "Still waiting!\n",
            "Still waiting!\n",
            "Still waiting!\n",
            "Still waiting!\n",
            "Still waiting!\n",
            "Still waiting!\n",
            "Still waiting!\n",
            "Still waiting!\n",
            "Still waiting!\n",
            "Still waiting!\n",
            "Still waiting!\n",
            "Still waiting!\n",
            "Still waiting!\n",
            "Still waiting!\n",
            "Still waiting!\n",
            "Still waiting!\n",
            "Still waiting!\n",
            "Still waiting!\n",
            "Still waiting!\n",
            "Still waiting!\n",
            "Still waiting!\n",
            "Still waiting!\n",
            "Still waiting!\n",
            "Still waiting!\n",
            "Still waiting!\n",
            "Still waiting!\n",
            "Still waiting!\n",
            "Still waiting!\n",
            "Still waiting!\n",
            "Still waiting!\n",
            "Still waiting!\n",
            "Still waiting!\n",
            "Still waiting!\n",
            "Still waiting!\n",
            "Still waiting!\n",
            "Still waiting!\n",
            "Still waiting!\n",
            "Still waiting!\n",
            "Still waiting!\n",
            "Still waiting!\n",
            "Still waiting!\n",
            "Still waiting!\n",
            "Still waiting!\n",
            "Still waiting!\n",
            "Still waiting!\n",
            "Still waiting!\n",
            "Still waiting!\n",
            "Still waiting!\n",
            "Still waiting!\n",
            "Still waiting!\n",
            "Still waiting!\n",
            "Still waiting!\n",
            "Still waiting!\n",
            "Still waiting!\n",
            "Still waiting!\n",
            "Still waiting!\n",
            "Still waiting!\n",
            "Still waiting!\n",
            "Still waiting!\n",
            "Still waiting!\n",
            "Still waiting!\n",
            "Still waiting!\n",
            "Still waiting!\n",
            "Still waiting!\n",
            "Still waiting!\n",
            "Still waiting!\n",
            "Still waiting!\n",
            "Still waiting!\n",
            "Still waiting!\n",
            "Still waiting!\n",
            "Still waiting!\n",
            "Still waiting!\n",
            "Still waiting!\n",
            "Still waiting!\n",
            "Still waiting!\n",
            "Still waiting!\n",
            "Still waiting!\n",
            "Still waiting!\n",
            "Still waiting!\n",
            "Still waiting!\n",
            "Still waiting!\n",
            "Still waiting!\n",
            "Still waiting!\n",
            "Still waiting!\n",
            "Still waiting!\n",
            "Still waiting!\n",
            "Still waiting!\n",
            "Still waiting!\n",
            "Still waiting!\n",
            "Still waiting!\n",
            "Still waiting!\n",
            "Still waiting!\n",
            "Still waiting!\n",
            "Still waiting!\n",
            "Still waiting!\n",
            "Still waiting!\n",
            "Still waiting!\n",
            "Still waiting!\n",
            "Still waiting!\n",
            "Still waiting!\n",
            "Still waiting!\n",
            "Still waiting!\n",
            "Still waiting!\n",
            "Still waiting!\n",
            "Still waiting!\n",
            "Still waiting!\n",
            "Still waiting!\n",
            "Still waiting!\n",
            "Still waiting!\n",
            "Still waiting!\n",
            "Still waiting!\n",
            "Still waiting!\n",
            "Still waiting!\n",
            "Still waiting!\n",
            "Still waiting!\n",
            "Still waiting!\n",
            "Still waiting!\n",
            "Still waiting!\n",
            "Still waiting!\n",
            "Still waiting!\n",
            "Still waiting!\n",
            "Still waiting!\n",
            "Still waiting!\n",
            "Still waiting!\n",
            "Still waiting!\n",
            "Still waiting!\n",
            "Still waiting!\n",
            "Still waiting!\n",
            "Still waiting!\n",
            "Still waiting!\n",
            "Still waiting!\n",
            "Still waiting!\n",
            "Still waiting!\n",
            "Still waiting!\n",
            "Still waiting!\n",
            "Still waiting!\n",
            "Still waiting!\n",
            "Still waiting!\n",
            "Still waiting!\n",
            "Still waiting!\n",
            "Still waiting!\n",
            "Still waiting!\n",
            "Still waiting!\n",
            "Still waiting!\n",
            "Still waiting!\n",
            "Still waiting!\n",
            "Still waiting!\n",
            "Still waiting!\n",
            "Still waiting!\n",
            "Still waiting!\n",
            "Still waiting!\n",
            "Still waiting!\n",
            "Still waiting!\n",
            "Still waiting!\n",
            "Still waiting!\n",
            "Still waiting!\n",
            "Still waiting!\n",
            "Still waiting!\n",
            "Still waiting!\n",
            "Still waiting!\n",
            "Still waiting!\n",
            "Still waiting!\n",
            "Still waiting!\n",
            "Still waiting!\n",
            "Still waiting!\n",
            "Still waiting!\n",
            "Still waiting!\n",
            "Still waiting!\n",
            "Still waiting!\n",
            "Still waiting!\n",
            "Still waiting!\n",
            "Still waiting!\n",
            "Still waiting!\n",
            "Still waiting!\n",
            "Still waiting!\n",
            "Still waiting!\n",
            "Still waiting!\n",
            "Still waiting!\n",
            "Still waiting!\n",
            "Still waiting!\n",
            "Still waiting!\n",
            "Still waiting!\n",
            "Still waiting!\n",
            "Still waiting!\n",
            "Still waiting!\n",
            "Still waiting!\n",
            "Still waiting!\n",
            "Still waiting!\n",
            "Still waiting!\n",
            "Still waiting!\n",
            "Still waiting!\n",
            "Still waiting!\n",
            "Still waiting!\n",
            "Still waiting!\n",
            "Still waiting!\n",
            "Still waiting!\n",
            "Still waiting!\n",
            "Still waiting!\n",
            "Still waiting!\n",
            "Still waiting!\n",
            "Still waiting!\n",
            "Still waiting!\n",
            "Still waiting!\n",
            "Still waiting!\n",
            "Still waiting!\n",
            "Still waiting!\n",
            "Still waiting!\n",
            "Still waiting!\n",
            "Still waiting!\n",
            "Still waiting!\n",
            "Still waiting!\n",
            "Still waiting!\n",
            "Still waiting!\n",
            "Still waiting!\n",
            "Still waiting!\n",
            "Still waiting!\n",
            "Still waiting!\n",
            "Still waiting!\n",
            "Still waiting!\n",
            "Still waiting!\n",
            "Still waiting!\n",
            "Still waiting!\n",
            "Still waiting!\n",
            "Still waiting!\n",
            "Still waiting!\n",
            "Still waiting!\n",
            "Still waiting!\n",
            "Still waiting!\n",
            "Still waiting!\n",
            "Still waiting!\n",
            "Still waiting!\n",
            "Still waiting!\n",
            "Still waiting!\n",
            "Still waiting!\n",
            "Still waiting!\n",
            "Still waiting!\n",
            "Still waiting!\n",
            "Still waiting!\n",
            "Still waiting!\n",
            "Still waiting!\n",
            "Still waiting!\n",
            "Still waiting!\n",
            "Still waiting!\n",
            "Still waiting!\n",
            "Still waiting!\n",
            "Still waiting!\n",
            "Still waiting!\n",
            "Still waiting!\n",
            "Still waiting!\n",
            "Still waiting!\n",
            "Still waiting!\n",
            "Still waiting!\n",
            "Still waiting!\n",
            "Still waiting!\n",
            "Still waiting!\n",
            "Still waiting!\n",
            "Still waiting!\n",
            "Still waiting!\n",
            "Still waiting!\n",
            "Still waiting!\n",
            "Still waiting!\n",
            "Still waiting!\n",
            "Still waiting!\n",
            "Still waiting!\n",
            "Still waiting!\n",
            "Still waiting!\n",
            "Still waiting!\n",
            "Still waiting!\n",
            "Still waiting!\n",
            "Still waiting!\n",
            "Still waiting!\n",
            "Still waiting!\n",
            "Still waiting!\n",
            "Still waiting!\n",
            "Still waiting!\n",
            "Still waiting!\n",
            "Still waiting!\n",
            "Still waiting!\n",
            "Still waiting!\n",
            "Still waiting!\n",
            "Still waiting!\n",
            "Still waiting!\n",
            "Still waiting!\n",
            "Still waiting!\n",
            "Still waiting!\n",
            "Still waiting!\n",
            "Still waiting!\n",
            "Still waiting!\n",
            "Still waiting!\n",
            "Still waiting!\n",
            "Still waiting!\n",
            "Still waiting!\n",
            "Still waiting!\n",
            "Still waiting!\n",
            "Still waiting!\n",
            "Still waiting!\n",
            "Still waiting!\n",
            "Still waiting!\n",
            "Still waiting!\n",
            "Still waiting!\n",
            "Still waiting!\n",
            "Still waiting!\n",
            "Still waiting!\n",
            "Still waiting!\n",
            "Still waiting!\n",
            "Still waiting!\n",
            "Still waiting!\n",
            "Still waiting!\n",
            "Still waiting!\n",
            "Still waiting!\n",
            "Still waiting!\n",
            "Still waiting!\n",
            "Still waiting!\n",
            "Still waiting!\n",
            "Still waiting!\n",
            "Still waiting!\n",
            "Still waiting!\n",
            "Still waiting!\n",
            "Still waiting!\n",
            "Still waiting!\n",
            "Still waiting!\n",
            "Still waiting!\n",
            "Still waiting!\n",
            "Still waiting!\n",
            "Still waiting!\n",
            "Still waiting!\n",
            "Still waiting!\n",
            "Still waiting!\n",
            "Still waiting!\n",
            "Still waiting!\n",
            "Still waiting!\n",
            "Still waiting!\n",
            "Still waiting!\n",
            "Still waiting!\n",
            "Still waiting!\n",
            "Still waiting!\n",
            "Still waiting!\n",
            "Still waiting!\n",
            "Still waiting!\n",
            "Still waiting!\n",
            "Still waiting!\n",
            "Still waiting!\n",
            "Still waiting!\n",
            "Still waiting!\n",
            "Still waiting!\n",
            "Still waiting!\n",
            "Still waiting!\n",
            "Still waiting!\n",
            "Still waiting!\n",
            "Still waiting!\n",
            "Still waiting!\n",
            "Still waiting!\n",
            "Still waiting!\n",
            "Still waiting!\n",
            "Still waiting!\n",
            "Still waiting!\n",
            "Still waiting!\n",
            "Still waiting!\n",
            "Still waiting!\n",
            "Still waiting!\n",
            "Still waiting!\n",
            "Still waiting!\n",
            "Still waiting!\n",
            "Still waiting!\n",
            "Still waiting!\n",
            "Still waiting!\n",
            "Still waiting!\n",
            "Still waiting!\n",
            "Still waiting!\n",
            "Still waiting!\n",
            "Still waiting!\n",
            "Still waiting!\n",
            "Still waiting!\n",
            "Still waiting!\n",
            "Still waiting!\n",
            "Still waiting!\n",
            "Still waiting!\n",
            "Still waiting!\n",
            "Still waiting!\n",
            "Still waiting!\n",
            "Still waiting!\n",
            "Still waiting!\n",
            "Still waiting!\n",
            "Still waiting!\n",
            "Still waiting!\n",
            "Still waiting!\n",
            "Still waiting!\n",
            "Still waiting!\n",
            "Still waiting!\n",
            "Still waiting!\n",
            "Still waiting!\n",
            "Still waiting!\n",
            "Still waiting!\n",
            "Still waiting!\n",
            "Still waiting!\n",
            "Still waiting!\n",
            "Still waiting!\n",
            "Still waiting!\n",
            "Still waiting!\n",
            "Still waiting!\n",
            "Still waiting!\n",
            "Still waiting!\n",
            "Still waiting!\n",
            "Still waiting!\n",
            "Still waiting!\n",
            "Still waiting!\n",
            "Still waiting!\n",
            "Still waiting!\n",
            "Still waiting!\n",
            "Still waiting!\n",
            "Still waiting!\n",
            "Still waiting!\n",
            "Still waiting!\n",
            "Still waiting!\n",
            "Still waiting!\n",
            "Still waiting!\n",
            "Still waiting!\n",
            "Still waiting!\n",
            "Still waiting!\n",
            "Still waiting!\n",
            "Still waiting!\n",
            "Still waiting!\n",
            "Still waiting!\n",
            "Still waiting!\n",
            "Still waiting!\n",
            "Still waiting!\n",
            "Still waiting!\n",
            "Still waiting!\n",
            "Still waiting!\n",
            "Still waiting!\n",
            "Still waiting!\n",
            "Still waiting!\n",
            "Still waiting!\n",
            "Still waiting!\n",
            "Still waiting!\n",
            "Still waiting!\n",
            "Still waiting!\n",
            "Still waiting!\n",
            "Still waiting!\n",
            "Still waiting!\n",
            "Still waiting!\n",
            "Still waiting!\n",
            "Still waiting!\n",
            "Still waiting!\n",
            "Still waiting!\n",
            "Still waiting!\n",
            "Still waiting!\n",
            "Still waiting!\n",
            "Still waiting!\n",
            "Still waiting!\n",
            "Still waiting!\n",
            "Still waiting!\n",
            "Still waiting!\n",
            "Still waiting!\n",
            "Still waiting!\n",
            "Still waiting!\n",
            "Still waiting!\n",
            "Still waiting!\n",
            "Still waiting!\n",
            "Still waiting!\n",
            "Still waiting!\n",
            "Still waiting!\n",
            "Still waiting!\n",
            "Still waiting!\n",
            "Still waiting!\n",
            "Still waiting!\n",
            "Still waiting!\n",
            "Still waiting!\n",
            "Still waiting!\n",
            "Still waiting!\n",
            "Still waiting!\n",
            "Still waiting!\n",
            "Still waiting!\n",
            "Still waiting!\n",
            "Still waiting!\n",
            "Still waiting!\n",
            "Still waiting!\n",
            "Still waiting!\n",
            "Still waiting!\n",
            "Still waiting!\n",
            "Still waiting!\n",
            "Still waiting!\n",
            "Still waiting!\n",
            "Still waiting!\n",
            "Still waiting!\n",
            "Still waiting!\n",
            "Still waiting!\n",
            "Still waiting!\n",
            "Still waiting!\n",
            "Still waiting!\n",
            "Still waiting!\n",
            "Still waiting!\n",
            "Still waiting!\n",
            "Still waiting!\n",
            "Still waiting!\n",
            "Still waiting!\n",
            "Still waiting!\n",
            "Still waiting!\n",
            "Still waiting!\n",
            "Still waiting!\n",
            "Still waiting!\n",
            "Still waiting!\n",
            "Still waiting!\n",
            "Still waiting!\n",
            "Still waiting!\n",
            "Still waiting!\n",
            "Still waiting!\n",
            "Still waiting!\n",
            "Still waiting!\n",
            "Still waiting!\n",
            "Still waiting!\n",
            "Still waiting!\n",
            "Still waiting!\n",
            "Still waiting!\n",
            "Still waiting!\n",
            "Still waiting!\n",
            "Still waiting!\n",
            "Still waiting!\n",
            "Still waiting!\n",
            "Still waiting!\n",
            "Still waiting!\n",
            "Still waiting!\n",
            "Still waiting!\n",
            "Still waiting!\n",
            "Still waiting!\n",
            "Still waiting!\n",
            "Still waiting!\n",
            "Still waiting!\n",
            "Still waiting!\n",
            "Still waiting!\n",
            "Still waiting!\n",
            "Still waiting!\n",
            "Still waiting!\n",
            "Still waiting!\n",
            "Still waiting!\n",
            "Still waiting!\n",
            "Still waiting!\n",
            "Still waiting!\n",
            "Still waiting!\n",
            "Still waiting!\n",
            "Still waiting!\n",
            "Still waiting!\n",
            "Still waiting!\n",
            "Still waiting!\n",
            "Still waiting!\n",
            "Still waiting!\n",
            "Still waiting!\n",
            "Still waiting!\n",
            "Still waiting!\n",
            "Still waiting!\n",
            "Still waiting!\n",
            "Still waiting!\n",
            "Still waiting!\n",
            "Still waiting!\n",
            "Still waiting!\n",
            "Still waiting!\n",
            "Still waiting!\n",
            "Still waiting!\n",
            "Still waiting!\n",
            "Still waiting!\n",
            "Still waiting!\n",
            "Still waiting!\n",
            "Still waiting!\n",
            "Still waiting!\n",
            "Still waiting!\n",
            "Still waiting!\n",
            "Still waiting!\n",
            "Still waiting!\n",
            "Still waiting!\n",
            "Still waiting!\n",
            "Still waiting!\n",
            "Still waiting!\n",
            "Still waiting!\n",
            "Still waiting!\n",
            "Still waiting!\n",
            "Still waiting!\n",
            "Still waiting!\n",
            "Still waiting!\n",
            "Still waiting!\n",
            "Still waiting!\n",
            "Still waiting!\n",
            "Still waiting!\n",
            "Still waiting!\n",
            "Still waiting!\n",
            "Still waiting!\n",
            "Still waiting!\n",
            "Still waiting!\n",
            "Still waiting!\n",
            "Still waiting!\n",
            "Still waiting!\n",
            "Still waiting!\n",
            "Still waiting!\n",
            "Still waiting!\n",
            "Still waiting!\n",
            "Still waiting!\n",
            "Still waiting!\n",
            "Still waiting!\n",
            "Still waiting!\n",
            "Still waiting!\n",
            "Still waiting!\n",
            "Still waiting!\n",
            "Still waiting!\n",
            "Still waiting!\n",
            "Still waiting!\n",
            "Still waiting!\n",
            "Still waiting!\n",
            "Still waiting!\n",
            "Still waiting!\n",
            "Still waiting!\n",
            "Still waiting!\n",
            "Still waiting!\n",
            "Still waiting!\n",
            "Still waiting!\n",
            "Still waiting!\n",
            "Still waiting!\n",
            "Still waiting!\n",
            "Still waiting!\n",
            "Still waiting!\n",
            "Still waiting!\n",
            "Still waiting!\n",
            "Still waiting!\n",
            "Still waiting!\n",
            "Still waiting!\n",
            "Still waiting!\n",
            "Still waiting!\n",
            "Still waiting!\n",
            "Still waiting!\n",
            "Still waiting!\n",
            "Still waiting!\n",
            "Still waiting!\n",
            "Still waiting!\n",
            "Still waiting!\n",
            "Still waiting!\n",
            "Still waiting!\n",
            "Still waiting!\n",
            "Still waiting!\n",
            "Still waiting!\n",
            "Still waiting!\n",
            "Still waiting!\n",
            "Still waiting!\n",
            "Still waiting!\n",
            "Still waiting!\n",
            "Still waiting!\n",
            "Still waiting!\n",
            "Still waiting!\n",
            "Still waiting!\n",
            "Still waiting!\n",
            "Still waiting!\n",
            "Still waiting!\n",
            "Still waiting!\n",
            "Still waiting!\n",
            "Still waiting!\n",
            "Still waiting!\n",
            "Still waiting!\n",
            "Still waiting!\n",
            "Still waiting!\n",
            "Still waiting!\n",
            "Still waiting!\n",
            "Still waiting!\n",
            "Still waiting!\n",
            "Still waiting!\n",
            "Still waiting!\n",
            "Still waiting!\n",
            "Still waiting!\n",
            "Still waiting!\n",
            "Still waiting!\n",
            "Still waiting!\n",
            "Still waiting!\n",
            "Still waiting!\n",
            "Still waiting!\n",
            "Still waiting!\n",
            "Still waiting!\n",
            "Still waiting!\n",
            "Still waiting!\n",
            "Still waiting!\n",
            "Still waiting!\n",
            "Still waiting!\n",
            "Still waiting!\n",
            "Still waiting!\n",
            "Still waiting!\n",
            "Still waiting!\n",
            "Still waiting!\n",
            "Still waiting!\n",
            "Still waiting!\n",
            "Still waiting!\n",
            "Still waiting!\n",
            "Still waiting!\n",
            "Still waiting!\n",
            "Still waiting!\n",
            "Still waiting!\n",
            "Still waiting!\n",
            "Still waiting!\n",
            "Still waiting!\n",
            "Still waiting!\n",
            "Still waiting!\n",
            "Still waiting!\n",
            "Still waiting!\n",
            "Still waiting!\n",
            "Still waiting!\n",
            "Still waiting!\n",
            "Still waiting!\n",
            "Still waiting!\n",
            "Still waiting!\n",
            "Still waiting!\n",
            "Still waiting!\n",
            "Still waiting!\n",
            "Still waiting!\n",
            "Still waiting!\n",
            "Still waiting!\n",
            "Still waiting!\n",
            "Still waiting!\n",
            "Still waiting!\n",
            "Still waiting!\n",
            "Still waiting!\n",
            "Still waiting!\n",
            "Still waiting!\n",
            "Still waiting!\n",
            "Still waiting!\n",
            "Still waiting!\n",
            "Still waiting!\n",
            "Still waiting!\n",
            "Still waiting!\n",
            "Still waiting!\n",
            "Still waiting!\n",
            "Still waiting!\n",
            "Still waiting!\n",
            "Still waiting!\n",
            "Still waiting!\n",
            "Still waiting!\n",
            "Still waiting!\n",
            "Still waiting!\n",
            "Still waiting!\n",
            "Still waiting!\n",
            "Still waiting!\n",
            "Still waiting!\n",
            "Still waiting!\n",
            "Still waiting!\n",
            "Still waiting!\n",
            "Still waiting!\n",
            "Still waiting!\n",
            "Still waiting!\n",
            "Still waiting!\n",
            "Still waiting!\n",
            "Still waiting!\n",
            "Still waiting!\n",
            "Still waiting!\n",
            "Still waiting!\n",
            "Still waiting!\n",
            "Still waiting!\n",
            "Still waiting!\n",
            "Still waiting!\n",
            "Still waiting!\n",
            "Still waiting!\n",
            "Still waiting!\n",
            "Still waiting!\n",
            "Still waiting!\n",
            "Still waiting!\n",
            "Still waiting!\n",
            "Still waiting!\n",
            "Still waiting!\n",
            "Still waiting!\n",
            "Still waiting!\n",
            "Still waiting!\n",
            "Still waiting!\n",
            "Still waiting!\n",
            "Still waiting!\n",
            "Still waiting!\n",
            "Still waiting!\n",
            "Still waiting!\n",
            "Still waiting!\n",
            "Still waiting!\n",
            "Still waiting!\n",
            "Still waiting!\n",
            "Still waiting!\n",
            "Still waiting!\n",
            "Still waiting!\n",
            "Still waiting!\n",
            "Still waiting!\n",
            "Still waiting!\n",
            "Still waiting!\n",
            "Still waiting!\n",
            "Still waiting!\n",
            "Still waiting!\n",
            "Still waiting!\n",
            "Still waiting!\n",
            "Still waiting!\n",
            "Still waiting!\n",
            "Still waiting!\n",
            "Still waiting!\n",
            "Still waiting!\n",
            "Still waiting!\n",
            "Still waiting!\n",
            "Still waiting!\n",
            "Still waiting!\n",
            "Still waiting!\n",
            "Still waiting!\n",
            "Still waiting!\n",
            "Still waiting!\n",
            "Still waiting!\n",
            "Still waiting!\n",
            "Still waiting!\n",
            "Still waiting!\n",
            "Still waiting!\n",
            "Still waiting!\n",
            "Still waiting!\n",
            "Still waiting!\n",
            "Still waiting!\n",
            "Still waiting!\n",
            "Still waiting!\n",
            "Still waiting!\n",
            "Still waiting!\n",
            "Still waiting!\n",
            "Still waiting!\n",
            "Still waiting!\n",
            "Still waiting!\n",
            "Still waiting!\n",
            "Still waiting!\n",
            "Still waiting!\n",
            "Still waiting!\n",
            "Still waiting!\n",
            "Still waiting!\n",
            "Still waiting!\n",
            "Still waiting!\n",
            "Still waiting!\n",
            "Still waiting!\n",
            "Still waiting!\n",
            "Still waiting!\n",
            "Still waiting!\n",
            "Still waiting!\n",
            "Still waiting!\n",
            "Still waiting!\n",
            "Still waiting!\n",
            "Still waiting!\n",
            "Still waiting!\n",
            "Still waiting!\n",
            "Still waiting!\n",
            "We are at 29 seconds!\n"
          ]
        }
      ]
    },
    {
      "cell_type": "code",
      "source": [
        "# A better way of doing it\n",
        "while datetime.now().second != wait_until:\n",
        "    pass\n",
        "    \n",
        "print(f'We are at {wait_until} seconds!')"
      ],
      "metadata": {
        "colab": {
          "base_uri": "https://localhost:8080/"
        },
        "id": "YBpuBghuAQVI",
        "outputId": "f9582875-3c86-4638-e416-16d4136fe581"
      },
      "execution_count": null,
      "outputs": [
        {
          "output_type": "stream",
          "name": "stdout",
          "text": [
            "We are at 29 seconds!\n"
          ]
        }
      ]
    },
    {
      "cell_type": "code",
      "source": [
        "wait_until = datetime.now().second + 2\n",
        "\n",
        "while True:\n",
        "    if datetime.now().second < wait_until:\n",
        "        continue\n",
        "    break   # break out of the current loop that it is in \n",
        "    \n",
        "    \n",
        "print(f'We are at {wait_until} seconds!')"
      ],
      "metadata": {
        "colab": {
          "base_uri": "https://localhost:8080/"
        },
        "id": "E7x6yvWVAUqy",
        "outputId": "2da4c744-73e3-4b28-f8ae-8a4862056c26"
      },
      "execution_count": null,
      "outputs": [
        {
          "output_type": "stream",
          "name": "stdout",
          "text": [
            "We are at 6 seconds!\n"
          ]
        }
      ]
    },
    {
      "cell_type": "markdown",
      "source": [
        "### For loops"
      ],
      "metadata": {
        "id": "DUVhR7CCwtL-"
      }
    },
    {
      "cell_type": "code",
      "source": [
        "myList = [1,2,3,4,5]\n",
        "for item in myList:\n",
        "    print(item)"
      ],
      "metadata": {
        "id": "4DuKWiLFwoTH"
      },
      "execution_count": null,
      "outputs": []
    },
    {
      "cell_type": "code",
      "source": [
        "animalLookup = {\n",
        "    'a': ['aardvark', 'antelope'],\n",
        "    'b': ['bear'],\n",
        "    'c': ['cat'],\n",
        "    'd': ['dog'],\n",
        "}\n",
        "\n",
        "for letter, animals in animalLookup.items():\n",
        "    pass"
      ],
      "metadata": {
        "id": "mha9kfr-BsTo"
      },
      "execution_count": null,
      "outputs": []
    },
    {
      "cell_type": "code",
      "source": [
        "for letter, animals in animalLookup.items():\n",
        "    if len(animals) > 1:\n",
        "        continue\n",
        "    print(f'Only one animal: {animals[0]}')"
      ],
      "metadata": {
        "id": "dHFe4vPhBwAz"
      },
      "execution_count": null,
      "outputs": []
    },
    {
      "cell_type": "code",
      "source": [
        "for letter, animals in animalLookup.items():\n",
        "    if len(animals) > 1:\n",
        "        print(f'Found {len(animals)}: {animals}')\n",
        "        break"
      ],
      "metadata": {
        "id": "bCRB7STLByIx"
      },
      "execution_count": null,
      "outputs": []
    },
    {
      "cell_type": "code",
      "source": [
        "for number in range(2, 100):\n",
        "    for factor in range(2, int(number**0.5) + 1):\n",
        "        if number % factor == 0:\n",
        "            break\n",
        "    else:\n",
        "        print(f'{number} is prime!')"
      ],
      "metadata": {
        "id": "CrO2bFIUB0vb"
      },
      "execution_count": null,
      "outputs": []
    },
    {
      "cell_type": "markdown",
      "source": [
        "# Advanced Python"
      ],
      "metadata": {
        "id": "MP1UX185Fs9W"
      }
    },
    {
      "cell_type": "markdown",
      "source": [
        "## 1. Python Language features"
      ],
      "metadata": {
        "id": "VjJJ6pEoLp24"
      }
    },
    {
      "cell_type": "markdown",
      "source": [
        "### 1.1 - Coding style"
      ],
      "metadata": {
        "id": "m-j-x9xvMF2R"
      }
    },
    {
      "cell_type": "code",
      "source": [
        "# imports go on their own lines\n",
        "import sys\n",
        "import os\n",
        "\n",
        "\n",
        "# two blank lines separate classes from other functions\n",
        "class MyClass():\n",
        "    def __init__(self):\n",
        "        self.prop1 = \"my class\"\n",
        "\n",
        "    # within classes, one blank line separates methods\n",
        "    def method1(self, arg1):\n",
        "        pass\n",
        "\n",
        "\n",
        "def main():\n",
        "    # Long comments, like this one that flow across several lines, are\n",
        "    # limited to 72 characters instead of 79 for lines of code.\n",
        "    cls1 = MyClass()\n",
        "    cls1.prop1 = \"hello world\"\n",
        "\n",
        "\n",
        "if __name__ == \"__main__\":\n",
        "    main()"
      ],
      "metadata": {
        "id": "5YQXXajoMFLC"
      },
      "execution_count": null,
      "outputs": []
    },
    {
      "cell_type": "markdown",
      "source": [
        "### 1.2 - Strings"
      ],
      "metadata": {
        "id": "hkeBhj5OLtvN"
      }
    },
    {
      "cell_type": "code",
      "source": [
        "# strings and bytes are not directly interchangeable\n",
        "# strings contain unicode, bytes are raw 8-bit values\n",
        "\n",
        "def main():\n",
        "    # define some starting values\n",
        "    b = bytes([0x41, 0x42, 0x43, 0x44])\n",
        "    print(b)\n",
        "    \n",
        "    s = \"This is a string\"\n",
        "    print(s)\n",
        "    \n",
        "    # Try combining them. This will cause an error:\n",
        "    # print(s+b)\n",
        "    \n",
        "    # Bytes and strings need to be properly encoded and decoded\n",
        "    # before you can work on them together\n",
        "    s2 = b.decode('utf-8')\n",
        "    print(s+s2)\n",
        "    \n",
        "    b2 = s.encode('utf-8')\n",
        "    print(b+b2)\n",
        "    \n",
        "    # encode the string as UTF-32\n",
        "    b3 = s.encode('utf-32')\n",
        "    print(b3)\n",
        "    \n",
        "if __name__ == \"__main__\":\n",
        "    main()"
      ],
      "metadata": {
        "id": "hdXL36CiFuCJ"
      },
      "execution_count": null,
      "outputs": []
    },
    {
      "cell_type": "markdown",
      "source": [
        "### 1.3 - Template strings"
      ],
      "metadata": {
        "id": "SRWXv-nML1Yn"
      }
    },
    {
      "cell_type": "code",
      "source": [
        "# demonstrate template string functions\n",
        "\n",
        "from string import Template\n",
        "\n",
        "\n",
        "def main():\n",
        "    # Usual string formatting with format()\n",
        "    str1 = \"You're watching {0} by {1}\".format(\"Advanced Python\", \"Joe Marini\")\n",
        "    print(str1)\n",
        "    \n",
        "    # create a template with placeholders\n",
        "    templ = Template(\"You're watching ${title} by ${author}\")\n",
        "    \n",
        "    # use the substitute method with keyword arguments\n",
        "    str2 = templ.substitute(title=\"Advanced Python\", author=\"Joe Marini\")\n",
        "    print(str2)\n",
        "    \n",
        "    # use the substitute method with a dictionary\n",
        "    data = { \n",
        "        \"author\": \"Joe Marini\",\n",
        "        \"title\": \"Advanced Python\"\n",
        "    }\n",
        "    str3 = templ.substitute(data)    \n",
        "    print(str3)\n",
        "\n",
        "    \n",
        "if __name__ == \"__main__\":\n",
        "    main()"
      ],
      "metadata": {
        "id": "d_AEBr80L3OA"
      },
      "execution_count": null,
      "outputs": []
    },
    {
      "cell_type": "markdown",
      "source": [
        "## 2. Built in functions"
      ],
      "metadata": {
        "id": "Uh-2VwaAMLdA"
      }
    },
    {
      "cell_type": "markdown",
      "source": [
        "### 2.1 - Utilities"
      ],
      "metadata": {
        "id": "ZM0Pq9z0MVW0"
      }
    },
    {
      "cell_type": "code",
      "source": [
        "# demonstrate built-in utility functions\n",
        "\n",
        "\n",
        "def main():\n",
        "    # use any() and all() to test sequences for boolean values\n",
        "    list1 = [1, 2, 3, 0, 5, 6]\n",
        "    \n",
        "    # any will return true if any of the sequence values are true\n",
        "    print(any(list1))\n",
        "    \n",
        "    # all will return true only if all values are true\n",
        "    print(all(list1))\n",
        "    \n",
        "    # min and max will return minimum and maximum values in a sequence\n",
        "    print(\"min: \", min(list1))\n",
        "    print(\"max: \", max(list1))    \n",
        "    \n",
        "    # Use sum() to sum up all of the values in a sequence\n",
        "    print(\"sum: \", sum(list1))\n",
        "    \n",
        "    \n",
        "if __name__ == \"__main__\":\n",
        "    main()\n",
        "    "
      ],
      "metadata": {
        "id": "fnLEHduRMRNL"
      },
      "execution_count": null,
      "outputs": []
    },
    {
      "cell_type": "markdown",
      "source": [
        "### 2.2 - Iterators"
      ],
      "metadata": {
        "id": "wAkX3TMeMfGj"
      }
    },
    {
      "cell_type": "code",
      "source": [
        "# use iterator functions like enumerate, zip, iter, next\n",
        "\n",
        "\n",
        "def main():\n",
        "    # define a list of days in English and French\n",
        "    days = [\"Sun\", \"Mon\", \"Tue\", \"Wed\", \"Thu\", \"Fri\", \"Sat\"]\n",
        "    daysFr = [\"Dim\", \"Lun\", \"Mar\", \"Mer\", \"Jeu\", \"Ven\", \"Sam\"]\n",
        "\n",
        "    # use iter to create an iterator over a collection\n",
        "    i = iter(days)\n",
        "    print(next(i))  # Sun\n",
        "    print(next(i))  # Mon\n",
        "    print(next(i))  # Tue\n",
        "\n",
        "    # iterate using a function and a sentinel\n",
        "    with open(\"testfile.txt\", \"r\") as fp:\n",
        "        for line in iter(fp.readline, ''):\n",
        "            print(line)\n",
        "\n",
        "    # use regular interation over the days\n",
        "    for m in range(len(days)):\n",
        "        print(m+1, days[m])\n",
        "\n",
        "    # using enumerate reduces code and provides a counter\n",
        "    for i, m in enumerate(days, start=1):\n",
        "        print(i, m)\n",
        "\n",
        "    # use zip to combine sequences\n",
        "    for m in zip(days, daysFr):\n",
        "        print(m)\n",
        "\n",
        "    for i, m in enumerate(zip(days, daysFr), start=1):\n",
        "        print(i, m[0], \"=\", m[1], \"in French\")\n",
        "\n",
        "\n",
        "if __name__ == \"__main__\":\n",
        "    main()"
      ],
      "metadata": {
        "id": "EepGkxw2MlTs"
      },
      "execution_count": null,
      "outputs": []
    },
    {
      "cell_type": "markdown",
      "source": [
        "### 2.3 - Transforms"
      ],
      "metadata": {
        "id": "u9QUFXGaMh_p"
      }
    },
    {
      "cell_type": "code",
      "source": [
        "# use transform functions like sorted, filter, map\n",
        "\n",
        "\n",
        "def filterFunc(x):\n",
        "    if x % 2 == 0:\n",
        "        return False\n",
        "    return True\n",
        "\n",
        "\n",
        "def filterFunc2(x):\n",
        "    if x.isupper():\n",
        "        return False\n",
        "    return True\n",
        "\n",
        "\n",
        "def squareFunc(x):\n",
        "    return x**2\n",
        "\n",
        "\n",
        "def toGrade(x):\n",
        "    if (x >= 90):\n",
        "        return \"A\"\n",
        "    elif (x >= 80 and x < 90):\n",
        "        return \"B\"\n",
        "    elif (x >= 70 and x < 80):\n",
        "        return \"C\"\n",
        "    elif (x >= 65 and x < 70):\n",
        "        return \"D\"\n",
        "    return \"F\"\n",
        "\n",
        "\n",
        "def main():\n",
        "    # define some sample sequences to operate on\n",
        "    nums = (1, 8, 4, 5, 13, 26, 381, 410, 58, 47)\n",
        "    chars = \"abcDeFGHiJklmnoP\"\n",
        "    grades = (81, 89, 94, 78, 61, 66, 99, 74)\n",
        "\n",
        "    # use filter to remove items from a list\n",
        "    odds = list(filter(filterFunc, nums))\n",
        "    print(odds)\n",
        "\n",
        "    # use filter on non-numeric sequence\n",
        "    lowers = list(filter(filterFunc2, chars))\n",
        "    print(lowers)\n",
        "\n",
        "    # use map to create a new sequence of values\n",
        "    squares = list(map(squareFunc, nums))\n",
        "    print(squares)\n",
        "\n",
        "    # use sorted and map to change numbers to grades\n",
        "    grades = sorted(grades)\n",
        "    letters = list(map(toGrade, grades))\n",
        "    print(letters)\n",
        "\n"
      ],
      "metadata": {
        "id": "loBqB5KSMlyF"
      },
      "execution_count": null,
      "outputs": []
    },
    {
      "cell_type": "markdown",
      "source": [
        "### 2.4 - Itertools"
      ],
      "metadata": {
        "id": "cLLzM_K9Mm0i"
      }
    },
    {
      "cell_type": "code",
      "source": [
        "# advanced iteration functions in the itertools package\n",
        "\n",
        "import itertools\n",
        "\n",
        "\n",
        "def testFunction(x):\n",
        "    return x < 40\n",
        "\n",
        "\n",
        "def main():\n",
        "    # cycle iterator can be used to cycle over a collection\n",
        "    seq1 = [\"Joe\", \"John\", \"Mike\"]\n",
        "    cycle1 = itertools.cycle(seq1)\n",
        "    print(next(cycle1))\n",
        "    print(next(cycle1))\n",
        "    print(next(cycle1))\n",
        "    print(next(cycle1))\n",
        "\n",
        "    # use count to create a simple counter\n",
        "    count1 = itertools.count(100, 10)\n",
        "    print(next(count1))\n",
        "    print(next(count1))\n",
        "    print(next(count1))\n",
        "\n",
        "    # accumulate creates an iterator that accumulates values\n",
        "    vals = [10,20,30,40,50,40,30]\n",
        "    acc = itertools.accumulate(vals, max)\n",
        "    print(list(acc))\n",
        "        \n",
        "    # use chain to connect sequences together\n",
        "    x = itertools.chain(\"ABCD\", \"1234\")\n",
        "    print(list(x))\n",
        "    \n",
        "    # dropwhile and takewhile will return values until\n",
        "    # a certain condition is met that stops them\n",
        "    print(list(itertools.dropwhile(testFunction, vals)))\n",
        "    print(list(itertools.takewhile(testFunction, vals)))\n",
        "    \n",
        "    \n",
        "if __name__ == \"__main__\":\n",
        "    main()"
      ],
      "metadata": {
        "id": "Hky4bGCrMpjS"
      },
      "execution_count": null,
      "outputs": []
    },
    {
      "cell_type": "markdown",
      "source": [
        "## 3. Advanced Python Functions"
      ],
      "metadata": {
        "id": "upOAvM24MRum"
      }
    },
    {
      "cell_type": "markdown",
      "source": [
        "### 3.1 - Docstrings"
      ],
      "metadata": {
        "id": "iIH56NOUOoKV"
      }
    },
    {
      "cell_type": "code",
      "source": [
        "# Demonstrate the use of function docstrings\n",
        "\n",
        "\n",
        "def myFunction(arg1, arg2=None):\n",
        "    \"\"\"myFunction(arg1, arg2=None) --> Doesn't really do anything special.\n",
        "\n",
        "    Parameters:\n",
        "    arg1: the first argument. Whatever you feel like passing.\n",
        "    arg2: the second argument. Defaults to None. Whatever makes you happy.\n",
        "    \"\"\"\n",
        "    print(arg1, arg2)\n",
        "\n",
        "\n",
        "def main():\n",
        "    print(myFunction.__doc__)\n",
        "\n",
        "\n",
        "if __name__ == \"__main__\":\n",
        "    main()"
      ],
      "metadata": {
        "id": "VUDBnzHLMUsi"
      },
      "execution_count": null,
      "outputs": []
    },
    {
      "cell_type": "markdown",
      "source": [
        "### 3.2 - Variable arguments"
      ],
      "metadata": {
        "id": "2ZSq0v0qOr9C"
      }
    },
    {
      "cell_type": "code",
      "source": [
        "# Demonstrate the use of variable argument lists\n",
        "\n",
        "\n",
        "# define a function that takes variable arguments\n",
        "def addition(base, *args):\n",
        "    result = 0\n",
        "    for arg in args:\n",
        "        result += arg\n",
        "\n",
        "    return result\n",
        "\n",
        "\n",
        "def main():\n",
        "    # pass different arguments\n",
        "    print(addition(5, 10, 15, 20))\n",
        "    print(addition(1, 2, 3))\n",
        "\n",
        "    # pass an existing list\n",
        "    myNums = [5, 10, 15, 20]\n",
        "    print(addition(*myNums))\n",
        "\n",
        "\n",
        "if __name__ == \"__main__\":\n",
        "    main()"
      ],
      "metadata": {
        "id": "YzMgvHLwO7Uj"
      },
      "execution_count": null,
      "outputs": []
    },
    {
      "cell_type": "markdown",
      "source": [
        "### 3.3 - Lambda functions"
      ],
      "metadata": {
        "id": "cRPYS4IyOzKG"
      }
    },
    {
      "cell_type": "code",
      "source": [
        "# Use lambdas as in-place functions\n",
        "\n",
        "\n",
        "def CelsisusToFahrenheit(temp):\n",
        "    return (temp * 9/5) + 32\n",
        "\n",
        "\n",
        "def FahrenheitToCelsisus(temp):\n",
        "    return (temp-32) * 5/9\n",
        "\n",
        "\n",
        "def main():\n",
        "    ctemps = [0, 12, 34, 100]\n",
        "    ftemps = [32, 65, 100, 212]\n",
        "\n",
        "    # Use regular functions to convert temps\n",
        "    print(list(map(FahrenheitToCelsisus, ftemps)))\n",
        "    print(list(map(CelsisusToFahrenheit, ctemps)))\n",
        "\n",
        "    # Use lambdas to accomplish the same thing\n",
        "    print(list(map(lambda t: (t-32) * 5/9, ftemps)))\n",
        "    print(list(map(lambda t: (t * 9/5) + 32, ctemps)))\n",
        "\n",
        "\n",
        "if __name__ == \"__main__\":\n",
        "    main()"
      ],
      "metadata": {
        "id": "CEV9atz-O2Um"
      },
      "execution_count": null,
      "outputs": []
    },
    {
      "cell_type": "markdown",
      "source": [
        "### 3.4 - Keyword-only arguments"
      ],
      "metadata": {
        "id": "iwZkky14O28D"
      }
    },
    {
      "cell_type": "code",
      "source": [
        "# Demonstrate the use of keyword-only arguments\n",
        "\n",
        "\n",
        "# use keyword-only arguments to help ensure code clarity\n",
        "def myFunction(arg1, arg2, *, suppressExceptions=False):\n",
        "    print(arg1, arg2, suppressExceptions)\n",
        "\n",
        "\n",
        "def main():\n",
        "    # try to call the function without the keyword\n",
        "    # myFunction(1, 2, True)\n",
        "    myFunction(1, 2, suppressExceptions=True)\n",
        "\n",
        "\n",
        "if __name__ == \"__main__\":\n",
        "    main()"
      ],
      "metadata": {
        "id": "JB3FKa1OO7sz"
      },
      "execution_count": null,
      "outputs": []
    },
    {
      "cell_type": "markdown",
      "source": [
        "## 4. Advanced Collections"
      ],
      "metadata": {
        "id": "3yle-utsOeCc"
      }
    },
    {
      "cell_type": "markdown",
      "source": [
        "### 4.1 - Namedtuple"
      ],
      "metadata": {
        "id": "smC2pcTZPQPm"
      }
    },
    {
      "cell_type": "code",
      "source": [
        "# Demonstrate the usage of namdtuple objects\n",
        "\n",
        "import collections\n",
        "\n",
        "\n",
        "def main():\n",
        "    # create a Point namedtuple\n",
        "    Point = collections.namedtuple(\"Point\", \"x y\")\n",
        "\n",
        "    p1 = Point(10, 20)\n",
        "    p2 = Point(30, 40)\n",
        "\n",
        "    print(p1, p2)\n",
        "    print(p1.x, p1.y)\n",
        "\n",
        "    # use _replace to create a new instance\n",
        "    p1 = p1._replace(x=100)\n",
        "    print(p1)\n",
        "\n",
        "\n",
        "if __name__ == \"__main__\":\n",
        "    main()"
      ],
      "metadata": {
        "id": "Dr4z3KsROfxO"
      },
      "execution_count": null,
      "outputs": []
    },
    {
      "cell_type": "markdown",
      "source": [
        "### 4.2 - defaultdict"
      ],
      "metadata": {
        "id": "WeNy6SL7PYYL"
      }
    },
    {
      "cell_type": "code",
      "source": [
        "# Demonstrate the usage of defaultdict objects\n",
        "\n",
        "from collections import defaultdict\n",
        "\n",
        "\n",
        "def main():\n",
        "    # define a list of items that we want to count\n",
        "    fruits = ['apple', 'pear', 'orange', 'banana',\n",
        "              'apple', 'grape', 'banana', 'banana']\n",
        "\n",
        "    # use a dictionary to count each element\n",
        "    fruitCounter = defaultdict(int)\n",
        "\n",
        "    # Count the elements in the list\n",
        "    for fruit in fruits:\n",
        "        fruitCounter[fruit] += 1\n",
        "\n",
        "    # print the result\n",
        "    for (k, v) in fruitCounter.items():\n",
        "        print(k + \": \" + str(v))\n",
        "\n",
        "\n",
        "if __name__ == \"__main__\":\n",
        "    main()"
      ],
      "metadata": {
        "id": "TIHWZpycPj_y"
      },
      "execution_count": null,
      "outputs": []
    },
    {
      "cell_type": "markdown",
      "source": [
        "### 4.3 - Counters"
      ],
      "metadata": {
        "id": "aTQeCtMWPcYL"
      }
    },
    {
      "cell_type": "code",
      "source": [
        "# Demonstrate the usage of Counter objects\n",
        "\n",
        "from collections import Counter\n",
        "\n",
        "\n",
        "def main():\n",
        "    # list of students in class 1\n",
        "    class1 = [\"Bob\", \"James\", \"Chad\", \"Darcy\", \"Penny\", \"Hannah\"\n",
        "              \"Kevin\", \"James\", \"Melanie\", \"Becky\", \"Steve\", \"Frank\"]\n",
        "\n",
        "    # list of students in class 2\n",
        "    class2 = [\"Bill\", \"Barry\", \"Cindy\", \"Debbie\", \"Frank\",\n",
        "              \"Gabby\", \"Kelly\", \"James\", \"Joe\", \"Sam\", \"Tara\", \"Ziggy\"]\n",
        "\n",
        "    # Create a Counter for class1 and class2\n",
        "    c1 = Counter(class1)\n",
        "    c2 = Counter(class2)\n",
        "\n",
        "    # How many students in class 1 named James?\n",
        "    print(c1[\"James\"])\n",
        "\n",
        "    # How many students are in class 1?\n",
        "    print(sum(c1.values()), \"students in class 1\")\n",
        "\n",
        "    # Combine the two classes\n",
        "    c1.update(class2)\n",
        "    print(sum(c1.values()), \"students in class 1 and 2\")\n",
        "\n",
        "    # What's the most common name in the two classes?\n",
        "    print(c1.most_common(3))\n",
        "\n",
        "    # Separate the classes again\n",
        "    c1.subtract(class2)\n",
        "    print(c1.most_common(1))\n",
        "\n",
        "    # What's common between the two classes?\n",
        "    print(c1 & c2)\n",
        "\n",
        "\n",
        "if __name__ == \"__main__\":\n",
        "    main()"
      ],
      "metadata": {
        "id": "O0cgPsF3PqJB"
      },
      "execution_count": null,
      "outputs": []
    },
    {
      "cell_type": "markdown",
      "source": [
        "### 4.4 - OrderedDict"
      ],
      "metadata": {
        "id": "U3_ZLhf0Pfio"
      }
    },
    {
      "cell_type": "code",
      "source": [
        "# Demonstrate the usage of OrderedDict objects\n",
        "\n",
        "from collections import OrderedDict\n",
        "\n",
        "\n",
        "def main():\n",
        "    # list of sport teams with wins and losses\n",
        "    sportTeams = [(\"Royals\", (18, 12)), (\"Rockets\", (24, 6)), \n",
        "                (\"Cardinals\", (20, 10)), (\"Dragons\", (22, 8)),\n",
        "                (\"Kings\", (15, 15)), (\"Chargers\", (20, 10)), \n",
        "                (\"Jets\", (16, 14)), (\"Warriors\", (25, 5))]\n",
        "\n",
        "    # sort the teams by number of wins\n",
        "    sortedTeams = sorted(sportTeams, key=lambda t: t[1][0], reverse=True)\n",
        "\n",
        "    # create an ordered dictionary of the teams\n",
        "    teams = OrderedDict(sortedTeams)\n",
        "    print(teams)\n",
        "\n",
        "    # Use popitem to remove the top item\n",
        "    tm, wl = teams.popitem(False)\n",
        "    print(\"Top team: \", tm, wl)\n",
        "\n",
        "    # What are next the top 4 teams?\n",
        "    for i, team in enumerate(teams, start=1):\n",
        "        print(i, team)\n",
        "        if i == 4:\n",
        "            break\n",
        "\n",
        "    # test for equality\n",
        "    a = OrderedDict({\"a\": 1, \"b\": 2, \"c\": 3})\n",
        "    b = OrderedDict({\"a\": 1, \"c\": 3, \"b\": 2})\n",
        "    print(\"Equality test: \", a == b)\n",
        "\n",
        "\n",
        "if __name__ == \"__main__\":\n",
        "    main()"
      ],
      "metadata": {
        "id": "UhCu8z5ZPuNm"
      },
      "execution_count": null,
      "outputs": []
    },
    {
      "cell_type": "markdown",
      "source": [
        "### 4.5 - Deque"
      ],
      "metadata": {
        "id": "sNQO2JEVPnK0"
      }
    },
    {
      "cell_type": "code",
      "source": [
        "# deque objects are like double-ended queues\n",
        "\n",
        "import collections\n",
        "import string\n",
        "\n",
        "\n",
        "def main():\n",
        "    # initialize a deque with lowercase letters\n",
        "    d = collections.deque(string.ascii_lowercase)\n",
        "\n",
        "    # deques support the len() function\n",
        "    print(\"Item count: \" + str(len(d)))\n",
        "\n",
        "    # deques can be iterated over\n",
        "    for elem in d:\n",
        "        print(elem.upper(), end=\",\")\n",
        "\n",
        "    # manipulate items from either end\n",
        "    d.pop()\n",
        "    d.popleft()\n",
        "    d.append(2)\n",
        "    d.appendleft(1)\n",
        "    print(d)\n",
        "\n",
        "    # rotate the deque\n",
        "    print(d)\n",
        "    d.rotate(1)\n",
        "    print(d)\n",
        "\n",
        "\n",
        "if __name__ == \"__main__\":\n",
        "    main()"
      ],
      "metadata": {
        "id": "yq4F8h_dPyV-"
      },
      "execution_count": null,
      "outputs": []
    },
    {
      "cell_type": "markdown",
      "source": [
        "## 5. Advanced classes and objects"
      ],
      "metadata": {
        "id": "41rvv_bvPNdd"
      }
    },
    {
      "cell_type": "markdown",
      "source": [
        "### 5.1 - Enumerations"
      ],
      "metadata": {
        "id": "h9wa54b3P7sa"
      }
    },
    {
      "cell_type": "code",
      "source": [
        "# define enumerations using the Enum base class\n",
        "\n",
        "from enum import Enum, unique, auto\n",
        "\n",
        "\n",
        "@unique\n",
        "class Fruit(Enum):\n",
        "    APPLE = 1\n",
        "    BANANA = 2\n",
        "    ORANGE = 3\n",
        "    TOMATO = 4\n",
        "    PEAR = auto()\n",
        "\n",
        "\n",
        "def main():\n",
        "    # enums have human-readable values and types\n",
        "    print(Fruit.APPLE)\n",
        "    print(type(Fruit.APPLE))\n",
        "    print(repr(Fruit.APPLE))\n",
        "\n",
        "    # enums have name and value properties\n",
        "    print(Fruit.APPLE.name, Fruit.APPLE.value)\n",
        "\n",
        "    # print the auto-generated value\n",
        "    print(Fruit.PEAR.value)\n",
        "\n",
        "    # enums are hashable - can be used as keys\n",
        "    myFruits = {}\n",
        "    myFruits[Fruit.BANANA] = \"Come Mr. Tally-man\"\n",
        "    print(myFruits[Fruit.BANANA])\n",
        "\n",
        "\n",
        "if __name__ == \"__main__\":\n",
        "    main()"
      ],
      "metadata": {
        "id": "WLLYe8N1PPyv"
      },
      "execution_count": null,
      "outputs": []
    },
    {
      "cell_type": "markdown",
      "source": [
        "### 5.2 - Class string values"
      ],
      "metadata": {
        "id": "vEQAnUigQABP"
      }
    },
    {
      "cell_type": "code",
      "source": [],
      "metadata": {
        "id": "tf9SspBDQC9O"
      },
      "execution_count": null,
      "outputs": []
    },
    {
      "cell_type": "markdown",
      "source": [
        "### 5.3 - Computed attributes"
      ],
      "metadata": {
        "id": "iWWM59-jQDYl"
      }
    },
    {
      "cell_type": "code",
      "source": [
        "# customize string representations of objects\n",
        "\n",
        "\n",
        "class myColor():\n",
        "    def __init__(self):\n",
        "        self.red = 50\n",
        "        self.green = 75\n",
        "        self.blue = 100\n",
        "\n",
        "    # use getattr to dynamically return a value\n",
        "    def __getattr__(self, attr):\n",
        "        if attr == \"rgbcolor\":\n",
        "            return (self.red, self.green, self.blue)\n",
        "        elif attr == \"hexcolor\":\n",
        "            return \"#{0:02x}{1:02x}{2:02x}\".format(self.red, self.green, self.blue)\n",
        "        else:\n",
        "            raise AttributeError\n",
        "\n",
        "    # use setattr to dynamically return a value\n",
        "    def __setattr__(self, attr, val):\n",
        "        if attr == \"rgbcolor\":\n",
        "            self.red = val[0]\n",
        "            self.green = val[1]\n",
        "            self.blue = val[2]\n",
        "        else:\n",
        "            super().__setattr__(attr, val)\n",
        "\n",
        "    # use dir to list the available properties\n",
        "    def __dir__(self):\n",
        "        return (\"rgbolor\", \"hexcolor\")\n",
        "\n",
        "\n",
        "def main():\n",
        "    # create an instance of myColor\n",
        "    cls1 = myColor()\n",
        "    # print the value of a computed attribute\n",
        "    print(cls1.rgbcolor)\n",
        "    print(cls1.hexcolor)\n",
        "\n",
        "    # set the value of a computed attribute\n",
        "    cls1.rgbcolor = (125, 200, 86)\n",
        "    print(cls1.rgbcolor)\n",
        "    print(cls1.hexcolor)\n",
        "\n",
        "    # access a regular attribute\n",
        "    print(cls1.red)\n",
        "\n",
        "    # list the available attributes\n",
        "    print(dir(cls1))\n",
        "\n",
        "\n",
        "if __name__ == \"__main__\":\n",
        "    main()"
      ],
      "metadata": {
        "id": "vObU5WcSQGxu"
      },
      "execution_count": null,
      "outputs": []
    },
    {
      "cell_type": "markdown",
      "source": [
        "### 5.4 - Object operations"
      ],
      "metadata": {
        "id": "1oN7LJS1QHES"
      }
    },
    {
      "cell_type": "code",
      "source": [
        "# customize string representations of objects\n",
        "\n",
        "\n",
        "class Person():\n",
        "    def __init__(self):\n",
        "        self.fname = \"Joe\"\n",
        "        self.lname = \"Marini\"\n",
        "        self.age = 25\n",
        "\n",
        "    # use __repr__ to create a string useful for debugging\n",
        "    def __repr__(self):\n",
        "        return \"<Person Class - fname:{0}, lname:{1}, age{2}>\".format(self.fname, self.lname, self.age)\n",
        "\n",
        "    # use str for a more human-readable string\n",
        "    def __str__(self):\n",
        "        return \"Person ({0} {1} is {2})\".format(self.fname, self.lname, self.age)\n",
        "\n",
        "    # use bytes to convert the informal string to a bytes object\n",
        "    def __bytes__(self):\n",
        "        val = \"Person:{0}:{1}:{2}\".format(self.fname, self.lname, self.age)\n",
        "        return bytes(val.encode('utf-8'))\n",
        "\n",
        "\n",
        "def main():\n",
        "    # create a new Person object\n",
        "    cls1 = Person()\n",
        "\n",
        "    # use different Python functions to convert it to a string\n",
        "    print(repr(cls1))\n",
        "    print(str(cls1))\n",
        "    print(\"Formatted: {0}\".format(cls1))\n",
        "    print(bytes(cls1))\n",
        "\n",
        "\n",
        "if __name__ == \"__main__\":\n",
        "    main()"
      ],
      "metadata": {
        "id": "4f8PeS6RQKo5"
      },
      "execution_count": null,
      "outputs": []
    },
    {
      "cell_type": "markdown",
      "source": [
        "### 5.5 - Object comparisons"
      ],
      "metadata": {
        "id": "9faxJYC6Qcw9"
      }
    },
    {
      "cell_type": "code",
      "source": [
        "# Use special methods to compare objects to each other\n",
        "\n",
        "\n",
        "class Employee():\n",
        "    def __init__(self, fname, lname, level, yrsService):\n",
        "        self.fname = fname\n",
        "        self.lname = lname\n",
        "        self.level = level\n",
        "        self.seniority = yrsService\n",
        "\n",
        "    # implement comparison functions by emp level\n",
        "    def __ge__(self, other):\n",
        "        if self.level == other.level:\n",
        "            return self.seniority >= other.seniority\n",
        "        return self.level >= other.level\n",
        "\n",
        "    def __gt__(self, other):\n",
        "        if self.level == other.level:\n",
        "            return self.seniority > other.seniority\n",
        "        return self.level > other.level\n",
        "\n",
        "    def __lt__(self, other):\n",
        "        if self.level == other.level:\n",
        "            return self.seniority < other.seniority\n",
        "        return self.level < other.level\n",
        "\n",
        "    def __le__(self, other):\n",
        "        if self.level == other.level:\n",
        "            return self.seniority <= other.seniority\n",
        "        return self.level <= other.level\n",
        "\n",
        "    def __eq__(self, other):\n",
        "        return self.level == other.level\n",
        "\n",
        "\n",
        "def main():\n",
        "    # define some employees\n",
        "    dept = []\n",
        "    dept.append(Employee(\"Tim\", \"Sims\", 5, 9))\n",
        "    dept.append(Employee(\"John\", \"Doe\", 4, 12))\n",
        "    dept.append(Employee(\"Jane\", \"Smith\", 6, 6))\n",
        "    dept.append(Employee(\"Rebecca\", \"Robinson\", 5, 13))\n",
        "    dept.append(Employee(\"Tyler\", \"Durden\", 5, 12))\n",
        "\n",
        "    # Who's more senior?\n",
        "    print(bool(dept[0] > dept[2]))\n",
        "    print(bool(dept[4] < dept[3]))\n",
        "\n",
        "    # sort the items\n",
        "    emps = sorted(dept)\n",
        "    for emp in emps:\n",
        "        print(emp.lname)\n",
        "\n",
        "\n",
        "if __name__ == \"__main__\":\n",
        "    main()"
      ],
      "metadata": {
        "id": "N9hXLEVbQfH_"
      },
      "execution_count": null,
      "outputs": []
    },
    {
      "cell_type": "markdown",
      "source": [
        "## 6. Using Logging"
      ],
      "metadata": {
        "id": "pOGq3l9tP40r"
      }
    },
    {
      "cell_type": "markdown",
      "source": [
        "### 6.1 - Basic logging"
      ],
      "metadata": {
        "id": "5-lLYn3JQsnE"
      }
    },
    {
      "cell_type": "code",
      "source": [
        "# demonstrate the logging api in Python\n",
        "\n",
        "# use the built-in logging module\n",
        "import logging\n",
        "\n",
        "\n",
        "def main():\n",
        "    # Use basicConfig to configure logging\n",
        "    # this is only executed once, subsequent calls to\n",
        "    # basicConfig will have no effect\n",
        "    logging.basicConfig(level=logging.DEBUG,\n",
        "                        filemode=\"w\",\n",
        "                        filename=\"output.log\")\n",
        "\n",
        "    # Try out each of the log levels\n",
        "    logging.debug(\"This is a debug-level log message\")\n",
        "    logging.info(\"This is an info-level log message\")\n",
        "    logging.warning(\"This is a warning-level message\")\n",
        "    logging.error(\"This is an error-level message\")\n",
        "    logging.critical(\"This is a critical-level message\")\n",
        "\n",
        "    # Output formatted string to the log\n",
        "    logging.info(\"Here's a {} variable and an int: {}\".format(\"string\", 10))\n",
        "\n",
        "\n",
        "if __name__ == \"__main__\":\n",
        "    main()"
      ],
      "metadata": {
        "id": "1eTkZ19eP6Oq"
      },
      "execution_count": null,
      "outputs": []
    },
    {
      "cell_type": "markdown",
      "source": [
        "### 6.2 - Custom logging"
      ],
      "metadata": {
        "id": "EXf5sZjdQu3q"
      }
    },
    {
      "cell_type": "code",
      "source": [
        "# Demonstrate how to customize logging output\n",
        "\n",
        "import logging\n",
        "\n",
        "extData = {'user': 'joem@example.com'}\n",
        "\n",
        "\n",
        "def anotherFunction():\n",
        "    logging.debug(\"This is a debug-level log message\", extra=extData)\n",
        "\n",
        "\n",
        "def main():\n",
        "    # set the output file and debug level, and\n",
        "    # use a custom formatting specification\n",
        "    fmtStr = \"%(asctime)s: %(levelname)s: %(funcName)s Line:%(lineno)d User:%(user)s %(message)s\"\n",
        "    dateStr = \"%m/%d/%Y %I:%M:%S %p\"\n",
        "    logging.basicConfig(filename=\"output.log\",\n",
        "                        level=logging.DEBUG,\n",
        "                        format=fmtStr,\n",
        "                        datefmt=dateStr)\n",
        "\n",
        "    logging.info(\"This is an info-level log message\", extra=extData)\n",
        "    logging.warning(\"This is a warning-level message\", extra=extData)\n",
        "    anotherFunction()\n",
        "\n",
        "\n",
        "if __name__ == \"__main__\":\n",
        "    main()"
      ],
      "metadata": {
        "id": "1nCVOpHbQwl0"
      },
      "execution_count": null,
      "outputs": []
    },
    {
      "cell_type": "markdown",
      "source": [
        "## 7. Python comprehensions"
      ],
      "metadata": {
        "id": "2dv-aogFQnM5"
      }
    },
    {
      "cell_type": "markdown",
      "source": [
        "### 7.1 - List Comprehensions"
      ],
      "metadata": {
        "id": "ViIFxIEUQ3oS"
      }
    },
    {
      "cell_type": "code",
      "source": [
        "# Demonstrate how to use list comprehensions\n",
        "\n",
        "\n",
        "def main():\n",
        "    # define two lists of numbers\n",
        "    evens = [2, 4, 6, 8, 10, 12, 14, 16, 18, 20]\n",
        "    odds = [1, 3, 5, 7, 9, 11, 13, 15, 17, 19]\n",
        "\n",
        "    # Perform a mapping and filter function on a list\n",
        "    evenSquared = list(\n",
        "        map(lambda e: e**2, filter(lambda e: e > 4 and e < 16, evens)))\n",
        "    print(evenSquared)\n",
        "\n",
        "    # Derive a new list of numbers frm a given list\n",
        "    evenSquared = [e ** 2 for e in evens]\n",
        "    print(evenSquared)\n",
        "\n",
        "    # Limit the items operated on with a predicate condition\n",
        "    oddSquared = [e ** 2 for e in odds if e > 3 and e < 17]\n",
        "    print(oddSquared)\n",
        "\n",
        "\n",
        "if __name__ == \"__main__\":\n",
        "    main()"
      ],
      "metadata": {
        "id": "eJ84gV6yQorN"
      },
      "execution_count": null,
      "outputs": []
    },
    {
      "cell_type": "markdown",
      "source": [
        "### 7.2 - Dictionary comprehensions"
      ],
      "metadata": {
        "id": "9Zh4z73tQ-RT"
      }
    },
    {
      "cell_type": "code",
      "source": [
        "# Demonstrate how to use dictionary comprehensions\n",
        "\n",
        "\n",
        "def main():\n",
        "    # define a list of temperature values\n",
        "    ctemps = [0, 12, 34, 100]\n",
        "\n",
        "    # Use a comprehension to build a dictionary\n",
        "    tempDict = {t: (t * 9/5) + 32 for t in ctemps if t < 100}\n",
        "    print(tempDict)\n",
        "    print(tempDict[12])\n",
        "\n",
        "    # Merge two dictionaries with a comprehension\n",
        "    team1 = {\"Jones\": 24, \"Jameson\": 18, \"Smith\": 58, \"Burns\": 7}\n",
        "    team2 = {\"White\": 12, \"Macke\": 88, \"Perce\": 4}\n",
        "    newTeam = {k: v for team in (team1, team2) for k, v in team.items()}\n",
        "    print(newTeam)\n",
        "\n",
        "\n",
        "if __name__ == \"__main__\":\n",
        "    main()"
      ],
      "metadata": {
        "id": "UdgNMX-jRBB7"
      },
      "execution_count": null,
      "outputs": []
    },
    {
      "cell_type": "markdown",
      "source": [
        "### 7.3 - Set comprehensions"
      ],
      "metadata": {
        "id": "4GQHJkQ-RFcW"
      }
    },
    {
      "cell_type": "code",
      "source": [
        "# Demonstrate how to use set comprehensions\n",
        "\n",
        "\n",
        "def main():\n",
        "    # define a list of temperature data points\n",
        "    ctemps = [5, 10, 12, 14, 10, 23, 41, 30, 12, 24, 12, 18, 29]\n",
        "\n",
        "    # build a set of unique Fahrenheit temperatures\n",
        "    ftemps1 = [(t * 9/5) + 32 for t in ctemps]\n",
        "    ftemps2 = {(t * 9/5) + 32 for t in ctemps}\n",
        "    print(ftemps1)\n",
        "    print(ftemps2)\n",
        "\n",
        "    # build a set from an input source\n",
        "    sTemp = \"The quick brown fox jumped over the lazy dog\"\n",
        "    chars = {c.upper() for c in sTemp if not c.isspace()}\n",
        "    print(chars)\n",
        "\n",
        "\n",
        "if __name__ == \"__main__\":\n",
        "    main()"
      ],
      "metadata": {
        "id": "XwNwCxClRIvZ"
      },
      "execution_count": null,
      "outputs": []
    },
    {
      "cell_type": "markdown",
      "source": [
        "# Design Patterns"
      ],
      "metadata": {
        "id": "Oq9VumCqQsik"
      }
    },
    {
      "cell_type": "markdown",
      "source": [
        "## Creational DP"
      ],
      "metadata": {
        "id": "QHbxAYucQxkj"
      }
    },
    {
      "cell_type": "markdown",
      "source": [
        "Creational patterns are used to create objects systematically. Main benefit is flexibility\n",
        "\n",
        "**OOP and Creational DP**: \n",
        " In the creational patterns, Polymorphism is often in use. "
      ],
      "metadata": {
        "id": "uKrme8HCZsxC"
      }
    },
    {
      "cell_type": "markdown",
      "source": [
        "### Factory"
      ],
      "metadata": {
        "id": "M7hJJcsRQ2rq"
      }
    },
    {
      "cell_type": "code",
      "source": [],
      "metadata": {
        "id": "r97rbe04Qu6g"
      },
      "execution_count": null,
      "outputs": []
    },
    {
      "cell_type": "markdown",
      "source": [
        "### Abstract"
      ],
      "metadata": {
        "id": "_Ta6rsQQQ4MH"
      }
    },
    {
      "cell_type": "code",
      "source": [],
      "metadata": {
        "id": "PZIQOzDCQ8Lg"
      },
      "execution_count": null,
      "outputs": []
    },
    {
      "cell_type": "markdown",
      "source": [
        "### Singleton"
      ],
      "metadata": {
        "id": "QoPHq9BHQ80z"
      }
    },
    {
      "cell_type": "code",
      "source": [],
      "metadata": {
        "id": "UYjnl90_Q-5n"
      },
      "execution_count": null,
      "outputs": []
    },
    {
      "cell_type": "markdown",
      "source": [
        "### Builder"
      ],
      "metadata": {
        "id": "GUsA-Th9RAFv"
      }
    },
    {
      "cell_type": "code",
      "source": [],
      "metadata": {
        "id": "4XvCcbbRRB0i"
      },
      "execution_count": null,
      "outputs": []
    },
    {
      "cell_type": "markdown",
      "source": [
        "### Prototype"
      ],
      "metadata": {
        "id": "e5zfRxIyRCko"
      }
    },
    {
      "cell_type": "code",
      "source": [],
      "metadata": {
        "id": "ab2ZbjUTRHho"
      },
      "execution_count": null,
      "outputs": []
    },
    {
      "cell_type": "markdown",
      "source": [
        "## Structural DP"
      ],
      "metadata": {
        "id": "JHHzxoveRvlk"
      }
    },
    {
      "cell_type": "markdown",
      "source": [
        "We use them to establish relationships between software components.  The goal here is to satisfy specific functional or non-functional requirements. Functional requirements refer to what software does. Non-functional requirements are how well it completes its job. The question of how fast or slow software functions belongs to the nonfunctional domain. Different requirements lead to various structure's implemented instructional patterns.\n",
        "\n",
        "**OOP and Structural DP**: \n",
        " Structural patterns take advantage of inheritance. "
      ],
      "metadata": {
        "id": "1mqhYi4pZ7vs"
      }
    },
    {
      "cell_type": "markdown",
      "source": [
        "### Decorator"
      ],
      "metadata": {
        "id": "9Itaby4lRxsJ"
      }
    },
    {
      "cell_type": "markdown",
      "source": [
        "The decorator design pattern is a structural pattern that allows users to add new features to existing objects without changing their structures. Pattern makes implementing the decorator pattern very straightforward due to its built in language feature.\n",
        "\n",
        "Our challenge here is to add additional features to an existing object dynamically without using subclasses.\n",
        "* New feature to existing object \n",
        "* Dynamic changes\n",
        "* Not using subclasses "
      ],
      "metadata": {
        "id": "0PcDJI1-KWdC"
      }
    },
    {
      "cell_type": "code",
      "source": [
        "from functools import wraps \n",
        "\n",
        "def make_blink(function):\n",
        "  \"\"\"Defines the decorator\"\"\"\n",
        "\n",
        "  #This makes the decorator transparent in terms of its name and docstring\n",
        "  @wraps(function)    #add wraps and pass the function we are decorating\n",
        "\n",
        "  #Define the inner function\n",
        "  def decorator():\n",
        "    #Grab the return value of the function being decorated \n",
        "    ret = function()\n",
        "    #Add new functionality to the function being decorated  \n",
        "    return \"<blink>\" + ret + \"</blink>\"\n",
        "  "
      ],
      "metadata": {
        "id": "PPA9o1aARwzF"
      },
      "execution_count": null,
      "outputs": []
    },
    {
      "cell_type": "code",
      "source": [
        "#Apply decorator here:\n",
        "#@make_blink\n",
        "\n",
        "def hello_world():\n",
        "  \"\"\"Original function\"\"\"\n",
        "  return \"Hello, world!\"\n",
        "\n",
        "\n",
        "#Check the result of decorating\n",
        "#print(hello_world())\n",
        "\n",
        "#Check if the function name is still the same name of the function being decorated \n",
        "#print(hello_world().__name__)\n",
        "#Check if the docstring is still the same as that of the function being decorated \n",
        "#print(hello_world().__doc__)"
      ],
      "metadata": {
        "id": "MFi0P9pfM6jO"
      },
      "execution_count": null,
      "outputs": []
    },
    {
      "cell_type": "markdown",
      "source": [
        "### Proxy"
      ],
      "metadata": {
        "id": "t4lWMOH-R3As"
      }
    },
    {
      "cell_type": "code",
      "source": [],
      "metadata": {
        "id": "Z3KIR0VDR5bM"
      },
      "execution_count": null,
      "outputs": []
    },
    {
      "cell_type": "markdown",
      "source": [
        "### Adapter"
      ],
      "metadata": {
        "id": "MTof9hkiR54R"
      }
    },
    {
      "cell_type": "code",
      "source": [],
      "metadata": {
        "id": "hxvcBmYgR60q"
      },
      "execution_count": null,
      "outputs": []
    },
    {
      "cell_type": "markdown",
      "source": [
        "### Composite"
      ],
      "metadata": {
        "id": "96Bc77OnR-2t"
      }
    },
    {
      "cell_type": "code",
      "source": [],
      "metadata": {
        "id": "jygcehbfR_uG"
      },
      "execution_count": null,
      "outputs": []
    },
    {
      "cell_type": "markdown",
      "source": [
        "### Bridge"
      ],
      "metadata": {
        "id": "PneGWUgGSCD4"
      }
    },
    {
      "cell_type": "code",
      "source": [],
      "metadata": {
        "id": "zFx74-AwSCx6"
      },
      "execution_count": null,
      "outputs": []
    },
    {
      "cell_type": "markdown",
      "source": [
        "## Behavioural DP"
      ],
      "metadata": {
        "id": "BV0isU4OSF-t"
      }
    },
    {
      "cell_type": "markdown",
      "source": [
        "Behavioral patterns are the best practices of how you make your objects interact with each other. The focus here is defining the protocols between these objects when trying to work together to accomplish a common goal. Some core object oriented mechanisms or concepts are foundations for developing design pattern. \n",
        "\n",
        "**OOP and Behavioural DP**: \n",
        " Heavily use methods and their signatures"
      ],
      "metadata": {
        "id": "bdl7AOuvaQ8K"
      }
    },
    {
      "cell_type": "markdown",
      "source": [
        "### Observer"
      ],
      "metadata": {
        "id": "Yx1kv1cmSID0"
      }
    },
    {
      "cell_type": "code",
      "source": [],
      "metadata": {
        "id": "TsLI_sLmSHLx"
      },
      "execution_count": null,
      "outputs": []
    },
    {
      "cell_type": "markdown",
      "source": [
        "### Visitor"
      ],
      "metadata": {
        "id": "MJ1ZnSx_SMl6"
      }
    },
    {
      "cell_type": "code",
      "source": [],
      "metadata": {
        "id": "U7WA3bjnSOjo"
      },
      "execution_count": null,
      "outputs": []
    },
    {
      "cell_type": "markdown",
      "source": [
        "### Iterator"
      ],
      "metadata": {
        "id": "4Eym4uA-SPn-"
      }
    },
    {
      "cell_type": "code",
      "source": [],
      "metadata": {
        "id": "Wr5Fh9NUSSDS"
      },
      "execution_count": null,
      "outputs": []
    },
    {
      "cell_type": "markdown",
      "source": [
        "### Strategy"
      ],
      "metadata": {
        "id": "XhsQwQMESXmi"
      }
    },
    {
      "cell_type": "code",
      "source": [],
      "metadata": {
        "id": "81WdI1-YSYd5"
      },
      "execution_count": null,
      "outputs": []
    },
    {
      "cell_type": "markdown",
      "source": [
        "### Chain of responsibility"
      ],
      "metadata": {
        "id": "iqwC5cNtSZm4"
      }
    },
    {
      "cell_type": "code",
      "source": [
        "}"
      ],
      "metadata": {
        "id": "nnYBCWGtSbBn"
      },
      "execution_count": null,
      "outputs": []
    }
  ]
}